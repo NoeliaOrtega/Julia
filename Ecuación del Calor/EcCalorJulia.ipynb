{
 "cells": [
  {
   "cell_type": "markdown",
   "metadata": {},
   "source": [
    "# ECUACIÓN DEL CALOR PLACA"
   ]
  },
  {
   "cell_type": "code",
   "execution_count": 22,
   "metadata": {},
   "outputs": [
    {
     "data": {
      "text/plain": [
       "24"
      ]
     },
     "execution_count": 22,
     "metadata": {},
     "output_type": "execute_result"
    }
   ],
   "source": [
    "Threads.nthreads()"
   ]
  },
  {
   "cell_type": "code",
   "execution_count": 23,
   "metadata": {},
   "outputs": [],
   "source": [
    "using Gridap\n",
    "import Gridap: ∇"
   ]
  },
  {
   "cell_type": "markdown",
   "metadata": {},
   "source": [
    "## Solución exacta"
   ]
  },
  {
   "cell_type": "code",
   "execution_count": 24,
   "metadata": {},
   "outputs": [
    {
     "data": {
      "text/plain": [
       "u_exacta (generic function with 1 method)"
      ]
     },
     "execution_count": 24,
     "metadata": {},
     "output_type": "execute_result"
    }
   ],
   "source": [
    "#En primer lugar vamos a definir la expresión de la solución ya conocida\n",
    "\n",
    "u_exacta(x) = (x[1]*x[1]-x[1])*(x[2]*x[2]-x[2])*t"
   ]
  },
  {
   "cell_type": "code",
   "execution_count": 25,
   "metadata": {},
   "outputs": [
    {
     "name": "stderr",
     "output_type": "stream",
     "text": [
      "WARNING: redefining constant partition\n",
      "WARNING: redefining constant trian\n",
      "WARNING: redefining constant quad\n",
      "WARNING: redefining constant N_intervalos\n",
      "WARNING: redefining constant dt_ex\n"
     ]
    }
   ],
   "source": [
    "#Mallado\n",
    "const global domain = (0,1,0,1)\n",
    "const global partition = (20,20)\n",
    "model = CartesianDiscreteModel(domain,partition)\n",
    "model=simplexify(model)\n",
    "const global trian = Triangulation(model)\n",
    "const global degree = 1\n",
    "const global quad = CellQuadrature(trian,degree)\n",
    "const global N_intervalos = 10;\n",
    "\n",
    "const global dt_ex = 1/N_intervalos;"
   ]
  },
  {
   "cell_type": "code",
   "execution_count": 89,
   "metadata": {},
   "outputs": [
    {
     "ename": "InterruptException",
     "evalue": "InterruptException:",
     "output_type": "error",
     "traceback": [
      "InterruptException:",
      "",
      "Stacktrace:",
      " [1] #writevtk#3(::Int64, ::Int64, ::Dict{Any,Any}, ::Array{Pair{String,typeof(u_exacta)},1}, ::typeof(writevtk), ::Gridap.Geometry.UnstructuredGrid{2,2,Float64,true}, ::String) at /home/noelia/.julia/packages/Gridap/z6IdO/src/Visualization/Vtk.jl:395",
      " [2] #writevtk at ./In[89]:0 [inlined]",
      " [3] top-level scope at ./In[89]:3"
     ]
    }
   ],
   "source": [
    "for i=1:N_intervalos+1\n",
    "    t=(i-1)*dt_ex\n",
    "    writevtk(trian,\"Sol_exacta$(lpad(i,2,'0'))\",cellfields=[\"u_exacta\" => u_exacta])\n",
    "end "
   ]
  },
  {
   "cell_type": "markdown",
   "metadata": {},
   "source": [
    "## Solución numérica"
   ]
  },
  {
   "cell_type": "code",
   "execution_count": 26,
   "metadata": {},
   "outputs": [
    {
     "name": "stderr",
     "output_type": "stream",
     "text": [
      "WARNING: redefining constant n_iter\n",
      "WARNING: redefining constant T\n"
     ]
    },
    {
     "data": {
      "text/plain": [
       "11-element LinRange{Float64}:\n",
       " 0.0,0.1,0.2,0.3,0.4,0.5,0.6,0.7,0.8,0.9,1.0"
      ]
     },
     "execution_count": 26,
     "metadata": {},
     "output_type": "execute_result"
    }
   ],
   "source": [
    "#Parámetros\n",
    "t = 0.\n",
    "g(x) = 0  #valor en la frontera\n",
    "f(x) = (x[1]*x[1]-x[1])*(x[2]*x[2]-x[2]) - 2*(x[2]*x[2]-x[2])*t - (x[1]*x[1]-x[1])*2*t  #fuente de calor\n",
    "u0(x) = 0.  #valor inicial\n",
    "\n",
    "const global t_init = 0.\n",
    "const global t_end = 1.\n",
    "#n_t = 10;\n",
    "#dt = (t_end - t_init)/n_t;\n",
    "const global n_iter = 5;\n",
    "const global T = LinRange(t_init, t_end, N_intervalos+1)\n"
   ]
  },
  {
   "cell_type": "code",
   "execution_count": 27,
   "metadata": {},
   "outputs": [
    {
     "data": {
      "text/plain": [
       "TrialFESpace()"
      ]
     },
     "execution_count": 27,
     "metadata": {},
     "output_type": "execute_result"
    }
   ],
   "source": [
    "#Espacio de funciones\n",
    "const global order = 1\n",
    "V0 = TestFESpace(\n",
    "  reffe=:Lagrangian, order=order, valuetype=Float64,\n",
    "  conformity=:H1, model=model, dirichlet_tags=\"boundary\")\n",
    "\n",
    "U = TrialFESpace(V0,g)\n"
   ]
  },
  {
   "cell_type": "code",
   "execution_count": 28,
   "metadata": {},
   "outputs": [
    {
     "data": {
      "text/plain": [
       "EulerMEF (generic function with 1 method)"
      ]
     },
     "execution_count": 28,
     "metadata": {},
     "output_type": "execute_result"
    }
   ],
   "source": [
    "function EulerMEF(t_init,t_end,n_t,u0)\n",
    "    dt = (t_end - t_init)/n_t\n",
    "    u_sol = u0\n",
    "    t = t_init\n",
    "    f(x) = (x[1]*x[1]-x[1])*(x[2]*x[2]-x[2]) - 2*(x[2]*x[2]-x[2])*t - (x[1]*x[1]-x[1])*2*t\n",
    "    \n",
    "    a(u,v) = dt * beta*∇(v)*∇(u) + u*v\n",
    "    b(v) = v*dt*f + v*u0\n",
    "    \n",
    "    for i=1:n_t\n",
    "        t += dt\n",
    "        t_Ω = AffineFETerm(a,b,trian,quad)\n",
    "        op = AffineFEOperator(U,V0,t_Ω)\n",
    "        u_sol = solve(op)\n",
    "        \n",
    "        u0 = u_sol\n",
    "    end\n",
    "    return u_sol\n",
    "end \n",
    "    "
   ]
  },
  {
   "cell_type": "code",
   "execution_count": 29,
   "metadata": {},
   "outputs": [
    {
     "name": "stderr",
     "output_type": "stream",
     "text": [
      "WARNING: redefining constant t_n_c\n"
     ]
    },
    {
     "data": {
      "text/plain": [
       "G (generic function with 1 method)"
      ]
     },
     "execution_count": 29,
     "metadata": {},
     "output_type": "execute_result"
    }
   ],
   "source": [
    "t_n_f = 50;\n",
    "const global t_n_c = 10;\n",
    "\n",
    "@inline F(t1, t0, u0) =  EulerMEF(t0, t1, t_n_f,u0)\n",
    "@inline G(t1, t0, u0) =  EulerMEF(t0, t1, t_n_c,u0)"
   ]
  },
  {
   "cell_type": "code",
   "execution_count": 30,
   "metadata": {},
   "outputs": [
    {
     "name": "stderr",
     "output_type": "stream",
     "text": [
      "WARNING: redefining constant U_u0\n",
      "WARNING: redefining constant t_Ω_u0\n",
      "WARNING: redefining constant op_u0\n",
      "WARNING: redefining constant u0_guardar\n"
     ]
    },
    {
     "data": {
      "text/plain": [
       "Gridap.FESpaces.SingleFieldFEFunction{true}"
      ]
     },
     "execution_count": 30,
     "metadata": {},
     "output_type": "execute_result"
    }
   ],
   "source": [
    "#Función de Gridap con el valor inicial \n",
    "f2(x) = 0\n",
    "\n",
    "const global U_u0 = TrialFESpace(V0,g)\n",
    "const global beta =1.\n",
    "\n",
    "a_u0(u,v) =  u*v\n",
    "b_u0(v) = v*f2 \n",
    "\n",
    "const global t_Ω_u0 = AffineFETerm(a_u0,b_u0,trian,quad)\n",
    "const global op_u0 = AffineFEOperator(U_u0,V0,t_Ω_u0)\n",
    "\n",
    "const global u0_guardar = solve(op_u0)\n",
    "\n",
    "typeof(u0_guardar)"
   ]
  },
  {
   "cell_type": "code",
   "execution_count": 68,
   "metadata": {},
   "outputs": [
    {
     "data": {
      "text/plain": [
       "EDP_secuencial (generic function with 1 method)"
      ]
     },
     "execution_count": 68,
     "metadata": {},
     "output_type": "execute_result"
    }
   ],
   "source": [
    "function EDP_secuencial()\n",
    "    U = Array{Gridap.Geometry.GenericCellField{true},2}(undef, N_intervalos+1, n_iter+1);\n",
    "    F_sol = Array{Gridap.Geometry.GenericCellField{true},1}(undef, N_intervalos+1);\n",
    "\n",
    "    # 1.a) Inicialización (aproximción grosera)\n",
    "    U[1,1] = 1*u0_guardar\n",
    "\n",
    "    for n=1:N_intervalos\n",
    "        U[n+1,1] = 1*G( T[n+1],T[n],U[n,1] )\n",
    "    end\n",
    "        \n",
    "    # 1.b) Inicialización etapas parareal\n",
    "    for k=1:n_iter\n",
    "        U[1,k+1] = 1*u0_guardar\n",
    "    end\n",
    "\n",
    "    # 2) Bucle parareal\n",
    "    for k=1:n_iter\n",
    " \n",
    "        # 2.a) Aproximación fina (paralela) en cada subintervalo\n",
    "        @inbounds for n = 1:N_intervalos\n",
    "            F_sol[n] = 1*F( T[n+1], T[n], U[n,k] )\n",
    "        end\n",
    "        \n",
    "        # 2.b) Corrección secuencial\n",
    "        @inbounds for n = 1:N_intervalos\n",
    "            U[n+1, k+1] = F_sol[n] + G( T[n+1], T[n], U[n,k+1] ) - G( T[n+1], T[n], U[n,k] )\n",
    "        end\n",
    "    end\n",
    "    \n",
    "    return U\n",
    "    \n",
    "end"
   ]
  },
  {
   "cell_type": "code",
   "execution_count": 31,
   "metadata": {},
   "outputs": [
    {
     "data": {
      "text/plain": [
       "EDP_parareal (generic function with 1 method)"
      ]
     },
     "execution_count": 31,
     "metadata": {},
     "output_type": "execute_result"
    }
   ],
   "source": [
    "function EDP_parareal()\n",
    "    U = Array{Gridap.Geometry.GenericCellField{true},2}(undef, N_intervalos+1, n_iter+1);\n",
    "    F_sol = Array{Gridap.Geometry.GenericCellField{true},1}(undef, N_intervalos+1);\n",
    "\n",
    "    # 1.a) Inicialización (aproximción grosera)\n",
    "    U[1,1] = 1*u0_guardar\n",
    "\n",
    "    for n=1:N_intervalos\n",
    "        U[n+1,1] = 1*G( T[n+1],T[n],U[n,1] )\n",
    "    end\n",
    "        \n",
    "    # 1.b) Inicialización etapas parareal\n",
    "    @inbounds Threads.@threads for k=1:n_iter\n",
    "        U[1,k+1] = 1*u0_guardar\n",
    "    end\n",
    "\n",
    "    # 2) Bucle parareal\n",
    "    for k=1:n_iter\n",
    " \n",
    "        # 2.a) Aproximación fina (paralela) en cada subintervalo\n",
    "        @inbounds Threads.@threads for n = 1:N_intervalos\n",
    "            F_sol[n] = 1*F( T[n+1], T[n], U[n,k] )\n",
    "        end\n",
    "        \n",
    "        # 2.b) Corrección secuencial\n",
    "        @inbounds for n = 1:N_intervalos\n",
    "            U[n+1, k+1] = F_sol[n] + G( T[n+1], T[n], U[n,k+1] ) - G( T[n+1], T[n], U[n,k] )\n",
    "        end\n",
    "    end\n",
    "    \n",
    "    return U\n",
    "    \n",
    "end"
   ]
  },
  {
   "cell_type": "code",
   "execution_count": 11,
   "metadata": {},
   "outputs": [
    {
     "data": {
      "text/plain": [
       "EulerMEF2 (generic function with 1 method)"
      ]
     },
     "execution_count": 11,
     "metadata": {},
     "output_type": "execute_result"
    }
   ],
   "source": [
    "function EulerMEF2(t_init,t_end,n_t,u0,t_n_f)\n",
    "    U_save = Array{Gridap.Geometry.GenericCellField{true},1}(undef, N_intervalos+1);\n",
    "    U_save[1] = 1*u0_guardar\n",
    "    \n",
    "    cont = 2\n",
    "    \n",
    "    dt = (t_end - t_init)/n_t\n",
    "    u_sol = u0\n",
    "    t = t_init\n",
    "    f(x) = (x[1]*x[1]-x[1])*(x[2]*x[2]-x[2]) - 2*(x[2]*x[2]-x[2])*t - (x[1]*x[1]-x[1])*2*t\n",
    "    \n",
    "    a(u,v) = dt * beta*∇(v)*∇(u) + u*v\n",
    "    b(v) = v*dt*f + v*u0\n",
    "    \n",
    "    for i=1:n_t\n",
    "        t += dt\n",
    "        t_Ω = AffineFETerm(a,b,trian,quad)\n",
    "        op = AffineFEOperator(U,V0,t_Ω)\n",
    "        u_sol = solve(op)\n",
    "        if i % t_n_f == 0\n",
    "            U_save[cont] = 1*u_sol\n",
    "            cont += 1\n",
    "        end\n",
    "        u0 = u_sol\n",
    "    end\n",
    "    return U_save\n",
    "end "
   ]
  },
  {
   "cell_type": "code",
   "execution_count": 99,
   "metadata": {},
   "outputs": [
    {
     "data": {
      "text/plain": [
       "6000"
      ]
     },
     "execution_count": 99,
     "metadata": {},
     "output_type": "execute_result"
    }
   ],
   "source": [
    "iteraciones_f = t_n_f*N_intervalos"
   ]
  },
  {
   "cell_type": "code",
   "execution_count": 103,
   "metadata": {},
   "outputs": [
    {
     "name": "stdout",
     "output_type": "stream",
     "text": [
      " 58.045802 seconds (138.98 M allocations: 14.294 GiB, 9.26% gc time)\n"
     ]
    }
   ],
   "source": [
    "@time U3 = EulerMEF2(t_init, t_end,iteraciones_f,u0_guardar,t_n_f);"
   ]
  },
  {
   "cell_type": "code",
   "execution_count": 32,
   "metadata": {},
   "outputs": [
    {
     "name": "stdout",
     "output_type": "stream",
     "text": [
      " 33.465567 seconds (186.70 M allocations: 13.892 GiB, 20.55% gc time)\n"
     ]
    }
   ],
   "source": [
    "@time U2 = EDP_parareal();"
   ]
  },
  {
   "cell_type": "code",
   "execution_count": 15,
   "metadata": {},
   "outputs": [],
   "source": [
    "for i=1:N_intervalos+1\n",
    "    sol = U2[i,end]\n",
    "    writevtk(trian,\"Sol_numerica$(lpad(i,2,'0'))\",cellfields=[\"sol\" => sol])\n",
    "end "
   ]
  },
  {
   "cell_type": "markdown",
   "metadata": {},
   "source": [
    "## Error"
   ]
  },
  {
   "cell_type": "code",
   "execution_count": 16,
   "metadata": {},
   "outputs": [],
   "source": [
    "for i=1:N_intervalos+1\n",
    "    t=(i-1)*dt_ex\n",
    "    e = u_exacta - U2[i,end]\n",
    "    writevtk(trian,\"Error_t$(lpad(i,2,'0'))\",cellfields=[\"e\" => e])\n",
    "end "
   ]
  },
  {
   "cell_type": "code",
   "execution_count": 33,
   "metadata": {},
   "outputs": [],
   "source": [
    "# Error en norma L2 para cada subintervalo temporal\n",
    "\n",
    "l2(w) = w*w\n",
    "\n",
    "\n",
    "error_L2 = Array{Any,1}(undef, N_intervalos+1);\n",
    "\n",
    "for i=1:N_intervalos+1\n",
    "    el2 = sqrt(sum( integrate(l2(U2[i,end]-u_exacta),trian,quad) ))\n",
    "    error_L2[i] = el2\n",
    "end "
   ]
  },
  {
   "cell_type": "code",
   "execution_count": 18,
   "metadata": {},
   "outputs": [],
   "source": [
    "using Plots"
   ]
  },
  {
   "cell_type": "code",
   "execution_count": 67,
   "metadata": {
    "scrolled": true
   },
   "outputs": [
    {
     "data": {
      "application/vnd.plotly.v1+json": {
       "data": [
        {
         "colorbar": {
          "title": ""
         },
         "legendgroup": "y1",
         "line": {
          "color": "rgba(0, 154, 250, 1.000)",
          "dash": "solid",
          "shape": "linear",
          "width": 1
         },
         "marker": {
          "color": "rgba(0, 154, 250, 1.000)",
          "line": {
           "color": "rgba(0, 0, 0, 1.000)",
           "width": 1
          },
          "size": 8,
          "symbol": "circle"
         },
         "mode": "lines+markers",
         "name": "y1",
         "showlegend": true,
         "type": "scatter",
         "x": [
          0,
          0.1,
          0.2,
          0.3,
          0.4,
          0.5,
          0.6,
          0.7,
          0.8,
          0.9,
          1
         ],
         "xaxis": "x1",
         "y": [
          0,
          0.003317521016817709,
          0.006624942825297015,
          0.009930936362485715,
          0.013236727293993389,
          0.01654248948637337,
          0.019848247602899202,
          0.02315400514181985,
          0.02645976259917688,
          0.029765520045217427,
          0.03307127748983283
         ],
         "yaxis": "y1",
         "zmax": null,
         "zmin": null
        }
       ],
       "layout": {
        "annotations": [],
        "height": 400,
        "margin": {
         "b": 20,
         "l": 0,
         "r": 0,
         "t": 20
        },
        "paper_bgcolor": "rgba(255, 255, 255, 1.000)",
        "plot_bgcolor": "rgba(255, 255, 255, 1.000)",
        "showlegend": false,
        "width": 600,
        "xaxis": {
         "anchor": "y1",
         "domain": [
          0.1445246427529892,
          0.9934383202099739
         ],
         "gridcolor": "rgba(0, 0, 0, 0.100)",
         "gridwidth": 2,
         "linecolor": "rgba(0, 0, 0, 1.000)",
         "mirror": false,
         "range": [
          -0.03,
          1.03
         ],
         "showgrid": true,
         "showline": true,
         "showticklabels": true,
         "tickangle": 0,
         "tickcolor": "rgb(0, 0, 0)",
         "tickfont": {
          "color": "rgba(0, 0, 0, 1.000)",
          "family": "sans-serif",
          "size": 18
         },
         "tickmode": "array",
         "ticks": "inside",
         "ticktext": [
          "0.00",
          "0.25",
          "0.50",
          "0.75",
          "1.00"
         ],
         "tickvals": [
          0,
          0.25,
          0.5,
          0.75,
          1
         ],
         "title": "T",
         "titlefont": {
          "color": "rgba(0, 0, 0, 1.000)",
          "family": "sans-serif",
          "size": 25
         },
         "type": "-",
         "visible": true,
         "zeroline": false,
         "zerolinecolor": "rgba(0, 0, 0, 1.000)"
        },
        "yaxis": {
         "anchor": "x1",
         "domain": [
          0.11748140857392818,
          0.9901574803149606
         ],
         "gridcolor": "rgba(0, 0, 0, 0.100)",
         "gridwidth": 2,
         "linecolor": "rgba(0, 0, 0, 1.000)",
         "mirror": false,
         "range": [
          -0.000992138324694985,
          0.03406341581452781
         ],
         "showgrid": true,
         "showline": true,
         "showticklabels": true,
         "tickangle": 0,
         "tickcolor": "rgb(0, 0, 0)",
         "tickfont": {
          "color": "rgba(0, 0, 0, 1.000)",
          "family": "sans-serif",
          "size": 18
         },
         "tickmode": "array",
         "ticks": "inside",
         "ticktext": [
          "0.00",
          "0.01",
          "0.02",
          "0.03"
         ],
         "tickvals": [
          0,
          0.01,
          0.02,
          0.03
         ],
         "title": "error",
         "titlefont": {
          "color": "rgba(0, 0, 0, 1.000)",
          "family": "sans-serif",
          "size": 25
         },
         "type": "-",
         "visible": true,
         "zeroline": false,
         "zerolinecolor": "rgba(0, 0, 0, 1.000)"
        }
       }
      },
      "text/html": [
       "<!DOCTYPE html>\n",
       "<html>\n",
       "    <head>\n",
       "        <title>Plots.jl</title>\n",
       "        <meta http-equiv=\"content-type\" content=\"text/html; charset=UTF-8\">\n",
       "        <script src=\"https://cdn.plot.ly/plotly-latest.min.js\"></script>\n",
       "    </head>\n",
       "    <body>\n",
       "            <div id=\"7fe907a0-4f66-4e12-89a7-12ba3f164a3a\" style=\"width:600px;height:400px;\"></div>\n",
       "    <script>\n",
       "    PLOT = document.getElementById('7fe907a0-4f66-4e12-89a7-12ba3f164a3a');\n",
       "    Plotly.plot(PLOT, [\n",
       "    {\n",
       "        \"xaxis\": \"x1\",\n",
       "        \"colorbar\": {\n",
       "            \"title\": \"\"\n",
       "        },\n",
       "        \"yaxis\": \"y1\",\n",
       "        \"x\": [\n",
       "            0.0,\n",
       "            0.1,\n",
       "            0.2,\n",
       "            0.3,\n",
       "            0.4,\n",
       "            0.5,\n",
       "            0.6,\n",
       "            0.7,\n",
       "            0.8,\n",
       "            0.9,\n",
       "            1.0\n",
       "        ],\n",
       "        \"showlegend\": true,\n",
       "        \"mode\": \"lines+markers\",\n",
       "        \"name\": \"y1\",\n",
       "        \"zmin\": null,\n",
       "        \"legendgroup\": \"y1\",\n",
       "        \"marker\": {\n",
       "            \"symbol\": \"circle\",\n",
       "            \"color\": \"rgba(0, 154, 250, 1.000)\",\n",
       "            \"line\": {\n",
       "                \"color\": \"rgba(0, 0, 0, 1.000)\",\n",
       "                \"width\": 1\n",
       "            },\n",
       "            \"size\": 8\n",
       "        },\n",
       "        \"zmax\": null,\n",
       "        \"line\": {\n",
       "            \"color\": \"rgba(0, 154, 250, 1.000)\",\n",
       "            \"shape\": \"linear\",\n",
       "            \"dash\": \"solid\",\n",
       "            \"width\": 1\n",
       "        },\n",
       "        \"y\": [\n",
       "            0.0,\n",
       "            0.003317521016817709,\n",
       "            0.006624942825297015,\n",
       "            0.009930936362485715,\n",
       "            0.013236727293993389,\n",
       "            0.01654248948637337,\n",
       "            0.019848247602899202,\n",
       "            0.02315400514181985,\n",
       "            0.02645976259917688,\n",
       "            0.029765520045217427,\n",
       "            0.03307127748983283\n",
       "        ],\n",
       "        \"type\": \"scatter\"\n",
       "    }\n",
       "]\n",
       ", {\n",
       "    \"showlegend\": false,\n",
       "    \"xaxis\": {\n",
       "        \"showticklabels\": true,\n",
       "        \"gridwidth\": 2,\n",
       "        \"tickvals\": [\n",
       "            0.0,\n",
       "            0.25,\n",
       "            0.5,\n",
       "            0.75,\n",
       "            1.0\n",
       "        ],\n",
       "        \"visible\": true,\n",
       "        \"ticks\": \"inside\",\n",
       "        \"range\": [\n",
       "            -0.03,\n",
       "            1.03\n",
       "        ],\n",
       "        \"domain\": [\n",
       "            0.1445246427529892,\n",
       "            0.9934383202099739\n",
       "        ],\n",
       "        \"tickmode\": \"array\",\n",
       "        \"linecolor\": \"rgba(0, 0, 0, 1.000)\",\n",
       "        \"showgrid\": true,\n",
       "        \"title\": \"T\",\n",
       "        \"mirror\": false,\n",
       "        \"tickangle\": 0,\n",
       "        \"showline\": true,\n",
       "        \"gridcolor\": \"rgba(0, 0, 0, 0.100)\",\n",
       "        \"titlefont\": {\n",
       "            \"color\": \"rgba(0, 0, 0, 1.000)\",\n",
       "            \"family\": \"sans-serif\",\n",
       "            \"size\": 25\n",
       "        },\n",
       "        \"tickcolor\": \"rgb(0, 0, 0)\",\n",
       "        \"ticktext\": [\n",
       "            \"0.00\",\n",
       "            \"0.25\",\n",
       "            \"0.50\",\n",
       "            \"0.75\",\n",
       "            \"1.00\"\n",
       "        ],\n",
       "        \"zeroline\": false,\n",
       "        \"type\": \"-\",\n",
       "        \"tickfont\": {\n",
       "            \"color\": \"rgba(0, 0, 0, 1.000)\",\n",
       "            \"family\": \"sans-serif\",\n",
       "            \"size\": 18\n",
       "        },\n",
       "        \"zerolinecolor\": \"rgba(0, 0, 0, 1.000)\",\n",
       "        \"anchor\": \"y1\"\n",
       "    },\n",
       "    \"paper_bgcolor\": \"rgba(255, 255, 255, 1.000)\",\n",
       "    \"annotations\": [],\n",
       "    \"height\": 400,\n",
       "    \"margin\": {\n",
       "        \"l\": 0,\n",
       "        \"b\": 20,\n",
       "        \"r\": 0,\n",
       "        \"t\": 20\n",
       "    },\n",
       "    \"plot_bgcolor\": \"rgba(255, 255, 255, 1.000)\",\n",
       "    \"yaxis\": {\n",
       "        \"showticklabels\": true,\n",
       "        \"gridwidth\": 2,\n",
       "        \"tickvals\": [\n",
       "            0.0,\n",
       "            0.01,\n",
       "            0.02,\n",
       "            0.03\n",
       "        ],\n",
       "        \"visible\": true,\n",
       "        \"ticks\": \"inside\",\n",
       "        \"range\": [\n",
       "            -0.000992138324694985,\n",
       "            0.03406341581452781\n",
       "        ],\n",
       "        \"domain\": [\n",
       "            0.11748140857392818,\n",
       "            0.9901574803149606\n",
       "        ],\n",
       "        \"tickmode\": \"array\",\n",
       "        \"linecolor\": \"rgba(0, 0, 0, 1.000)\",\n",
       "        \"showgrid\": true,\n",
       "        \"title\": \"error\",\n",
       "        \"mirror\": false,\n",
       "        \"tickangle\": 0,\n",
       "        \"showline\": true,\n",
       "        \"gridcolor\": \"rgba(0, 0, 0, 0.100)\",\n",
       "        \"titlefont\": {\n",
       "            \"color\": \"rgba(0, 0, 0, 1.000)\",\n",
       "            \"family\": \"sans-serif\",\n",
       "            \"size\": 25\n",
       "        },\n",
       "        \"tickcolor\": \"rgb(0, 0, 0)\",\n",
       "        \"ticktext\": [\n",
       "            \"0.00\",\n",
       "            \"0.01\",\n",
       "            \"0.02\",\n",
       "            \"0.03\"\n",
       "        ],\n",
       "        \"zeroline\": false,\n",
       "        \"type\": \"-\",\n",
       "        \"tickfont\": {\n",
       "            \"color\": \"rgba(0, 0, 0, 1.000)\",\n",
       "            \"family\": \"sans-serif\",\n",
       "            \"size\": 18\n",
       "        },\n",
       "        \"zerolinecolor\": \"rgba(0, 0, 0, 1.000)\",\n",
       "        \"anchor\": \"x1\"\n",
       "    },\n",
       "    \"width\": 600\n",
       "}\n",
       ");\n",
       "    </script>\n",
       "\n",
       "    </body>\n",
       "</html>\n"
      ]
     },
     "execution_count": 67,
     "metadata": {},
     "output_type": "execute_result"
    }
   ],
   "source": [
    "plotly()\n",
    "\n",
    "plot(T,error_L2,\n",
    "    shape=:auto,\n",
    "    xlabel=\"T\",ylabel=\"error\", tickfont=(13, :black),legend = nothing,guidefont = (18, :black),gridlinewidth=2)"
   ]
  },
  {
   "cell_type": "code",
   "execution_count": 21,
   "metadata": {},
   "outputs": [],
   "source": [
    "for i=1:n_iter+1\n",
    "    t=1.\n",
    "    e = u_exacta - U2[end,i]\n",
    "    writevtk(trian,\"Error_k$(lpad(i,2,'0'))\",cellfields=[\"e\" => e])\n",
    "end "
   ]
  },
  {
   "cell_type": "code",
   "execution_count": 22,
   "metadata": {},
   "outputs": [],
   "source": [
    "# Error en norma L2 para cada subintervalo temporal\n",
    "\n",
    "l2(w) = w*w\n",
    "\n",
    "\n",
    "error_L2_k = Array{Any,1}(undef, n_iter+1);\n",
    "\n",
    "for i=1:n_iter+1\n",
    "    el2 = sqrt(sum( integrate(l2(U2[end,i]-u_exacta),trian,quad) ))\n",
    "    error_L2_k[i] = el2\n",
    "end "
   ]
  },
  {
   "cell_type": "code",
   "execution_count": 23,
   "metadata": {},
   "outputs": [
    {
     "data": {
      "image/svg+xml": [
       "<?xml version=\"1.0\" encoding=\"utf-8\"?>\n",
       "<svg xmlns=\"http://www.w3.org/2000/svg\" xmlns:xlink=\"http://www.w3.org/1999/xlink\" width=\"600\" height=\"400\" viewBox=\"0 0 2400 1600\">\n",
       "<defs>\n",
       "  <clipPath id=\"clip680\">\n",
       "    <rect x=\"0\" y=\"0\" width=\"2400\" height=\"1600\"/>\n",
       "  </clipPath>\n",
       "</defs>\n",
       "<path clip-path=\"url(#clip680)\" d=\"\n",
       "M0 1600 L2400 1600 L2400 0 L0 0  Z\n",
       "  \" fill=\"#ffffff\" fill-rule=\"evenodd\" fill-opacity=\"1\"/>\n",
       "<defs>\n",
       "  <clipPath id=\"clip681\">\n",
       "    <rect x=\"480\" y=\"0\" width=\"1681\" height=\"1600\"/>\n",
       "  </clipPath>\n",
       "</defs>\n",
       "<path clip-path=\"url(#clip680)\" d=\"\n",
       "M572.897 1423.18 L2352.76 1423.18 L2352.76 47.2441 L572.897 47.2441  Z\n",
       "  \" fill=\"#ffffff\" fill-rule=\"evenodd\" fill-opacity=\"1\"/>\n",
       "<defs>\n",
       "  <clipPath id=\"clip682\">\n",
       "    <rect x=\"572\" y=\"47\" width=\"1781\" height=\"1377\"/>\n",
       "  </clipPath>\n",
       "</defs>\n",
       "<polyline clip-path=\"url(#clip682)\" style=\"stroke:#000000; stroke-width:2; stroke-opacity:0.1; fill:none\" points=\"\n",
       "  623.27,1423.18 623.27,47.2439 \n",
       "  \"/>\n",
       "<polyline clip-path=\"url(#clip682)\" style=\"stroke:#000000; stroke-width:2; stroke-opacity:0.1; fill:none\" points=\"\n",
       "  1147.99,1423.18 1147.99,47.2439 \n",
       "  \"/>\n",
       "<polyline clip-path=\"url(#clip682)\" style=\"stroke:#000000; stroke-width:2; stroke-opacity:0.1; fill:none\" points=\"\n",
       "  1672.72,1423.18 1672.72,47.2439 \n",
       "  \"/>\n",
       "<polyline clip-path=\"url(#clip682)\" style=\"stroke:#000000; stroke-width:2; stroke-opacity:0.1; fill:none\" points=\"\n",
       "  2197.44,1423.18 2197.44,47.2439 \n",
       "  \"/>\n",
       "<polyline clip-path=\"url(#clip682)\" style=\"stroke:#000000; stroke-width:2; stroke-opacity:0.1; fill:none\" points=\"\n",
       "  572.897,1208.98 2352.76,1208.98 \n",
       "  \"/>\n",
       "<polyline clip-path=\"url(#clip682)\" style=\"stroke:#000000; stroke-width:2; stroke-opacity:0.1; fill:none\" points=\"\n",
       "  572.897,870.658 2352.76,870.658 \n",
       "  \"/>\n",
       "<polyline clip-path=\"url(#clip682)\" style=\"stroke:#000000; stroke-width:2; stroke-opacity:0.1; fill:none\" points=\"\n",
       "  572.897,532.336 2352.76,532.336 \n",
       "  \"/>\n",
       "<polyline clip-path=\"url(#clip682)\" style=\"stroke:#000000; stroke-width:2; stroke-opacity:0.1; fill:none\" points=\"\n",
       "  572.897,194.014 2352.76,194.014 \n",
       "  \"/>\n",
       "<polyline clip-path=\"url(#clip680)\" style=\"stroke:#000000; stroke-width:4; stroke-opacity:1; fill:none\" points=\"\n",
       "  572.897,1423.18 2352.76,1423.18 \n",
       "  \"/>\n",
       "<polyline clip-path=\"url(#clip680)\" style=\"stroke:#000000; stroke-width:4; stroke-opacity:1; fill:none\" points=\"\n",
       "  572.897,1423.18 572.897,47.2439 \n",
       "  \"/>\n",
       "<polyline clip-path=\"url(#clip680)\" style=\"stroke:#000000; stroke-width:4; stroke-opacity:1; fill:none\" points=\"\n",
       "  623.27,1423.18 623.27,1406.67 \n",
       "  \"/>\n",
       "<polyline clip-path=\"url(#clip680)\" style=\"stroke:#000000; stroke-width:4; stroke-opacity:1; fill:none\" points=\"\n",
       "  1147.99,1423.18 1147.99,1406.67 \n",
       "  \"/>\n",
       "<polyline clip-path=\"url(#clip680)\" style=\"stroke:#000000; stroke-width:4; stroke-opacity:1; fill:none\" points=\"\n",
       "  1672.72,1423.18 1672.72,1406.67 \n",
       "  \"/>\n",
       "<polyline clip-path=\"url(#clip680)\" style=\"stroke:#000000; stroke-width:4; stroke-opacity:1; fill:none\" points=\"\n",
       "  2197.44,1423.18 2197.44,1406.67 \n",
       "  \"/>\n",
       "<polyline clip-path=\"url(#clip680)\" style=\"stroke:#000000; stroke-width:4; stroke-opacity:1; fill:none\" points=\"\n",
       "  572.897,1208.98 594.255,1208.98 \n",
       "  \"/>\n",
       "<polyline clip-path=\"url(#clip680)\" style=\"stroke:#000000; stroke-width:4; stroke-opacity:1; fill:none\" points=\"\n",
       "  572.897,870.658 594.255,870.658 \n",
       "  \"/>\n",
       "<polyline clip-path=\"url(#clip680)\" style=\"stroke:#000000; stroke-width:4; stroke-opacity:1; fill:none\" points=\"\n",
       "  572.897,532.336 594.255,532.336 \n",
       "  \"/>\n",
       "<polyline clip-path=\"url(#clip680)\" style=\"stroke:#000000; stroke-width:4; stroke-opacity:1; fill:none\" points=\"\n",
       "  572.897,194.014 594.255,194.014 \n",
       "  \"/>\n",
       "<path clip-path=\"url(#clip680)\" d=\"M 0 0 M623.27 1445.17 Q619.659 1445.17 617.83 1448.74 Q616.025 1452.28 616.025 1459.41 Q616.025 1466.51 617.83 1470.08 Q619.659 1473.62 623.27 1473.62 Q626.904 1473.62 628.71 1470.08 Q630.539 1466.51 630.539 1459.41 Q630.539 1452.28 628.71 1448.74 Q626.904 1445.17 623.27 1445.17 M623.27 1441.47 Q629.08 1441.47 632.136 1446.07 Q635.215 1450.66 635.215 1459.41 Q635.215 1468.13 632.136 1472.74 Q629.08 1477.32 623.27 1477.32 Q617.46 1477.32 614.381 1472.74 Q611.326 1468.13 611.326 1459.41 Q611.326 1450.66 614.381 1446.07 Q617.46 1441.47 623.27 1441.47 Z\" fill=\"#000000\" fill-rule=\"evenodd\" fill-opacity=\"1\" /><path clip-path=\"url(#clip680)\" d=\"M 0 0 M1138.27 1442.09 L1156.63 1442.09 L1156.63 1446.03 L1142.55 1446.03 L1142.55 1454.5 Q1143.57 1454.15 1144.59 1453.99 Q1145.61 1453.8 1146.63 1453.8 Q1152.41 1453.8 1155.79 1456.98 Q1159.17 1460.15 1159.17 1465.56 Q1159.17 1471.14 1155.7 1474.24 Q1152.23 1477.32 1145.91 1477.32 Q1143.73 1477.32 1141.47 1476.95 Q1139.22 1476.58 1136.81 1475.84 L1136.81 1471.14 Q1138.9 1472.28 1141.12 1472.83 Q1143.34 1473.39 1145.82 1473.39 Q1149.82 1473.39 1152.16 1471.28 Q1154.5 1469.17 1154.5 1465.56 Q1154.5 1461.95 1152.16 1459.85 Q1149.82 1457.74 1145.82 1457.74 Q1143.94 1457.74 1142.07 1458.16 Q1140.22 1458.57 1138.27 1459.45 L1138.27 1442.09 Z\" fill=\"#000000\" fill-rule=\"evenodd\" fill-opacity=\"1\" /><path clip-path=\"url(#clip680)\" d=\"M 0 0 M1649.59 1472.72 L1657.23 1472.72 L1657.23 1446.35 L1648.92 1448.02 L1648.92 1443.76 L1657.18 1442.09 L1661.86 1442.09 L1661.86 1472.72 L1669.5 1472.72 L1669.5 1476.65 L1649.59 1476.65 L1649.59 1472.72 Z\" fill=\"#000000\" fill-rule=\"evenodd\" fill-opacity=\"1\" /><path clip-path=\"url(#clip680)\" d=\"M 0 0 M1684.57 1445.17 Q1680.96 1445.17 1679.13 1448.74 Q1677.32 1452.28 1677.32 1459.41 Q1677.32 1466.51 1679.13 1470.08 Q1680.96 1473.62 1684.57 1473.62 Q1688.2 1473.62 1690.01 1470.08 Q1691.84 1466.51 1691.84 1459.41 Q1691.84 1452.28 1690.01 1448.74 Q1688.2 1445.17 1684.57 1445.17 M1684.57 1441.47 Q1690.38 1441.47 1693.43 1446.07 Q1696.51 1450.66 1696.51 1459.41 Q1696.51 1468.13 1693.43 1472.74 Q1690.38 1477.32 1684.57 1477.32 Q1678.76 1477.32 1675.68 1472.74 Q1672.62 1468.13 1672.62 1459.41 Q1672.62 1450.66 1675.68 1446.07 Q1678.76 1441.47 1684.57 1441.47 Z\" fill=\"#000000\" fill-rule=\"evenodd\" fill-opacity=\"1\" /><path clip-path=\"url(#clip680)\" d=\"M 0 0 M2174.81 1472.72 L2182.45 1472.72 L2182.45 1446.35 L2174.14 1448.02 L2174.14 1443.76 L2182.4 1442.09 L2187.08 1442.09 L2187.08 1472.72 L2194.72 1472.72 L2194.72 1476.65 L2174.81 1476.65 L2174.81 1472.72 Z\" fill=\"#000000\" fill-rule=\"evenodd\" fill-opacity=\"1\" /><path clip-path=\"url(#clip680)\" d=\"M 0 0 M2199.83 1442.09 L2218.19 1442.09 L2218.19 1446.03 L2204.12 1446.03 L2204.12 1454.5 Q2205.13 1454.15 2206.15 1453.99 Q2207.17 1453.8 2208.19 1453.8 Q2213.98 1453.8 2217.36 1456.98 Q2220.74 1460.15 2220.74 1465.56 Q2220.74 1471.14 2217.26 1474.24 Q2213.79 1477.32 2207.47 1477.32 Q2205.3 1477.32 2203.03 1476.95 Q2200.78 1476.58 2198.38 1475.84 L2198.38 1471.14 Q2200.46 1472.28 2202.68 1472.83 Q2204.9 1473.39 2207.38 1473.39 Q2211.38 1473.39 2213.72 1471.28 Q2216.06 1469.17 2216.06 1465.56 Q2216.06 1461.95 2213.72 1459.85 Q2211.38 1457.74 2207.38 1457.74 Q2205.51 1457.74 2203.63 1458.16 Q2201.78 1458.57 2199.83 1459.45 L2199.83 1442.09 Z\" fill=\"#000000\" fill-rule=\"evenodd\" fill-opacity=\"1\" /><path clip-path=\"url(#clip680)\" d=\"M 0 0 M127.148 1228.77 L143.468 1228.77 L143.468 1232.71 L121.523 1232.71 L121.523 1228.77 Q124.186 1226.02 128.769 1221.39 Q133.375 1216.74 134.556 1215.39 Q136.801 1212.87 137.681 1211.13 Q138.584 1209.37 138.584 1207.69 Q138.584 1204.93 136.639 1203.19 Q134.718 1201.46 131.616 1201.46 Q129.417 1201.46 126.963 1202.22 Q124.533 1202.99 121.755 1204.54 L121.755 1199.81 Q124.579 1198.68 127.033 1198.1 Q129.486 1197.52 131.523 1197.52 Q136.894 1197.52 140.088 1200.21 Q143.283 1202.89 143.283 1207.38 Q143.283 1209.51 142.472 1211.44 Q141.685 1213.33 139.579 1215.93 Q139 1216.6 135.898 1219.81 Q132.797 1223.01 127.148 1228.77 Z\" fill=\"#000000\" fill-rule=\"evenodd\" fill-opacity=\"1\" /><path clip-path=\"url(#clip680)\" d=\"M 0 0 M148.537 1226.83 L153.421 1226.83 L153.421 1232.71 L148.537 1232.71 L148.537 1226.83 Z\" fill=\"#000000\" fill-rule=\"evenodd\" fill-opacity=\"1\" /><path clip-path=\"url(#clip680)\" d=\"M 0 0 M168.491 1216.3 Q165.158 1216.3 163.236 1218.08 Q161.338 1219.86 161.338 1222.99 Q161.338 1226.11 163.236 1227.89 Q165.158 1229.68 168.491 1229.68 Q171.824 1229.68 173.745 1227.89 Q175.667 1226.09 175.667 1222.99 Q175.667 1219.86 173.745 1218.08 Q171.847 1216.3 168.491 1216.3 M163.815 1214.31 Q160.806 1213.56 159.116 1211.5 Q157.449 1209.44 157.449 1206.48 Q157.449 1202.34 160.389 1199.93 Q163.352 1197.52 168.491 1197.52 Q173.653 1197.52 176.593 1199.93 Q179.532 1202.34 179.532 1206.48 Q179.532 1209.44 177.843 1211.5 Q176.176 1213.56 173.19 1214.31 Q176.569 1215.09 178.444 1217.38 Q180.343 1219.68 180.343 1222.99 Q180.343 1228.01 177.264 1230.69 Q174.208 1233.38 168.491 1233.38 Q162.773 1233.38 159.695 1230.69 Q156.639 1228.01 156.639 1222.99 Q156.639 1219.68 158.537 1217.38 Q160.435 1215.09 163.815 1214.31 M162.102 1206.92 Q162.102 1209.61 163.769 1211.11 Q165.458 1212.62 168.491 1212.62 Q171.5 1212.62 173.19 1211.11 Q174.903 1209.61 174.903 1206.92 Q174.903 1204.24 173.19 1202.73 Q171.5 1201.23 168.491 1201.23 Q165.458 1201.23 163.769 1202.73 Q162.102 1204.24 162.102 1206.92 Z\" fill=\"#000000\" fill-rule=\"evenodd\" fill-opacity=\"1\" /><path clip-path=\"url(#clip680)\" d=\"M 0 0 M198.259 1202.22 L186.454 1220.67 L198.259 1220.67 L198.259 1202.22 M197.032 1198.15 L202.912 1198.15 L202.912 1220.67 L207.842 1220.67 L207.842 1224.56 L202.912 1224.56 L202.912 1232.71 L198.259 1232.71 L198.259 1224.56 L182.657 1224.56 L182.657 1220.05 L197.032 1198.15 Z\" fill=\"#000000\" fill-rule=\"evenodd\" fill-opacity=\"1\" /><path clip-path=\"url(#clip680)\" d=\"M 0 0 M225.759 1202.22 L213.954 1220.67 L225.759 1220.67 L225.759 1202.22 M224.532 1198.15 L230.412 1198.15 L230.412 1220.67 L235.342 1220.67 L235.342 1224.56 L230.412 1224.56 L230.412 1232.71 L225.759 1232.71 L225.759 1224.56 L210.157 1224.56 L210.157 1220.05 L224.532 1198.15 Z\" fill=\"#000000\" fill-rule=\"evenodd\" fill-opacity=\"1\" /><path clip-path=\"url(#clip680)\" d=\"M 0 0 M240.551 1231.99 L240.551 1227.73 Q242.31 1228.56 244.115 1229 Q245.921 1229.44 247.657 1229.44 Q252.287 1229.44 254.717 1226.34 Q257.171 1223.22 257.518 1216.87 Q256.176 1218.87 254.115 1219.93 Q252.055 1221 249.555 1221 Q244.37 1221 241.338 1217.87 Q238.328 1214.72 238.328 1209.28 Q238.328 1203.96 241.477 1200.74 Q244.625 1197.52 249.856 1197.52 Q255.851 1197.52 259 1202.13 Q262.171 1206.71 262.171 1215.46 Q262.171 1223.63 258.282 1228.52 Q254.416 1233.38 247.865 1233.38 Q246.106 1233.38 244.301 1233.03 Q242.495 1232.69 240.551 1231.99 M249.856 1217.34 Q253.004 1217.34 254.833 1215.19 Q256.685 1213.03 256.685 1209.28 Q256.685 1205.56 254.833 1203.4 Q253.004 1201.23 249.856 1201.23 Q246.708 1201.23 244.856 1203.4 Q243.027 1205.56 243.027 1209.28 Q243.027 1213.03 244.856 1215.19 Q246.708 1217.34 249.856 1217.34 Z\" fill=\"#000000\" fill-rule=\"evenodd\" fill-opacity=\"1\" /><path clip-path=\"url(#clip680)\" d=\"M 0 0 M271.268 1228.77 L287.587 1228.77 L287.587 1232.71 L265.643 1232.71 L265.643 1228.77 Q268.305 1226.02 272.888 1221.39 Q277.495 1216.74 278.675 1215.39 Q280.921 1212.87 281.8 1211.13 Q282.703 1209.37 282.703 1207.69 Q282.703 1204.93 280.759 1203.19 Q278.837 1201.46 275.736 1201.46 Q273.537 1201.46 271.083 1202.22 Q268.652 1202.99 265.875 1204.54 L265.875 1199.81 Q268.699 1198.68 271.152 1198.1 Q273.606 1197.52 275.643 1197.52 Q281.013 1197.52 284.208 1200.21 Q287.402 1202.89 287.402 1207.38 Q287.402 1209.51 286.592 1211.44 Q285.805 1213.33 283.699 1215.93 Q283.12 1216.6 280.018 1219.81 Q276.916 1223.01 271.268 1228.77 Z\" fill=\"#000000\" fill-rule=\"evenodd\" fill-opacity=\"1\" /><path clip-path=\"url(#clip680)\" d=\"M 0 0 M296.685 1228.77 L313.004 1228.77 L313.004 1232.71 L291.06 1232.71 L291.06 1228.77 Q293.722 1226.02 298.305 1221.39 Q302.911 1216.74 304.092 1215.39 Q306.337 1212.87 307.217 1211.13 Q308.12 1209.37 308.12 1207.69 Q308.12 1204.93 306.175 1203.19 Q304.254 1201.46 301.152 1201.46 Q298.953 1201.46 296.499 1202.22 Q294.069 1202.99 291.291 1204.54 L291.291 1199.81 Q294.115 1198.68 296.569 1198.1 Q299.023 1197.52 301.06 1197.52 Q306.43 1197.52 309.624 1200.21 Q312.819 1202.89 312.819 1207.38 Q312.819 1209.51 312.009 1211.44 Q311.222 1213.33 309.115 1215.93 Q308.536 1216.6 305.435 1219.81 Q302.333 1223.01 296.685 1228.77 Z\" fill=\"#000000\" fill-rule=\"evenodd\" fill-opacity=\"1\" /><path clip-path=\"url(#clip680)\" d=\"M 0 0 M318.12 1198.15 L336.476 1198.15 L336.476 1202.08 L322.402 1202.08 L322.402 1210.56 Q323.421 1210.21 324.439 1210.05 Q325.458 1209.86 326.476 1209.86 Q332.263 1209.86 335.643 1213.03 Q339.022 1216.2 339.022 1221.62 Q339.022 1227.2 335.55 1230.3 Q332.078 1233.38 325.759 1233.38 Q323.583 1233.38 321.314 1233.01 Q319.069 1232.64 316.661 1231.9 L316.661 1227.2 Q318.745 1228.33 320.967 1228.89 Q323.189 1229.44 325.666 1229.44 Q329.671 1229.44 332.008 1227.34 Q334.346 1225.23 334.346 1221.62 Q334.346 1218.01 332.008 1215.9 Q329.671 1213.8 325.666 1213.8 Q323.791 1213.8 321.916 1214.21 Q320.064 1214.63 318.12 1215.51 L318.12 1198.15 Z\" fill=\"#000000\" fill-rule=\"evenodd\" fill-opacity=\"1\" /><path clip-path=\"url(#clip680)\" d=\"M 0 0 M348.12 1228.77 L364.439 1228.77 L364.439 1232.71 L342.495 1232.71 L342.495 1228.77 Q345.157 1226.02 349.74 1221.39 Q354.346 1216.74 355.527 1215.39 Q357.772 1212.87 358.652 1211.13 Q359.555 1209.37 359.555 1207.69 Q359.555 1204.93 357.61 1203.19 Q355.689 1201.46 352.587 1201.46 Q350.388 1201.46 347.934 1202.22 Q345.504 1202.99 342.726 1204.54 L342.726 1199.81 Q345.55 1198.68 348.004 1198.1 Q350.457 1197.52 352.494 1197.52 Q357.865 1197.52 361.059 1200.21 Q364.254 1202.89 364.254 1207.38 Q364.254 1209.51 363.443 1211.44 Q362.656 1213.33 360.55 1215.93 Q359.971 1216.6 356.869 1219.81 Q353.768 1223.01 348.12 1228.77 Z\" fill=\"#000000\" fill-rule=\"evenodd\" fill-opacity=\"1\" /><path clip-path=\"url(#clip680)\" d=\"M 0 0 M379.508 1216.3 Q376.175 1216.3 374.254 1218.08 Q372.355 1219.86 372.355 1222.99 Q372.355 1226.11 374.254 1227.89 Q376.175 1229.68 379.508 1229.68 Q382.842 1229.68 384.763 1227.89 Q386.684 1226.09 386.684 1222.99 Q386.684 1219.86 384.763 1218.08 Q382.865 1216.3 379.508 1216.3 M374.832 1214.31 Q371.823 1213.56 370.133 1211.5 Q368.467 1209.44 368.467 1206.48 Q368.467 1202.34 371.406 1199.93 Q374.369 1197.52 379.508 1197.52 Q384.67 1197.52 387.61 1199.93 Q390.55 1202.34 390.55 1206.48 Q390.55 1209.44 388.86 1211.5 Q387.193 1213.56 384.207 1214.31 Q387.587 1215.09 389.462 1217.38 Q391.36 1219.68 391.36 1222.99 Q391.36 1228.01 388.281 1230.69 Q385.226 1233.38 379.508 1233.38 Q373.791 1233.38 370.712 1230.69 Q367.656 1228.01 367.656 1222.99 Q367.656 1219.68 369.555 1217.38 Q371.453 1215.09 374.832 1214.31 M373.119 1206.92 Q373.119 1209.61 374.786 1211.11 Q376.476 1212.62 379.508 1212.62 Q382.517 1212.62 384.207 1211.11 Q385.92 1209.61 385.92 1206.92 Q385.92 1204.24 384.207 1202.73 Q382.517 1201.23 379.508 1201.23 Q376.476 1201.23 374.786 1202.73 Q373.119 1204.24 373.119 1206.92 Z\" fill=\"#000000\" fill-rule=\"evenodd\" fill-opacity=\"1\" /><path clip-path=\"url(#clip680)\" d=\"M 0 0 M406.429 1216.3 Q403.096 1216.3 401.175 1218.08 Q399.277 1219.86 399.277 1222.99 Q399.277 1226.11 401.175 1227.89 Q403.096 1229.68 406.429 1229.68 Q409.763 1229.68 411.684 1227.89 Q413.605 1226.09 413.605 1222.99 Q413.605 1219.86 411.684 1218.08 Q409.786 1216.3 406.429 1216.3 M401.753 1214.31 Q398.744 1213.56 397.054 1211.5 Q395.388 1209.44 395.388 1206.48 Q395.388 1202.34 398.328 1199.93 Q401.291 1197.52 406.429 1197.52 Q411.591 1197.52 414.531 1199.93 Q417.471 1202.34 417.471 1206.48 Q417.471 1209.44 415.781 1211.5 Q414.115 1213.56 411.128 1214.31 Q414.508 1215.09 416.383 1217.38 Q418.281 1219.68 418.281 1222.99 Q418.281 1228.01 415.202 1230.69 Q412.147 1233.38 406.429 1233.38 Q400.712 1233.38 397.633 1230.69 Q394.578 1228.01 394.578 1222.99 Q394.578 1219.68 396.476 1217.38 Q398.374 1215.09 401.753 1214.31 M400.041 1206.92 Q400.041 1209.61 401.707 1211.11 Q403.397 1212.62 406.429 1212.62 Q409.439 1212.62 411.128 1211.11 Q412.841 1209.61 412.841 1206.92 Q412.841 1204.24 411.128 1202.73 Q409.439 1201.23 406.429 1201.23 Q403.397 1201.23 401.707 1202.73 Q400.041 1204.24 400.041 1206.92 Z\" fill=\"#000000\" fill-rule=\"evenodd\" fill-opacity=\"1\" /><path clip-path=\"url(#clip680)\" d=\"M 0 0 M451.522 1207.25 L440.943 1217.87 L451.522 1228.45 L448.767 1231.25 L438.142 1220.62 L427.517 1231.25 L424.786 1228.45 L435.341 1217.87 L424.786 1207.25 L427.517 1204.44 L438.142 1215.07 L448.767 1204.44 L451.522 1207.25 Z\" fill=\"#000000\" fill-rule=\"evenodd\" fill-opacity=\"1\" /><path clip-path=\"url(#clip680)\" d=\"M 0 0 M457.401 1228.77 L465.04 1228.77 L465.04 1202.41 L456.73 1204.07 L456.73 1199.81 L464.994 1198.15 L469.67 1198.15 L469.67 1228.77 L477.309 1228.77 L477.309 1232.71 L457.401 1232.71 L457.401 1228.77 Z\" fill=\"#000000\" fill-rule=\"evenodd\" fill-opacity=\"1\" /><path clip-path=\"url(#clip680)\" d=\"M 0 0 M492.378 1201.23 Q488.767 1201.23 486.938 1204.79 Q485.133 1208.33 485.133 1215.46 Q485.133 1222.57 486.938 1226.13 Q488.767 1229.68 492.378 1229.68 Q496.012 1229.68 497.818 1226.13 Q499.646 1222.57 499.646 1215.46 Q499.646 1208.33 497.818 1204.79 Q496.012 1201.23 492.378 1201.23 M492.378 1197.52 Q498.188 1197.52 501.244 1202.13 Q504.322 1206.71 504.322 1215.46 Q504.322 1224.19 501.244 1228.8 Q498.188 1233.38 492.378 1233.38 Q486.568 1233.38 483.489 1228.8 Q480.434 1224.19 480.434 1215.46 Q480.434 1206.71 483.489 1202.13 Q486.568 1197.52 492.378 1197.52 Z\" fill=\"#000000\" fill-rule=\"evenodd\" fill-opacity=\"1\" /><path clip-path=\"url(#clip680)\" d=\"M 0 0 M504.322 1193.2 L514.46 1193.2 L514.46 1196.29 L504.322 1196.29 L504.322 1193.2 Z\" fill=\"#000000\" fill-rule=\"evenodd\" fill-opacity=\"1\" /><path clip-path=\"url(#clip680)\" d=\"M 0 0 M541.11 1180.53 L531.518 1195.52 L541.11 1195.52 L541.11 1180.53 M540.114 1177.22 L544.891 1177.22 L544.891 1195.52 L548.897 1195.52 L548.897 1198.68 L544.891 1198.68 L544.891 1205.3 L541.11 1205.3 L541.11 1198.68 L528.434 1198.68 L528.434 1195.01 L540.114 1177.22 Z\" fill=\"#000000\" fill-rule=\"evenodd\" fill-opacity=\"1\" /><path clip-path=\"url(#clip680)\" d=\"M 0 0 M154.162 890.451 L170.482 890.451 L170.482 894.386 L148.537 894.386 L148.537 890.451 Q151.199 887.696 155.783 883.067 Q160.389 878.414 161.57 877.071 Q163.815 874.548 164.695 872.812 Q165.597 871.053 165.597 869.363 Q165.597 866.608 163.653 864.872 Q161.732 863.136 158.63 863.136 Q156.431 863.136 153.977 863.9 Q151.546 864.664 148.769 866.215 L148.769 861.493 Q151.593 860.358 154.046 859.78 Q156.5 859.201 158.537 859.201 Q163.908 859.201 167.102 861.886 Q170.296 864.571 170.296 869.062 Q170.296 871.192 169.486 873.113 Q168.699 875.011 166.593 877.604 Q166.014 878.275 162.912 881.492 Q159.81 884.687 154.162 890.451 Z\" fill=\"#000000\" fill-rule=\"evenodd\" fill-opacity=\"1\" /><path clip-path=\"url(#clip680)\" d=\"M 0 0 M175.551 888.506 L180.435 888.506 L180.435 894.386 L175.551 894.386 L175.551 888.506 Z\" fill=\"#000000\" fill-rule=\"evenodd\" fill-opacity=\"1\" /><path clip-path=\"url(#clip680)\" d=\"M 0 0 M195.505 877.974 Q192.171 877.974 190.25 879.756 Q188.352 881.539 188.352 884.664 Q188.352 887.789 190.25 889.571 Q192.171 891.354 195.505 891.354 Q198.838 891.354 200.759 889.571 Q202.68 887.766 202.68 884.664 Q202.68 881.539 200.759 879.756 Q198.861 877.974 195.505 877.974 M190.829 875.983 Q187.819 875.242 186.13 873.182 Q184.463 871.122 184.463 868.159 Q184.463 864.016 187.403 861.608 Q190.366 859.201 195.505 859.201 Q200.667 859.201 203.606 861.608 Q206.546 864.016 206.546 868.159 Q206.546 871.122 204.856 873.182 Q203.19 875.242 200.204 875.983 Q203.583 876.77 205.458 879.062 Q207.356 881.354 207.356 884.664 Q207.356 889.687 204.278 892.372 Q201.222 895.057 195.505 895.057 Q189.787 895.057 186.708 892.372 Q183.653 889.687 183.653 884.664 Q183.653 881.354 185.551 879.062 Q187.449 876.77 190.829 875.983 M189.116 868.599 Q189.116 871.284 190.782 872.789 Q192.472 874.293 195.505 874.293 Q198.514 874.293 200.204 872.789 Q201.917 871.284 201.917 868.599 Q201.917 865.914 200.204 864.409 Q198.514 862.905 195.505 862.905 Q192.472 862.905 190.782 864.409 Q189.116 865.914 189.116 868.599 Z\" fill=\"#000000\" fill-rule=\"evenodd\" fill-opacity=\"1\" /><path clip-path=\"url(#clip680)\" d=\"M 0 0 M225.273 863.9 L213.467 882.349 L225.273 882.349 L225.273 863.9 M224.046 859.826 L229.926 859.826 L229.926 882.349 L234.856 882.349 L234.856 886.238 L229.926 886.238 L229.926 894.386 L225.273 894.386 L225.273 886.238 L209.671 886.238 L209.671 881.724 L224.046 859.826 Z\" fill=\"#000000\" fill-rule=\"evenodd\" fill-opacity=\"1\" /><path clip-path=\"url(#clip680)\" d=\"M 0 0 M252.773 863.9 L240.967 882.349 L252.773 882.349 L252.773 863.9 M251.546 859.826 L257.426 859.826 L257.426 882.349 L262.356 882.349 L262.356 886.238 L257.426 886.238 L257.426 894.386 L252.773 894.386 L252.773 886.238 L237.171 886.238 L237.171 881.724 L251.546 859.826 Z\" fill=\"#000000\" fill-rule=\"evenodd\" fill-opacity=\"1\" /><path clip-path=\"url(#clip680)\" d=\"M 0 0 M267.564 893.668 L267.564 889.409 Q269.324 890.242 271.129 890.682 Q272.935 891.122 274.671 891.122 Q279.3 891.122 281.731 888.02 Q284.185 884.895 284.532 878.553 Q283.189 880.543 281.129 881.608 Q279.069 882.673 276.569 882.673 Q271.384 882.673 268.351 879.548 Q265.342 876.4 265.342 870.96 Q265.342 865.636 268.49 862.418 Q271.638 859.201 276.87 859.201 Q282.865 859.201 286.013 863.807 Q289.185 868.391 289.185 877.141 Q289.185 885.312 285.296 890.196 Q281.43 895.057 274.879 895.057 Q273.12 895.057 271.314 894.71 Q269.509 894.363 267.564 893.668 M276.87 879.016 Q280.018 879.016 281.847 876.863 Q283.699 874.71 283.699 870.96 Q283.699 867.233 281.847 865.081 Q280.018 862.905 276.87 862.905 Q273.722 862.905 271.87 865.081 Q270.041 867.233 270.041 870.96 Q270.041 874.71 271.87 876.863 Q273.722 879.016 276.87 879.016 Z\" fill=\"#000000\" fill-rule=\"evenodd\" fill-opacity=\"1\" /><path clip-path=\"url(#clip680)\" d=\"M 0 0 M298.282 890.451 L314.601 890.451 L314.601 894.386 L292.657 894.386 L292.657 890.451 Q295.319 887.696 299.902 883.067 Q304.509 878.414 305.689 877.071 Q307.935 874.548 308.814 872.812 Q309.717 871.053 309.717 869.363 Q309.717 866.608 307.772 864.872 Q305.851 863.136 302.749 863.136 Q300.55 863.136 298.097 863.9 Q295.666 864.664 292.888 866.215 L292.888 861.493 Q295.712 860.358 298.166 859.78 Q300.62 859.201 302.657 859.201 Q308.027 859.201 311.222 861.886 Q314.416 864.571 314.416 869.062 Q314.416 871.192 313.606 873.113 Q312.819 875.011 310.712 877.604 Q310.134 878.275 307.032 881.492 Q303.93 884.687 298.282 890.451 Z\" fill=\"#000000\" fill-rule=\"evenodd\" fill-opacity=\"1\" /><path clip-path=\"url(#clip680)\" d=\"M 0 0 M323.698 890.451 L340.018 890.451 L340.018 894.386 L318.073 894.386 L318.073 890.451 Q320.735 887.696 325.319 883.067 Q329.925 878.414 331.106 877.071 Q333.351 874.548 334.231 872.812 Q335.133 871.053 335.133 869.363 Q335.133 866.608 333.189 864.872 Q331.268 863.136 328.166 863.136 Q325.967 863.136 323.513 863.9 Q321.083 864.664 318.305 866.215 L318.305 861.493 Q321.129 860.358 323.583 859.78 Q326.036 859.201 328.073 859.201 Q333.444 859.201 336.638 861.886 Q339.833 864.571 339.833 869.062 Q339.833 871.192 339.022 873.113 Q338.235 875.011 336.129 877.604 Q335.55 878.275 332.448 881.492 Q329.346 884.687 323.698 890.451 Z\" fill=\"#000000\" fill-rule=\"evenodd\" fill-opacity=\"1\" /><path clip-path=\"url(#clip680)\" d=\"M 0 0 M345.133 859.826 L363.49 859.826 L363.49 863.761 L349.416 863.761 L349.416 872.233 Q350.434 871.886 351.453 871.724 Q352.471 871.539 353.49 871.539 Q359.277 871.539 362.656 874.71 Q366.036 877.881 366.036 883.298 Q366.036 888.877 362.564 891.979 Q359.092 895.057 352.772 895.057 Q350.596 895.057 348.328 894.687 Q346.082 894.316 343.675 893.576 L343.675 888.877 Q345.758 890.011 347.981 890.566 Q350.203 891.122 352.68 891.122 Q356.684 891.122 359.022 889.016 Q361.36 886.909 361.36 883.298 Q361.36 879.687 359.022 877.58 Q356.684 875.474 352.68 875.474 Q350.805 875.474 348.93 875.891 Q347.078 876.307 345.133 877.187 L345.133 859.826 Z\" fill=\"#000000\" fill-rule=\"evenodd\" fill-opacity=\"1\" /><path clip-path=\"url(#clip680)\" d=\"M 0 0 M375.133 890.451 L391.453 890.451 L391.453 894.386 L369.508 894.386 L369.508 890.451 Q372.17 887.696 376.754 883.067 Q381.36 878.414 382.541 877.071 Q384.786 874.548 385.666 872.812 Q386.568 871.053 386.568 869.363 Q386.568 866.608 384.624 864.872 Q382.703 863.136 379.601 863.136 Q377.402 863.136 374.948 863.9 Q372.518 864.664 369.74 866.215 L369.74 861.493 Q372.564 860.358 375.018 859.78 Q377.471 859.201 379.508 859.201 Q384.879 859.201 388.073 861.886 Q391.267 864.571 391.267 869.062 Q391.267 871.192 390.457 873.113 Q389.67 875.011 387.564 877.604 Q386.985 878.275 383.883 881.492 Q380.781 884.687 375.133 890.451 Z\" fill=\"#000000\" fill-rule=\"evenodd\" fill-opacity=\"1\" /><path clip-path=\"url(#clip680)\" d=\"M 0 0 M396.661 893.668 L396.661 889.409 Q398.42 890.242 400.226 890.682 Q402.031 891.122 403.767 891.122 Q408.397 891.122 410.827 888.02 Q413.281 884.895 413.628 878.553 Q412.286 880.543 410.226 881.608 Q408.165 882.673 405.665 882.673 Q400.48 882.673 397.448 879.548 Q394.439 876.4 394.439 870.96 Q394.439 865.636 397.587 862.418 Q400.735 859.201 405.966 859.201 Q411.962 859.201 415.11 863.807 Q418.281 868.391 418.281 877.141 Q418.281 885.312 414.392 890.196 Q410.527 895.057 403.976 895.057 Q402.216 895.057 400.411 894.71 Q398.605 894.363 396.661 893.668 M405.966 879.016 Q409.115 879.016 410.943 876.863 Q412.795 874.71 412.795 870.96 Q412.795 867.233 410.943 865.081 Q409.115 862.905 405.966 862.905 Q402.818 862.905 400.966 865.081 Q399.138 867.233 399.138 870.96 Q399.138 874.71 400.966 876.863 Q402.818 879.016 405.966 879.016 Z\" fill=\"#000000\" fill-rule=\"evenodd\" fill-opacity=\"1\" /><path clip-path=\"url(#clip680)\" d=\"M 0 0 M451.522 868.923 L440.943 879.548 L451.522 890.127 L448.767 892.928 L438.142 882.303 L427.517 892.928 L424.786 890.127 L435.341 879.548 L424.786 868.923 L427.517 866.122 L438.142 876.747 L448.767 866.122 L451.522 868.923 Z\" fill=\"#000000\" fill-rule=\"evenodd\" fill-opacity=\"1\" /><path clip-path=\"url(#clip680)\" d=\"M 0 0 M457.401 890.451 L465.04 890.451 L465.04 864.085 L456.73 865.752 L456.73 861.493 L464.994 859.826 L469.67 859.826 L469.67 890.451 L477.309 890.451 L477.309 894.386 L457.401 894.386 L457.401 890.451 Z\" fill=\"#000000\" fill-rule=\"evenodd\" fill-opacity=\"1\" /><path clip-path=\"url(#clip680)\" d=\"M 0 0 M492.378 862.905 Q488.767 862.905 486.938 866.469 Q485.133 870.011 485.133 877.141 Q485.133 884.247 486.938 887.812 Q488.767 891.354 492.378 891.354 Q496.012 891.354 497.818 887.812 Q499.646 884.247 499.646 877.141 Q499.646 870.011 497.818 866.469 Q496.012 862.905 492.378 862.905 M492.378 859.201 Q498.188 859.201 501.244 863.807 Q504.322 868.391 504.322 877.141 Q504.322 885.867 501.244 890.474 Q498.188 895.057 492.378 895.057 Q486.568 895.057 483.489 890.474 Q480.434 885.867 480.434 877.141 Q480.434 868.391 483.489 863.807 Q486.568 859.201 492.378 859.201 Z\" fill=\"#000000\" fill-rule=\"evenodd\" fill-opacity=\"1\" /><path clip-path=\"url(#clip680)\" d=\"M 0 0 M504.322 854.882 L514.46 854.882 L514.46 857.967 L504.322 857.967 L504.322 854.882 Z\" fill=\"#000000\" fill-rule=\"evenodd\" fill-opacity=\"1\" /><path clip-path=\"url(#clip680)\" d=\"M 0 0 M541.11 842.206 L531.518 857.195 L541.11 857.195 L541.11 842.206 M540.114 838.896 L544.891 838.896 L544.891 857.195 L548.897 857.195 L548.897 860.355 L544.891 860.355 L544.891 866.976 L541.11 866.976 L541.11 860.355 L528.434 860.355 L528.434 856.688 L540.114 838.896 Z\" fill=\"#000000\" fill-rule=\"evenodd\" fill-opacity=\"1\" /><path clip-path=\"url(#clip680)\" d=\"M 0 0 M128.746 552.128 L145.065 552.128 L145.065 556.064 L123.121 556.064 L123.121 552.128 Q125.783 549.374 130.366 544.744 Q134.972 540.092 136.153 538.749 Q138.398 536.226 139.278 534.49 Q140.181 532.73 140.181 531.041 Q140.181 528.286 138.236 526.55 Q136.315 524.814 133.213 524.814 Q131.014 524.814 128.56 525.578 Q126.13 526.342 123.352 527.892 L123.352 523.17 Q126.176 522.036 128.63 521.457 Q131.084 520.879 133.121 520.879 Q138.491 520.879 141.685 523.564 Q144.88 526.249 144.88 530.74 Q144.88 532.869 144.07 534.791 Q143.283 536.689 141.176 539.281 Q140.597 539.953 137.496 543.17 Q134.394 546.365 128.746 552.128 Z\" fill=\"#000000\" fill-rule=\"evenodd\" fill-opacity=\"1\" /><path clip-path=\"url(#clip680)\" d=\"M 0 0 M150.134 550.184 L155.019 550.184 L155.019 556.064 L150.134 556.064 L150.134 550.184 Z\" fill=\"#000000\" fill-rule=\"evenodd\" fill-opacity=\"1\" /><path clip-path=\"url(#clip680)\" d=\"M 0 0 M170.088 539.652 Q166.755 539.652 164.833 541.434 Q162.935 543.216 162.935 546.341 Q162.935 549.466 164.833 551.249 Q166.755 553.031 170.088 553.031 Q173.421 553.031 175.343 551.249 Q177.264 549.443 177.264 546.341 Q177.264 543.216 175.343 541.434 Q173.445 539.652 170.088 539.652 M165.412 537.661 Q162.403 536.92 160.713 534.86 Q159.046 532.8 159.046 529.837 Q159.046 525.693 161.986 523.286 Q164.949 520.879 170.088 520.879 Q175.25 520.879 178.19 523.286 Q181.13 525.693 181.13 529.837 Q181.13 532.8 179.44 534.86 Q177.773 536.92 174.787 537.661 Q178.167 538.448 180.042 540.74 Q181.94 543.031 181.94 546.341 Q181.94 551.365 178.861 554.05 Q175.806 556.735 170.088 556.735 Q164.37 556.735 161.292 554.05 Q158.236 551.365 158.236 546.341 Q158.236 543.031 160.134 540.74 Q162.033 538.448 165.412 537.661 M163.699 530.277 Q163.699 532.962 165.366 534.467 Q167.056 535.971 170.088 535.971 Q173.097 535.971 174.787 534.467 Q176.5 532.962 176.5 530.277 Q176.5 527.592 174.787 526.087 Q173.097 524.582 170.088 524.582 Q167.056 524.582 165.366 526.087 Q163.699 527.592 163.699 530.277 Z\" fill=\"#000000\" fill-rule=\"evenodd\" fill-opacity=\"1\" /><path clip-path=\"url(#clip680)\" d=\"M 0 0 M199.856 525.578 L188.051 544.027 L199.856 544.027 L199.856 525.578 M198.63 521.504 L204.509 521.504 L204.509 544.027 L209.44 544.027 L209.44 547.916 L204.509 547.916 L204.509 556.064 L199.856 556.064 L199.856 547.916 L184.255 547.916 L184.255 543.402 L198.63 521.504 Z\" fill=\"#000000\" fill-rule=\"evenodd\" fill-opacity=\"1\" /><path clip-path=\"url(#clip680)\" d=\"M 0 0 M227.356 525.578 L215.551 544.027 L227.356 544.027 L227.356 525.578 M226.129 521.504 L232.009 521.504 L232.009 544.027 L236.94 544.027 L236.94 547.916 L232.009 547.916 L232.009 556.064 L227.356 556.064 L227.356 547.916 L211.754 547.916 L211.754 543.402 L226.129 521.504 Z\" fill=\"#000000\" fill-rule=\"evenodd\" fill-opacity=\"1\" /><path clip-path=\"url(#clip680)\" d=\"M 0 0 M242.148 555.346 L242.148 551.087 Q243.907 551.92 245.713 552.36 Q247.518 552.8 249.254 552.8 Q253.884 552.8 256.314 549.698 Q258.768 546.573 259.115 540.23 Q257.773 542.221 255.713 543.286 Q253.652 544.351 251.152 544.351 Q245.967 544.351 242.935 541.226 Q239.926 538.078 239.926 532.638 Q239.926 527.314 243.074 524.096 Q246.222 520.879 251.453 520.879 Q257.449 520.879 260.597 525.485 Q263.768 530.068 263.768 538.818 Q263.768 546.99 259.879 551.874 Q256.014 556.735 249.463 556.735 Q247.703 556.735 245.898 556.388 Q244.092 556.04 242.148 555.346 M251.453 540.693 Q254.601 540.693 256.43 538.541 Q258.282 536.388 258.282 532.638 Q258.282 528.911 256.43 526.758 Q254.601 524.582 251.453 524.582 Q248.305 524.582 246.453 526.758 Q244.625 528.911 244.625 532.638 Q244.625 536.388 246.453 538.541 Q248.305 540.693 251.453 540.693 Z\" fill=\"#000000\" fill-rule=\"evenodd\" fill-opacity=\"1\" /><path clip-path=\"url(#clip680)\" d=\"M 0 0 M272.865 552.128 L289.185 552.128 L289.185 556.064 L267.24 556.064 L267.24 552.128 Q269.902 549.374 274.486 544.744 Q279.092 540.092 280.273 538.749 Q282.518 536.226 283.398 534.49 Q284.3 532.73 284.3 531.041 Q284.3 528.286 282.356 526.55 Q280.435 524.814 277.333 524.814 Q275.134 524.814 272.68 525.578 Q270.25 526.342 267.472 527.892 L267.472 523.17 Q270.296 522.036 272.75 521.457 Q275.203 520.879 277.24 520.879 Q282.611 520.879 285.805 523.564 Q288.999 526.249 288.999 530.74 Q288.999 532.869 288.189 534.791 Q287.402 536.689 285.296 539.281 Q284.717 539.953 281.615 543.17 Q278.513 546.365 272.865 552.128 Z\" fill=\"#000000\" fill-rule=\"evenodd\" fill-opacity=\"1\" /><path clip-path=\"url(#clip680)\" d=\"M 0 0 M298.282 552.128 L314.601 552.128 L314.601 556.064 L292.657 556.064 L292.657 552.128 Q295.319 549.374 299.902 544.744 Q304.509 540.092 305.689 538.749 Q307.935 536.226 308.814 534.49 Q309.717 532.73 309.717 531.041 Q309.717 528.286 307.772 526.55 Q305.851 524.814 302.749 524.814 Q300.55 524.814 298.097 525.578 Q295.666 526.342 292.888 527.892 L292.888 523.17 Q295.712 522.036 298.166 521.457 Q300.62 520.879 302.657 520.879 Q308.027 520.879 311.222 523.564 Q314.416 526.249 314.416 530.74 Q314.416 532.869 313.606 534.791 Q312.819 536.689 310.712 539.281 Q310.134 539.953 307.032 543.17 Q303.93 546.365 298.282 552.128 Z\" fill=\"#000000\" fill-rule=\"evenodd\" fill-opacity=\"1\" /><path clip-path=\"url(#clip680)\" d=\"M 0 0 M319.717 521.504 L338.073 521.504 L338.073 525.439 L323.999 525.439 L323.999 533.911 Q325.018 533.564 326.036 533.402 Q327.055 533.217 328.073 533.217 Q333.86 533.217 337.24 536.388 Q340.62 539.559 340.62 544.976 Q340.62 550.554 337.147 553.656 Q333.675 556.735 327.356 556.735 Q325.18 556.735 322.911 556.365 Q320.666 555.994 318.259 555.253 L318.259 550.554 Q320.342 551.689 322.564 552.244 Q324.786 552.8 327.263 552.8 Q331.268 552.8 333.606 550.693 Q335.944 548.587 335.944 544.976 Q335.944 541.365 333.606 539.258 Q331.268 537.152 327.263 537.152 Q325.388 537.152 323.513 537.568 Q321.661 537.985 319.717 538.865 L319.717 521.504 Z\" fill=\"#000000\" fill-rule=\"evenodd\" fill-opacity=\"1\" /><path clip-path=\"url(#clip680)\" d=\"M 0 0 M349.717 552.128 L366.036 552.128 L366.036 556.064 L344.092 556.064 L344.092 552.128 Q346.754 549.374 351.337 544.744 Q355.944 540.092 357.124 538.749 Q359.369 536.226 360.249 534.49 Q361.152 532.73 361.152 531.041 Q361.152 528.286 359.207 526.55 Q357.286 524.814 354.184 524.814 Q351.985 524.814 349.532 525.578 Q347.101 526.342 344.323 527.892 L344.323 523.17 Q347.147 522.036 349.601 521.457 Q352.055 520.879 354.092 520.879 Q359.462 520.879 362.656 523.564 Q365.851 526.249 365.851 530.74 Q365.851 532.869 365.041 534.791 Q364.254 536.689 362.147 539.281 Q361.569 539.953 358.467 543.17 Q355.365 546.365 349.717 552.128 Z\" fill=\"#000000\" fill-rule=\"evenodd\" fill-opacity=\"1\" /><path clip-path=\"url(#clip680)\" d=\"M 0 0 M371.244 555.346 L371.244 551.087 Q373.004 551.92 374.809 552.36 Q376.615 552.8 378.351 552.8 Q382.98 552.8 385.411 549.698 Q387.865 546.573 388.212 540.23 Q386.869 542.221 384.809 543.286 Q382.749 544.351 380.249 544.351 Q375.064 544.351 372.031 541.226 Q369.022 538.078 369.022 532.638 Q369.022 527.314 372.17 524.096 Q375.318 520.879 380.55 520.879 Q386.545 520.879 389.693 525.485 Q392.865 530.068 392.865 538.818 Q392.865 546.99 388.976 551.874 Q385.11 556.735 378.559 556.735 Q376.8 556.735 374.994 556.388 Q373.189 556.04 371.244 555.346 M380.55 540.693 Q383.698 540.693 385.527 538.541 Q387.379 536.388 387.379 532.638 Q387.379 528.911 385.527 526.758 Q383.698 524.582 380.55 524.582 Q377.402 524.582 375.55 526.758 Q373.721 528.911 373.721 532.638 Q373.721 536.388 375.55 538.541 Q377.402 540.693 380.55 540.693 Z\" fill=\"#000000\" fill-rule=\"evenodd\" fill-opacity=\"1\" /><path clip-path=\"url(#clip680)\" d=\"M 0 0 M401.962 552.128 L418.281 552.128 L418.281 556.064 L396.337 556.064 L396.337 552.128 Q398.999 549.374 403.582 544.744 Q408.189 540.092 409.369 538.749 Q411.615 536.226 412.494 534.49 Q413.397 532.73 413.397 531.041 Q413.397 528.286 411.452 526.55 Q409.531 524.814 406.429 524.814 Q404.23 524.814 401.777 525.578 Q399.346 526.342 396.568 527.892 L396.568 523.17 Q399.392 522.036 401.846 521.457 Q404.3 520.879 406.337 520.879 Q411.707 520.879 414.902 523.564 Q418.096 526.249 418.096 530.74 Q418.096 532.869 417.286 534.791 Q416.499 536.689 414.392 539.281 Q413.814 539.953 410.712 543.17 Q407.61 546.365 401.962 552.128 Z\" fill=\"#000000\" fill-rule=\"evenodd\" fill-opacity=\"1\" /><path clip-path=\"url(#clip680)\" d=\"M 0 0 M451.522 530.601 L440.943 541.226 L451.522 551.804 L448.767 554.605 L438.142 543.98 L427.517 554.605 L424.786 551.804 L435.341 541.226 L424.786 530.601 L427.517 527.8 L438.142 538.425 L448.767 527.8 L451.522 530.601 Z\" fill=\"#000000\" fill-rule=\"evenodd\" fill-opacity=\"1\" /><path clip-path=\"url(#clip680)\" d=\"M 0 0 M457.401 552.128 L465.04 552.128 L465.04 525.763 L456.73 527.43 L456.73 523.17 L464.994 521.504 L469.67 521.504 L469.67 552.128 L477.309 552.128 L477.309 556.064 L457.401 556.064 L457.401 552.128 Z\" fill=\"#000000\" fill-rule=\"evenodd\" fill-opacity=\"1\" /><path clip-path=\"url(#clip680)\" d=\"M 0 0 M492.378 524.582 Q488.767 524.582 486.938 528.147 Q485.133 531.689 485.133 538.818 Q485.133 545.925 486.938 549.49 Q488.767 553.031 492.378 553.031 Q496.012 553.031 497.818 549.49 Q499.646 545.925 499.646 538.818 Q499.646 531.689 497.818 528.147 Q496.012 524.582 492.378 524.582 M492.378 520.879 Q498.188 520.879 501.244 525.485 Q504.322 530.068 504.322 538.818 Q504.322 547.545 501.244 552.152 Q498.188 556.735 492.378 556.735 Q486.568 556.735 483.489 552.152 Q480.434 547.545 480.434 538.818 Q480.434 530.068 483.489 525.485 Q486.568 520.879 492.378 520.879 Z\" fill=\"#000000\" fill-rule=\"evenodd\" fill-opacity=\"1\" /><path clip-path=\"url(#clip680)\" d=\"M 0 0 M504.322 516.56 L514.46 516.56 L514.46 519.644 L504.322 519.644 L504.322 516.56 Z\" fill=\"#000000\" fill-rule=\"evenodd\" fill-opacity=\"1\" /><path clip-path=\"url(#clip680)\" d=\"M 0 0 M541.11 503.883 L531.518 518.873 L541.11 518.873 L541.11 503.883 M540.114 500.573 L544.891 500.573 L544.891 518.873 L548.897 518.873 L548.897 522.033 L544.891 522.033 L544.891 528.653 L541.11 528.653 L541.11 522.033 L528.434 522.033 L528.434 518.365 L540.114 500.573 Z\" fill=\"#000000\" fill-rule=\"evenodd\" fill-opacity=\"1\" /><path clip-path=\"url(#clip680)\" d=\"M 0 0 M126.662 213.806 L142.982 213.806 L142.982 217.741 L121.037 217.741 L121.037 213.806 Q123.699 211.052 128.283 206.422 Q132.889 201.769 134.07 200.427 Q136.315 197.904 137.195 196.167 Q138.097 194.408 138.097 192.718 Q138.097 189.964 136.153 188.228 Q134.232 186.492 131.13 186.492 Q128.931 186.492 126.477 187.255 Q124.047 188.019 121.269 189.57 L121.269 184.848 Q124.093 183.714 126.547 183.135 Q129 182.556 131.037 182.556 Q136.408 182.556 139.602 185.242 Q142.797 187.927 142.797 192.417 Q142.797 194.547 141.986 196.468 Q141.199 198.366 139.093 200.959 Q138.514 201.63 135.412 204.848 Q132.31 208.042 126.662 213.806 Z\" fill=\"#000000\" fill-rule=\"evenodd\" fill-opacity=\"1\" /><path clip-path=\"url(#clip680)\" d=\"M 0 0 M148.051 211.862 L152.935 211.862 L152.935 217.741 L148.051 217.741 L148.051 211.862 Z\" fill=\"#000000\" fill-rule=\"evenodd\" fill-opacity=\"1\" /><path clip-path=\"url(#clip680)\" d=\"M 0 0 M168.005 201.329 Q164.671 201.329 162.75 203.112 Q160.852 204.894 160.852 208.019 Q160.852 211.144 162.75 212.927 Q164.671 214.709 168.005 214.709 Q171.338 214.709 173.259 212.927 Q175.181 211.121 175.181 208.019 Q175.181 204.894 173.259 203.112 Q171.361 201.329 168.005 201.329 M163.329 199.339 Q160.32 198.598 158.63 196.538 Q156.963 194.478 156.963 191.515 Q156.963 187.371 159.903 184.964 Q162.866 182.556 168.005 182.556 Q173.167 182.556 176.107 184.964 Q179.046 187.371 179.046 191.515 Q179.046 194.478 177.357 196.538 Q175.69 198.598 172.704 199.339 Q176.083 200.126 177.958 202.417 Q179.857 204.709 179.857 208.019 Q179.857 213.042 176.778 215.728 Q173.722 218.413 168.005 218.413 Q162.287 218.413 159.208 215.728 Q156.153 213.042 156.153 208.019 Q156.153 204.709 158.051 202.417 Q159.949 200.126 163.329 199.339 M161.616 191.954 Q161.616 194.64 163.283 196.144 Q164.972 197.649 168.005 197.649 Q171.014 197.649 172.704 196.144 Q174.417 194.64 174.417 191.954 Q174.417 189.269 172.704 187.765 Q171.014 186.26 168.005 186.26 Q164.972 186.26 163.283 187.765 Q161.616 189.269 161.616 191.954 Z\" fill=\"#000000\" fill-rule=\"evenodd\" fill-opacity=\"1\" /><path clip-path=\"url(#clip680)\" d=\"M 0 0 M197.773 187.255 L185.968 205.704 L197.773 205.704 L197.773 187.255 M196.546 183.181 L202.426 183.181 L202.426 205.704 L207.356 205.704 L207.356 209.593 L202.426 209.593 L202.426 217.741 L197.773 217.741 L197.773 209.593 L182.171 209.593 L182.171 205.079 L196.546 183.181 Z\" fill=\"#000000\" fill-rule=\"evenodd\" fill-opacity=\"1\" /><path clip-path=\"url(#clip680)\" d=\"M 0 0 M225.273 187.255 L213.467 205.704 L225.273 205.704 L225.273 187.255 M224.046 183.181 L229.926 183.181 L229.926 205.704 L234.856 205.704 L234.856 209.593 L229.926 209.593 L229.926 217.741 L225.273 217.741 L225.273 209.593 L209.671 209.593 L209.671 205.079 L224.046 183.181 Z\" fill=\"#000000\" fill-rule=\"evenodd\" fill-opacity=\"1\" /><path clip-path=\"url(#clip680)\" d=\"M 0 0 M240.065 217.024 L240.065 212.765 Q241.824 213.598 243.629 214.038 Q245.435 214.478 247.171 214.478 Q251.801 214.478 254.231 211.376 Q256.685 208.251 257.032 201.908 Q255.689 203.899 253.629 204.964 Q251.569 206.028 249.069 206.028 Q243.884 206.028 240.852 202.904 Q237.842 199.755 237.842 194.316 Q237.842 188.992 240.99 185.774 Q244.139 182.556 249.37 182.556 Q255.365 182.556 258.513 187.163 Q261.685 191.746 261.685 200.496 Q261.685 208.667 257.796 213.552 Q253.93 218.413 247.379 218.413 Q245.62 218.413 243.815 218.065 Q242.009 217.718 240.065 217.024 M249.37 202.371 Q252.518 202.371 254.347 200.218 Q256.199 198.066 256.199 194.316 Q256.199 190.589 254.347 188.436 Q252.518 186.26 249.37 186.26 Q246.222 186.26 244.37 188.436 Q242.541 190.589 242.541 194.316 Q242.541 198.066 244.37 200.218 Q246.222 202.371 249.37 202.371 Z\" fill=\"#000000\" fill-rule=\"evenodd\" fill-opacity=\"1\" /><path clip-path=\"url(#clip680)\" d=\"M 0 0 M270.782 213.806 L287.101 213.806 L287.101 217.741 L265.157 217.741 L265.157 213.806 Q267.819 211.052 272.402 206.422 Q277.009 201.769 278.189 200.427 Q280.435 197.904 281.314 196.167 Q282.217 194.408 282.217 192.718 Q282.217 189.964 280.273 188.228 Q278.351 186.492 275.25 186.492 Q273.05 186.492 270.597 187.255 Q268.166 188.019 265.388 189.57 L265.388 184.848 Q268.213 183.714 270.666 183.135 Q273.12 182.556 275.157 182.556 Q280.527 182.556 283.722 185.242 Q286.916 187.927 286.916 192.417 Q286.916 194.547 286.106 196.468 Q285.319 198.366 283.212 200.959 Q282.634 201.63 279.532 204.848 Q276.43 208.042 270.782 213.806 Z\" fill=\"#000000\" fill-rule=\"evenodd\" fill-opacity=\"1\" /><path clip-path=\"url(#clip680)\" d=\"M 0 0 M296.198 213.806 L312.518 213.806 L312.518 217.741 L290.574 217.741 L290.574 213.806 Q293.236 211.052 297.819 206.422 Q302.425 201.769 303.606 200.427 Q305.851 197.904 306.731 196.167 Q307.634 194.408 307.634 192.718 Q307.634 189.964 305.689 188.228 Q303.768 186.492 300.666 186.492 Q298.467 186.492 296.013 187.255 Q293.583 188.019 290.805 189.57 L290.805 184.848 Q293.629 183.714 296.083 183.135 Q298.536 182.556 300.573 182.556 Q305.944 182.556 309.138 185.242 Q312.333 187.927 312.333 192.417 Q312.333 194.547 311.522 196.468 Q310.735 198.366 308.629 200.959 Q308.05 201.63 304.948 204.848 Q301.847 208.042 296.198 213.806 Z\" fill=\"#000000\" fill-rule=\"evenodd\" fill-opacity=\"1\" /><path clip-path=\"url(#clip680)\" d=\"M 0 0 M317.634 183.181 L335.99 183.181 L335.99 187.117 L321.916 187.117 L321.916 195.589 Q322.934 195.242 323.953 195.079 Q324.971 194.894 325.99 194.894 Q331.777 194.894 335.157 198.066 Q338.536 201.237 338.536 206.653 Q338.536 212.232 335.064 215.334 Q331.592 218.413 325.272 218.413 Q323.096 218.413 320.828 218.042 Q318.583 217.672 316.175 216.931 L316.175 212.232 Q318.259 213.366 320.481 213.922 Q322.703 214.478 325.18 214.478 Q329.184 214.478 331.522 212.371 Q333.86 210.265 333.86 206.653 Q333.86 203.042 331.522 200.936 Q329.184 198.829 325.18 198.829 Q323.305 198.829 321.43 199.246 Q319.578 199.663 317.634 200.542 L317.634 183.181 Z\" fill=\"#000000\" fill-rule=\"evenodd\" fill-opacity=\"1\" /><path clip-path=\"url(#clip680)\" d=\"M 0 0 M347.633 213.806 L363.953 213.806 L363.953 217.741 L342.008 217.741 L342.008 213.806 Q344.67 211.052 349.254 206.422 Q353.86 201.769 355.041 200.427 Q357.286 197.904 358.166 196.167 Q359.069 194.408 359.069 192.718 Q359.069 189.964 357.124 188.228 Q355.203 186.492 352.101 186.492 Q349.902 186.492 347.448 187.255 Q345.018 188.019 342.24 189.57 L342.24 184.848 Q345.064 183.714 347.518 183.135 Q349.971 182.556 352.008 182.556 Q357.379 182.556 360.573 185.242 Q363.768 187.927 363.768 192.417 Q363.768 194.547 362.957 196.468 Q362.17 198.366 360.064 200.959 Q359.485 201.63 356.383 204.848 Q353.282 208.042 347.633 213.806 Z\" fill=\"#000000\" fill-rule=\"evenodd\" fill-opacity=\"1\" /><path clip-path=\"url(#clip680)\" d=\"M 0 0 M369.161 217.024 L369.161 212.765 Q370.92 213.598 372.726 214.038 Q374.531 214.478 376.267 214.478 Q380.897 214.478 383.328 211.376 Q385.781 208.251 386.129 201.908 Q384.786 203.899 382.726 204.964 Q380.666 206.028 378.166 206.028 Q372.98 206.028 369.948 202.904 Q366.939 199.755 366.939 194.316 Q366.939 188.992 370.087 185.774 Q373.235 182.556 378.467 182.556 Q384.462 182.556 387.61 187.163 Q390.781 191.746 390.781 200.496 Q390.781 208.667 386.892 213.552 Q383.027 218.413 376.476 218.413 Q374.717 218.413 372.911 218.065 Q371.105 217.718 369.161 217.024 M378.467 202.371 Q381.615 202.371 383.443 200.218 Q385.295 198.066 385.295 194.316 Q385.295 190.589 383.443 188.436 Q381.615 186.26 378.467 186.26 Q375.318 186.26 373.467 188.436 Q371.638 190.589 371.638 194.316 Q371.638 198.066 373.467 200.218 Q375.318 202.371 378.467 202.371 Z\" fill=\"#000000\" fill-rule=\"evenodd\" fill-opacity=\"1\" /><path clip-path=\"url(#clip680)\" d=\"M 0 0 M408.698 187.255 L396.892 205.704 L408.698 205.704 L408.698 187.255 M407.471 183.181 L413.351 183.181 L413.351 205.704 L418.281 205.704 L418.281 209.593 L413.351 209.593 L413.351 217.741 L408.698 217.741 L408.698 209.593 L393.096 209.593 L393.096 205.079 L407.471 183.181 Z\" fill=\"#000000\" fill-rule=\"evenodd\" fill-opacity=\"1\" /><path clip-path=\"url(#clip680)\" d=\"M 0 0 M451.522 192.279 L440.943 202.904 L451.522 213.482 L448.767 216.283 L438.142 205.658 L427.517 216.283 L424.786 213.482 L435.341 202.904 L424.786 192.279 L427.517 189.478 L438.142 200.103 L448.767 189.478 L451.522 192.279 Z\" fill=\"#000000\" fill-rule=\"evenodd\" fill-opacity=\"1\" /><path clip-path=\"url(#clip680)\" d=\"M 0 0 M457.401 213.806 L465.04 213.806 L465.04 187.441 L456.73 189.107 L456.73 184.848 L464.994 183.181 L469.67 183.181 L469.67 213.806 L477.309 213.806 L477.309 217.741 L457.401 217.741 L457.401 213.806 Z\" fill=\"#000000\" fill-rule=\"evenodd\" fill-opacity=\"1\" /><path clip-path=\"url(#clip680)\" d=\"M 0 0 M492.378 186.26 Q488.767 186.26 486.938 189.825 Q485.133 193.367 485.133 200.496 Q485.133 207.603 486.938 211.167 Q488.767 214.709 492.378 214.709 Q496.012 214.709 497.818 211.167 Q499.646 207.603 499.646 200.496 Q499.646 193.367 497.818 189.825 Q496.012 186.26 492.378 186.26 M492.378 182.556 Q498.188 182.556 501.244 187.163 Q504.322 191.746 504.322 200.496 Q504.322 209.223 501.244 213.829 Q498.188 218.413 492.378 218.413 Q486.568 218.413 483.489 213.829 Q480.434 209.223 480.434 200.496 Q480.434 191.746 483.489 187.163 Q486.568 182.556 492.378 182.556 Z\" fill=\"#000000\" fill-rule=\"evenodd\" fill-opacity=\"1\" /><path clip-path=\"url(#clip680)\" d=\"M 0 0 M504.322 178.238 L514.46 178.238 L514.46 181.322 L504.322 181.322 L504.322 178.238 Z\" fill=\"#000000\" fill-rule=\"evenodd\" fill-opacity=\"1\" /><path clip-path=\"url(#clip680)\" d=\"M 0 0 M541.11 165.561 L531.518 180.551 L541.11 180.551 L541.11 165.561 M540.114 162.251 L544.891 162.251 L544.891 180.551 L548.897 180.551 L548.897 183.711 L544.891 183.711 L544.891 190.331 L541.11 190.331 L541.11 183.711 L528.434 183.711 L528.434 180.043 L540.114 162.251 Z\" fill=\"#000000\" fill-rule=\"evenodd\" fill-opacity=\"1\" /><path clip-path=\"url(#clip680)\" d=\"M 0 0 M1341.23 1520.4 L1347.08 1520.4 L1347.08 1556.04 L1341.23 1556.04 L1341.23 1520.4 M1341.23 1506.52 L1347.08 1506.52 L1347.08 1513.93 L1341.23 1513.93 L1341.23 1506.52 Z\" fill=\"#000000\" fill-rule=\"evenodd\" fill-opacity=\"1\" /><path clip-path=\"url(#clip680)\" d=\"M 0 0 M1359.02 1510.27 L1359.02 1520.4 L1371.08 1520.4 L1371.08 1524.95 L1359.02 1524.95 L1359.02 1544.3 Q1359.02 1548.66 1360.2 1549.9 Q1361.4 1551.14 1365.07 1551.14 L1371.08 1551.14 L1371.08 1556.04 L1365.07 1556.04 Q1358.29 1556.04 1355.71 1553.53 Q1353.13 1550.98 1353.13 1544.3 L1353.13 1524.95 L1348.83 1524.95 L1348.83 1520.4 L1353.13 1520.4 L1353.13 1510.27 L1359.02 1510.27 Z\" fill=\"#000000\" fill-rule=\"evenodd\" fill-opacity=\"1\" /><path clip-path=\"url(#clip680)\" d=\"M 0 0 M1407.72 1536.76 L1407.72 1539.62 L1380.79 1539.62 Q1381.17 1545.67 1384.42 1548.85 Q1387.7 1552 1393.52 1552 Q1396.89 1552 1400.04 1551.17 Q1403.23 1550.35 1406.35 1548.69 L1406.35 1554.23 Q1403.2 1555.57 1399.89 1556.27 Q1396.58 1556.97 1393.17 1556.97 Q1384.64 1556.97 1379.64 1552 Q1374.68 1547.04 1374.68 1538.57 Q1374.68 1529.82 1379.39 1524.69 Q1384.13 1519.54 1392.15 1519.54 Q1399.34 1519.54 1403.51 1524.18 Q1407.72 1528.8 1407.72 1536.76 M1401.86 1535.04 Q1401.8 1530.23 1399.15 1527.37 Q1396.54 1524.5 1392.21 1524.5 Q1387.31 1524.5 1384.35 1527.27 Q1381.42 1530.04 1380.98 1535.07 L1401.86 1535.04 Z\" fill=\"#000000\" fill-rule=\"evenodd\" fill-opacity=\"1\" /><path clip-path=\"url(#clip680)\" d=\"M 0 0 M1434.51 1525.87 Q1433.53 1525.3 1432.35 1525.04 Q1431.2 1524.76 1429.8 1524.76 Q1424.84 1524.76 1422.17 1528 Q1419.52 1531.22 1419.52 1537.27 L1419.52 1556.04 L1413.64 1556.04 L1413.64 1520.4 L1419.52 1520.4 L1419.52 1525.93 Q1421.37 1522.69 1424.33 1521.13 Q1427.29 1519.54 1431.52 1519.54 Q1432.13 1519.54 1432.86 1519.63 Q1433.59 1519.7 1434.48 1519.85 L1434.51 1525.87 Z\" fill=\"#000000\" fill-rule=\"evenodd\" fill-opacity=\"1\" /><path clip-path=\"url(#clip680)\" d=\"M 0 0 M1456.86 1538.12 Q1449.76 1538.12 1447.02 1539.75 Q1444.29 1541.37 1444.29 1545.29 Q1444.29 1548.4 1446.32 1550.25 Q1448.39 1552.07 1451.93 1552.07 Q1456.79 1552.07 1459.72 1548.63 Q1462.68 1545.16 1462.68 1539.43 L1462.68 1538.12 L1456.86 1538.12 M1468.54 1535.71 L1468.54 1556.04 L1462.68 1556.04 L1462.68 1550.63 Q1460.68 1553.88 1457.69 1555.44 Q1454.69 1556.97 1450.37 1556.97 Q1444.89 1556.97 1441.64 1553.91 Q1438.43 1550.82 1438.43 1545.67 Q1438.43 1539.65 1442.44 1536.6 Q1446.48 1533.54 1454.47 1533.54 L1462.68 1533.54 L1462.68 1532.97 Q1462.68 1528.93 1460.01 1526.73 Q1457.37 1524.5 1452.56 1524.5 Q1449.51 1524.5 1446.61 1525.23 Q1443.71 1525.97 1441.04 1527.43 L1441.04 1522.02 Q1444.25 1520.78 1447.28 1520.17 Q1450.3 1519.54 1453.17 1519.54 Q1460.9 1519.54 1464.72 1523.55 Q1468.54 1527.56 1468.54 1535.71 Z\" fill=\"#000000\" fill-rule=\"evenodd\" fill-opacity=\"1\" /><path clip-path=\"url(#clip680)\" d=\"M 0 0 M1500.34 1521.76 L1500.34 1527.24 Q1497.85 1525.87 1495.34 1525.2 Q1492.86 1524.5 1490.31 1524.5 Q1484.61 1524.5 1481.46 1528.13 Q1478.31 1531.73 1478.31 1538.25 Q1478.31 1544.78 1481.46 1548.4 Q1484.61 1552 1490.31 1552 Q1492.86 1552 1495.34 1551.33 Q1497.85 1550.63 1500.34 1549.26 L1500.34 1554.68 Q1497.89 1555.82 1495.24 1556.39 Q1492.63 1556.97 1489.67 1556.97 Q1481.62 1556.97 1476.88 1551.91 Q1472.14 1546.85 1472.14 1538.25 Q1472.14 1529.53 1476.91 1524.53 Q1481.72 1519.54 1490.06 1519.54 Q1492.76 1519.54 1495.34 1520.11 Q1497.92 1520.65 1500.34 1521.76 Z\" fill=\"#000000\" fill-rule=\"evenodd\" fill-opacity=\"1\" /><path clip-path=\"url(#clip680)\" d=\"M 0 0 M1506.48 1520.4 L1512.34 1520.4 L1512.34 1556.04 L1506.48 1556.04 L1506.48 1520.4 M1506.48 1506.52 L1512.34 1506.52 L1512.34 1513.93 L1506.48 1513.93 L1506.48 1506.52 Z\" fill=\"#000000\" fill-rule=\"evenodd\" fill-opacity=\"1\" /><path clip-path=\"url(#clip680)\" d=\"M 0 0 M1532.29 1524.5 Q1527.58 1524.5 1524.84 1528.19 Q1522.11 1531.85 1522.11 1538.25 Q1522.11 1544.65 1524.81 1548.34 Q1527.55 1552 1532.29 1552 Q1536.97 1552 1539.71 1548.31 Q1542.45 1544.62 1542.45 1538.25 Q1542.45 1531.92 1539.71 1528.23 Q1536.97 1524.5 1532.29 1524.5 M1532.29 1519.54 Q1539.93 1519.54 1544.29 1524.5 Q1548.65 1529.47 1548.65 1538.25 Q1548.65 1547 1544.29 1552 Q1539.93 1556.97 1532.29 1556.97 Q1524.62 1556.97 1520.26 1552 Q1515.93 1547 1515.93 1538.25 Q1515.93 1529.47 1520.26 1524.5 Q1524.62 1519.54 1532.29 1519.54 M1536.72 1503.91 L1543.05 1503.91 L1532.67 1515.88 L1527.8 1515.88 L1536.72 1503.91 Z\" fill=\"#000000\" fill-rule=\"evenodd\" fill-opacity=\"1\" /><path clip-path=\"url(#clip680)\" d=\"M 0 0 M1584.43 1534.53 L1584.43 1556.04 L1578.57 1556.04 L1578.57 1534.72 Q1578.57 1529.66 1576.6 1527.14 Q1574.62 1524.63 1570.68 1524.63 Q1565.93 1524.63 1563.2 1527.65 Q1560.46 1530.68 1560.46 1535.9 L1560.46 1556.04 L1554.57 1556.04 L1554.57 1520.4 L1560.46 1520.4 L1560.46 1525.93 Q1562.56 1522.72 1565.39 1521.13 Q1568.26 1519.54 1571.98 1519.54 Q1578.13 1519.54 1581.28 1523.36 Q1584.43 1527.14 1584.43 1534.53 Z\" fill=\"#000000\" fill-rule=\"evenodd\" fill-opacity=\"1\" /><path clip-path=\"url(#clip680)\" d=\"M 0 0 M68.7161 821.579 L71.5806 821.579 L71.5806 848.506 Q77.6281 848.124 80.8109 844.877 Q83.9619 841.599 83.9619 835.774 Q83.9619 832.4 83.1344 829.249 Q82.3069 826.067 80.6518 822.947 L86.1899 822.947 Q87.5267 826.098 88.227 829.409 Q88.9272 832.719 88.9272 836.124 Q88.9272 844.654 83.9619 849.651 Q78.9967 854.617 70.5303 854.617 Q61.7774 854.617 56.6531 849.906 Q51.4968 845.164 51.4968 837.143 Q51.4968 829.95 56.1438 825.78 Q60.7589 821.579 68.7161 821.579 M66.9973 827.435 Q62.1912 827.499 59.3266 830.141 Q56.4621 832.751 56.4621 837.079 Q56.4621 841.981 59.2312 844.941 Q62.0002 847.869 67.0292 848.315 L66.9973 827.435 Z\" fill=\"#000000\" fill-rule=\"evenodd\" fill-opacity=\"1\" /><path clip-path=\"url(#clip680)\" d=\"M 0 0 M57.8307 794.779 Q57.2578 795.766 57.0032 796.943 Q56.7167 798.089 56.7167 799.49 Q56.7167 804.455 59.9632 807.129 Q63.1779 809.77 69.2253 809.77 L88.0042 809.77 L88.0042 815.659 L52.3562 815.659 L52.3562 809.77 L57.8944 809.77 Q54.6479 807.924 53.0883 804.964 Q51.4968 802.004 51.4968 797.771 Q51.4968 797.166 51.5923 796.434 Q51.656 795.702 51.8151 794.811 L57.8307 794.779 Z\" fill=\"#000000\" fill-rule=\"evenodd\" fill-opacity=\"1\" /><path clip-path=\"url(#clip680)\" d=\"M 0 0 M57.8307 769.125 Q57.2578 770.112 57.0032 771.29 Q56.7167 772.435 56.7167 773.836 Q56.7167 778.801 59.9632 781.475 Q63.1779 784.117 69.2253 784.117 L88.0042 784.117 L88.0042 790.005 L52.3562 790.005 L52.3562 784.117 L57.8944 784.117 Q54.6479 782.27 53.0883 779.31 Q51.4968 776.35 51.4968 772.117 Q51.4968 771.512 51.5923 770.78 Q51.656 770.048 51.8151 769.157 L57.8307 769.125 Z\" fill=\"#000000\" fill-rule=\"evenodd\" fill-opacity=\"1\" /><path clip-path=\"url(#clip680)\" d=\"M 0 0 M56.4621 750.601 Q56.4621 755.312 60.1542 758.049 Q63.8145 760.786 70.212 760.786 Q76.6095 760.786 80.3017 758.081 Q83.9619 755.344 83.9619 750.601 Q83.9619 745.922 80.2698 743.185 Q76.5777 740.448 70.212 740.448 Q63.8781 740.448 60.186 743.185 Q56.4621 745.922 56.4621 750.601 M51.4968 750.601 Q51.4968 742.962 56.4621 738.602 Q61.4273 734.241 70.212 734.241 Q78.9649 734.241 83.9619 738.602 Q88.9272 742.962 88.9272 750.601 Q88.9272 758.272 83.9619 762.632 Q78.9649 766.961 70.212 766.961 Q61.4273 766.961 56.4621 762.632 Q51.4968 758.272 51.4968 750.601 Z\" fill=\"#000000\" fill-rule=\"evenodd\" fill-opacity=\"1\" /><path clip-path=\"url(#clip680)\" d=\"M 0 0 M57.8307 707.442 Q57.2578 708.428 57.0032 709.606 Q56.7167 710.752 56.7167 712.152 Q56.7167 717.117 59.9632 719.791 Q63.1779 722.433 69.2253 722.433 L88.0042 722.433 L88.0042 728.321 L52.3562 728.321 L52.3562 722.433 L57.8944 722.433 Q54.6479 720.587 53.0883 717.627 Q51.4968 714.667 51.4968 710.433 Q51.4968 709.829 51.5923 709.097 Q51.656 708.365 51.8151 707.473 L57.8307 707.442 Z\" fill=\"#000000\" fill-rule=\"evenodd\" fill-opacity=\"1\" /><path clip-path=\"url(#clip680)\" d=\"M 0 0 M40.4842 680.324 L40.4842 673.894 L82.5933 673.894 L82.5933 650.755 L88.0042 650.755 L88.0042 680.324 L40.4842 680.324 Z\" fill=\"#000000\" fill-rule=\"evenodd\" fill-opacity=\"1\" /><path clip-path=\"url(#clip680)\" d=\"M 0 0 M82.5933 638.246 L82.5933 615.807 L88.0042 615.807 L88.0042 645.981 L82.5933 645.981 Q78.8057 642.32 72.44 636.018 Q66.0425 629.684 64.1964 628.061 Q60.7271 624.974 58.34 623.764 Q55.921 622.523 53.5975 622.523 Q49.8099 622.523 47.4228 625.197 Q45.0356 627.838 45.0356 632.103 Q45.0356 635.127 46.086 638.501 Q47.1363 641.843 49.2688 645.662 L42.7758 645.662 Q41.2162 641.779 40.4205 638.405 Q39.6248 635.032 39.6248 632.231 Q39.6248 624.847 43.3169 620.454 Q47.009 616.062 53.1837 616.062 Q56.112 616.062 58.7537 617.176 Q61.3637 618.258 64.9285 621.154 Q65.8515 621.95 70.2757 626.215 Q74.668 630.48 82.5933 638.246 Z\" fill=\"#000000\" fill-rule=\"evenodd\" fill-opacity=\"1\" /><polyline clip-path=\"url(#clip682)\" style=\"stroke:#009af9; stroke-width:4; stroke-opacity:1; fill:none\" points=\"\n",
       "  623.27,86.1853 728.215,1384.24 833.159,848.907 938.104,985.802 1043.05,961.336 1147.99,964.661 1252.94,964.401 1357.88,964.378 1462.83,964.368 1567.77,964.363 \n",
       "  1672.72,964.328 1777.66,964.383 1882.6,964.332 1987.55,964.36 2092.49,964.404 2197.44,964.423 2302.38,964.346 \n",
       "  \"/>\n",
       "<circle clip-path=\"url(#clip682)\" cx=\"623.27\" cy=\"86.1853\" r=\"14\" fill=\"#009af9\" fill-rule=\"evenodd\" fill-opacity=\"1\" stroke=\"#000000\" stroke-opacity=\"1\" stroke-width=\"3.2\"/>\n",
       "<circle clip-path=\"url(#clip682)\" cx=\"728.215\" cy=\"1384.24\" r=\"14\" fill=\"#009af9\" fill-rule=\"evenodd\" fill-opacity=\"1\" stroke=\"#000000\" stroke-opacity=\"1\" stroke-width=\"3.2\"/>\n",
       "<circle clip-path=\"url(#clip682)\" cx=\"833.159\" cy=\"848.907\" r=\"14\" fill=\"#009af9\" fill-rule=\"evenodd\" fill-opacity=\"1\" stroke=\"#000000\" stroke-opacity=\"1\" stroke-width=\"3.2\"/>\n",
       "<circle clip-path=\"url(#clip682)\" cx=\"938.104\" cy=\"985.802\" r=\"14\" fill=\"#009af9\" fill-rule=\"evenodd\" fill-opacity=\"1\" stroke=\"#000000\" stroke-opacity=\"1\" stroke-width=\"3.2\"/>\n",
       "<circle clip-path=\"url(#clip682)\" cx=\"1043.05\" cy=\"961.336\" r=\"14\" fill=\"#009af9\" fill-rule=\"evenodd\" fill-opacity=\"1\" stroke=\"#000000\" stroke-opacity=\"1\" stroke-width=\"3.2\"/>\n",
       "<circle clip-path=\"url(#clip682)\" cx=\"1147.99\" cy=\"964.661\" r=\"14\" fill=\"#009af9\" fill-rule=\"evenodd\" fill-opacity=\"1\" stroke=\"#000000\" stroke-opacity=\"1\" stroke-width=\"3.2\"/>\n",
       "<circle clip-path=\"url(#clip682)\" cx=\"1252.94\" cy=\"964.401\" r=\"14\" fill=\"#009af9\" fill-rule=\"evenodd\" fill-opacity=\"1\" stroke=\"#000000\" stroke-opacity=\"1\" stroke-width=\"3.2\"/>\n",
       "<circle clip-path=\"url(#clip682)\" cx=\"1357.88\" cy=\"964.378\" r=\"14\" fill=\"#009af9\" fill-rule=\"evenodd\" fill-opacity=\"1\" stroke=\"#000000\" stroke-opacity=\"1\" stroke-width=\"3.2\"/>\n",
       "<circle clip-path=\"url(#clip682)\" cx=\"1462.83\" cy=\"964.368\" r=\"14\" fill=\"#009af9\" fill-rule=\"evenodd\" fill-opacity=\"1\" stroke=\"#000000\" stroke-opacity=\"1\" stroke-width=\"3.2\"/>\n",
       "<circle clip-path=\"url(#clip682)\" cx=\"1567.77\" cy=\"964.363\" r=\"14\" fill=\"#009af9\" fill-rule=\"evenodd\" fill-opacity=\"1\" stroke=\"#000000\" stroke-opacity=\"1\" stroke-width=\"3.2\"/>\n",
       "<circle clip-path=\"url(#clip682)\" cx=\"1672.72\" cy=\"964.328\" r=\"14\" fill=\"#009af9\" fill-rule=\"evenodd\" fill-opacity=\"1\" stroke=\"#000000\" stroke-opacity=\"1\" stroke-width=\"3.2\"/>\n",
       "<circle clip-path=\"url(#clip682)\" cx=\"1777.66\" cy=\"964.383\" r=\"14\" fill=\"#009af9\" fill-rule=\"evenodd\" fill-opacity=\"1\" stroke=\"#000000\" stroke-opacity=\"1\" stroke-width=\"3.2\"/>\n",
       "<circle clip-path=\"url(#clip682)\" cx=\"1882.6\" cy=\"964.332\" r=\"14\" fill=\"#009af9\" fill-rule=\"evenodd\" fill-opacity=\"1\" stroke=\"#000000\" stroke-opacity=\"1\" stroke-width=\"3.2\"/>\n",
       "<circle clip-path=\"url(#clip682)\" cx=\"1987.55\" cy=\"964.36\" r=\"14\" fill=\"#009af9\" fill-rule=\"evenodd\" fill-opacity=\"1\" stroke=\"#000000\" stroke-opacity=\"1\" stroke-width=\"3.2\"/>\n",
       "<circle clip-path=\"url(#clip682)\" cx=\"2092.49\" cy=\"964.404\" r=\"14\" fill=\"#009af9\" fill-rule=\"evenodd\" fill-opacity=\"1\" stroke=\"#000000\" stroke-opacity=\"1\" stroke-width=\"3.2\"/>\n",
       "<circle clip-path=\"url(#clip682)\" cx=\"2197.44\" cy=\"964.423\" r=\"14\" fill=\"#009af9\" fill-rule=\"evenodd\" fill-opacity=\"1\" stroke=\"#000000\" stroke-opacity=\"1\" stroke-width=\"3.2\"/>\n",
       "<circle clip-path=\"url(#clip682)\" cx=\"2302.38\" cy=\"964.346\" r=\"14\" fill=\"#009af9\" fill-rule=\"evenodd\" fill-opacity=\"1\" stroke=\"#000000\" stroke-opacity=\"1\" stroke-width=\"3.2\"/>\n",
       "<path clip-path=\"url(#clip680)\" d=\"\n",
       "M1989.74 251.724 L2280.76 251.724 L2280.76 130.764 L1989.74 130.764  Z\n",
       "  \" fill=\"#ffffff\" fill-rule=\"evenodd\" fill-opacity=\"1\"/>\n",
       "<polyline clip-path=\"url(#clip680)\" style=\"stroke:#000000; stroke-width:4; stroke-opacity:1; fill:none\" points=\"\n",
       "  1989.74,251.724 2280.76,251.724 2280.76,130.764 1989.74,130.764 1989.74,251.724 \n",
       "  \"/>\n",
       "<polyline clip-path=\"url(#clip680)\" style=\"stroke:#009af9; stroke-width:4; stroke-opacity:1; fill:none\" points=\"\n",
       "  2013.74,191.244 2157.74,191.244 \n",
       "  \"/>\n",
       "<circle clip-path=\"url(#clip680)\" cx=\"2097.74\" cy=\"191.244\" r=\"23\" fill=\"#009af9\" fill-rule=\"evenodd\" fill-opacity=\"1\" stroke=\"#000000\" stroke-opacity=\"1\" stroke-width=\"5.12\"/>\n",
       "<path clip-path=\"url(#clip680)\" d=\"M 0 0 M2195.58 210.931 Q2193.77 215.561 2192.06 216.973 Q2190.35 218.385 2187.48 218.385 L2184.08 218.385 L2184.08 214.82 L2186.58 214.82 Q2188.33 214.82 2189.31 213.987 Q2190.28 213.154 2191.46 210.052 L2192.22 208.107 L2181.74 182.598 L2186.25 182.598 L2194.35 202.876 L2202.46 182.598 L2206.97 182.598 L2195.58 210.931 Z\" fill=\"#000000\" fill-rule=\"evenodd\" fill-opacity=\"1\" /><path clip-path=\"url(#clip680)\" d=\"M 0 0 M2212.85 204.589 L2220.49 204.589 L2220.49 178.223 L2212.18 179.89 L2212.18 175.631 L2220.44 173.964 L2225.12 173.964 L2225.12 204.589 L2232.76 204.589 L2232.76 208.524 L2212.85 208.524 L2212.85 204.589 Z\" fill=\"#000000\" fill-rule=\"evenodd\" fill-opacity=\"1\" /></svg>\n"
      ]
     },
     "execution_count": 23,
     "metadata": {},
     "output_type": "execute_result"
    }
   ],
   "source": [
    "K = LinRange(0, n_iter, n_iter+1)\n",
    "plot(K,error_L2_k,\n",
    "    shape=:auto,\n",
    "    xlabel=\"iteración\",ylabel=\"error L2\")"
   ]
  },
  {
   "cell_type": "markdown",
   "metadata": {},
   "source": [
    "## Comparación tiempo\n",
    "### N_intervalos = nucleos/2"
   ]
  },
  {
   "cell_type": "code",
   "execution_count": 24,
   "metadata": {},
   "outputs": [
    {
     "ename": "InterruptException",
     "evalue": "InterruptException:",
     "output_type": "error",
     "traceback": [
      "InterruptException:",
      "",
      "Stacktrace:",
      " [1] getitems! at /home/noelia/.julia/packages/Gridap/z6IdO/src/Arrays/Interface.jl:290 [inlined]",
      " [2] _getindex!(::Tuple{Nothing,Gridap.Arrays.CachedArray{Float64,1,Array{Float64,1}},Tuple{Tuple{Tuple{Nothing,Gridap.Arrays.CachedArray{Int64,1,Array{Int64,1}},Tuple{Nothing,Nothing}},Gridap.Arrays.Evaluation{Tuple{Int64},Array{Int64,1}}},Tuple{Tuple{Nothing,Gridap.Arrays.CachedArray{Float64,1,Array{Float64,1}},Tuple{Nothing,Tuple{Gridap.Arrays.CachedArray{Int64,1,Array{Int64,1}},Gridap.Arrays.CachedArray{Float64,1,Array{Float64,1}}}}},Gridap.Arrays.Evaluation{Tuple{Int64},Array{Float64,1}}}}}, ::Gridap.Arrays.AppliedArray{Array{Float64,1},1,Tuple{Gridap.Arrays.AppliedArray{Array{Int64,1},1,Tuple{FillArrays.Fill{Int64,1,Tuple{Base.OneTo{Int64}}},Gridap.Arrays.CompressedArray{Array{Gridap.TensorValues.MultiValue{Tuple{2},Float64,1,2},1},1,Array{Array{Gridap.TensorValues.MultiValue{Tuple{2},Float64,1,2},1},1},Array{Int8,1}}},FillArrays.Fill{Gridap.Fields.Eval,1,Tuple{Base.OneTo{Int64}}}},Gridap.Arrays.AppliedArray{Array{Float64,1},1,Tuple{Gridap.Arrays.CompressedArray{Array{Float64,2},1,Array{Array{Float64,2},1},Array{Int8,1}},Gridap.Arrays.LocalToGlobalPosNegArray{Float64,1,1,Gridap.FESpaces.CellDofsNonOriented,Array{Float64,1},Array{Float64,1}}},FillArrays.Fill{Gridap.Fields.LinCom,1,Tuple{Base.OneTo{Int64}}}}},FillArrays.Fill{Gridap.Fields.FieldBinOp{typeof(*)},1,Tuple{Base.OneTo{Int64}}}}, ::Int64) at /home/noelia/.julia/packages/Gridap/z6IdO/src/Arrays/Apply.jl:275",
      " [3] _cached_getindex! at /home/noelia/.julia/packages/Gridap/z6IdO/src/Arrays/Apply.jl:265 [inlined]",
      " [4] getindex! at /home/noelia/.julia/packages/Gridap/z6IdO/src/Arrays/Apply.jl:254 [inlined]",
      " [5] _getitems! at /home/noelia/.julia/packages/Gridap/z6IdO/src/Arrays/Interface.jl:295 [inlined]",
      " ... (the last 5 lines are repeated 1 more time)",
      " [11] getitems! at /home/noelia/.julia/packages/Gridap/z6IdO/src/Arrays/Interface.jl:290 [inlined]",
      " [12] _getindex!(::Tuple{Nothing,Gridap.Arrays.CachedArray{Float64,1,Array{Float64,1}},Tuple{Tuple{Tuple{Nothing,Gridap.Arrays.CachedArray{Float64,1,Array{Float64,1}},Tuple{Tuple{Tuple{Nothing,Gridap.Arrays.CachedArray{Float64,1,Array{Float64,1}},Tuple{Tuple{Tuple{Nothing,Gridap.Arrays.CachedArray{Int64,1,Array{Int64,1}},Tuple{Nothing,Nothing}},Gridap.Arrays.Evaluation{Tuple{Int64},Array{Int64,1}}},Tuple{Tuple{Nothing,Gridap.Arrays.CachedArray{Float64,1,Array{Float64,1}},Tuple{Nothing,Tuple{Gridap.Arrays.CachedArray{Int64,1,Array{Int64,1}},Gridap.Arrays.CachedArray{Float64,1,Array{Float64,1}}}}},Gridap.Arrays.Evaluation{Tuple{Int64},Array{Float64,1}}}}},Gridap.Arrays.Evaluation{Tuple{Int64},Array{Float64,1}}},Tuple{Tuple{Nothing,Gridap.Arrays.CachedArray{Float64,1,Array{Float64,1}},Tuple{Nothing,Tuple{Gridap.Arrays.CachedArray{Int64,1,Array{Int64,1}},Gridap.Arrays.CachedArray{Float64,1,Array{Float64,1}}}}},Gridap.Arrays.Evaluation{Tuple{Int64},Array{Float64,1}}}}},Gridap.Arrays.Evaluation{Tuple{Int64},Array{Float64,1}}},Tuple{Tuple{Nothing,Gridap.Arrays.CachedArray{Float64,1,Array{Float64,1}},Tuple{Nothing,Tuple{Gridap.Arrays.CachedArray{Int64,1,Array{Int64,1}},Gridap.Arrays.CachedArray{Float64,1,Array{Float64,1}}}}},Gridap.Arrays.Evaluation{Tuple{Int64},Array{Float64,1}}}}}, ::Gridap.Arrays.AppliedArray{Array{Float64,1},1,Tuple{Gridap.Arrays.AppliedArray{Array{Float64,1},1,Tuple{Gridap.Arrays.AppliedArray{Array{Float64,1},1,Tuple{Gridap.Arrays.AppliedArray{Array{Int64,1},1,Tuple{FillArrays.Fill{Int64,1,Tuple{Base.OneTo{Int64}}},Gridap.Arrays.CompressedArray{Array{Gridap.TensorValues.MultiValue{Tuple{2},Float64,1,2},1},1,Array{Array{Gridap.TensorValues.MultiValue{Tuple{2},Float64,1,2},1},1},Array{Int8,1}}},FillArrays.Fill{Gridap.Fields.Eval,1,Tuple{Base.OneTo{Int64}}}},Gridap.Arrays.AppliedArray{Array{Float64,1},1,Tuple{Gridap.Arrays.CompressedArray{Array{Float64,2},1,Array{Array{Float64,2},1},Array{Int8,1}},Gridap.Arrays.LocalToGlobalPosNegArray{Float64,1,1,Gridap.FESpaces.CellDofsNonOriented,Array{Float64,1},Array{Float64,1}}},FillArrays.Fill{Gridap.Fields.LinCom,1,Tuple{Base.OneTo{Int64}}}}},FillArrays.Fill{Gridap.Fields.FieldBinOp{typeof(*)},1,Tuple{Base.OneTo{Int64}}}},Gridap.Arrays.AppliedArray{Array{Float64,1},1,Tuple{Gridap.Arrays.CompressedArray{Array{Float64,2},1,Array{Array{Float64,2},1},Array{Int8,1}},Gridap.Arrays.LocalToGlobalPosNegArray{Float64,1,1,Gridap.FESpaces.CellDofsNonOriented,Array{Float64,1},Array{Float64,1}}},FillArrays.Fill{Gridap.Fields.LinCom,1,Tuple{Base.OneTo{Int64}}}}},FillArrays.Fill{Gridap.Fields.FieldBinOp{typeof(+)},1,Tuple{Base.OneTo{Int64}}}},Gridap.Arrays.AppliedArray{Array{Float64,1},1,Tuple{Gridap.Arrays.CompressedArray{Array{Float64,2},1,Array{Array{Float64,2},1},Array{Int8,1}},Gridap.Arrays.LocalToGlobalPosNegArray{Float64,1,1,Gridap.FESpaces.CellDofsNonOriented,Array{Float64,1},Array{Float64,1}}},FillArrays.Fill{Gridap.Fields.LinCom,1,Tuple{Base.OneTo{Int64}}}}},FillArrays.Fill{Gridap.Fields.FieldBinOp{typeof(-)},1,Tuple{Base.OneTo{Int64}}}}, ::Int64) at /home/noelia/.julia/packages/Gridap/z6IdO/src/Arrays/Apply.jl:275",
      " [13] _cached_getindex! at /home/noelia/.julia/packages/Gridap/z6IdO/src/Arrays/Apply.jl:265 [inlined]",
      " [14] getindex! at /home/noelia/.julia/packages/Gridap/z6IdO/src/Arrays/Apply.jl:254 [inlined]",
      " [15] _getitems! at /home/noelia/.julia/packages/Gridap/z6IdO/src/Arrays/Interface.jl:302 [inlined]",
      " [16] getitems! at /home/noelia/.julia/packages/Gridap/z6IdO/src/Arrays/Interface.jl:290 [inlined]",
      " [17] _getitems! at /home/noelia/.julia/packages/Gridap/z6IdO/src/Arrays/Interface.jl:296 [inlined]",
      " [18] getitems! at /home/noelia/.julia/packages/Gridap/z6IdO/src/Arrays/Interface.jl:290 [inlined]",
      " [19] _getindex!(::Tuple{Nothing,Gridap.Arrays.CachedArray{Float64,2,Array{Float64,2}},Tuple{Nothing,Tuple{Tuple{Nothing,Gridap.Arrays.CachedArray{Float64,1,Array{Float64,1}},Tuple{Tuple{Tuple{Nothing,Gridap.Arrays.CachedArray{Float64,1,Array{Float64,1}},Tuple{Tuple{Tuple{Nothing,Gridap.Arrays.CachedArray{Float64,1,Array{Float64,1}},Tuple{Tuple{Tuple{Nothing,Gridap.Arrays.CachedArray{Int64,1,Array{Int64,1}},Tuple{Nothing,Nothing}},Gridap.Arrays.Evaluation{Tuple{Int64},Array{Int64,1}}},Tuple{Tuple{Nothing,Gridap.Arrays.CachedArray{Float64,1,Array{Float64,1}},Tuple{Nothing,Tuple{Gridap.Arrays.CachedArray{Int64,1,Array{Int64,1}},Gridap.Arrays.CachedArray{Float64,1,Array{Float64,1}}}}},Gridap.Arrays.Evaluation{Tuple{Int64},Array{Float64,1}}}}},Gridap.Arrays.Evaluation{Tuple{Int64},Array{Float64,1}}},Tuple{Tuple{Nothing,Gridap.Arrays.CachedArray{Float64,1,Array{Float64,1}},Tuple{Nothing,Tuple{Gridap.Arrays.CachedArray{Int64,1,Array{Int64,1}},Gridap.Arrays.CachedArray{Float64,1,Array{Float64,1}}}}},Gridap.Arrays.Evaluation{Tuple{Int64},Array{Float64,1}}}}},Gridap.Arrays.Evaluation{Tuple{Int64},Array{Float64,1}}},Tuple{Tuple{Nothing,Gridap.Arrays.CachedArray{Float64,1,Array{Float64,1}},Tuple{Nothing,Tuple{Gridap.Arrays.CachedArray{Int64,1,Array{Int64,1}},Gridap.Arrays.CachedArray{Float64,1,Array{Float64,1}}}}},Gridap.Arrays.Evaluation{Tuple{Int64},Array{Float64,1}}}}},Gridap.Arrays.Evaluation{Tuple{Int64},Array{Float64,1}}}}}, ::Gridap.Arrays.AppliedArray{Array{Float64,2},1,Tuple{Gridap.Arrays.CompressedArray{Array{Float64,2},1,Array{Array{Float64,2},1},Array{Int8,1}},Gridap.Arrays.AppliedArray{Array{Float64,1},1,Tuple{Gridap.Arrays.AppliedArray{Array{Float64,1},1,Tuple{Gridap.Arrays.AppliedArray{Array{Float64,1},1,Tuple{Gridap.Arrays.AppliedArray{Array{Int64,1},1,Tuple{FillArrays.Fill{Int64,1,Tuple{Base.OneTo{Int64}}},Gridap.Arrays.CompressedArray{Array{Gridap.TensorValues.MultiValue{Tuple{2},Float64,1,2},1},1,Array{Array{Gridap.TensorValues.MultiValue{Tuple{2},Float64,1,2},1},1},Array{Int8,1}}},FillArrays.Fill{Gridap.Fields.Eval,1,Tuple{Base.OneTo{Int64}}}},Gridap.Arrays.AppliedArray{Array{Float64,1},1,Tuple{Gridap.Arrays.CompressedArray{Array{Float64,2},1,Array{Array{Float64,2},1},Array{Int8,1}},Gridap.Arrays.LocalToGlobalPosNegArray{Float64,1,1,Gridap.FESpaces.CellDofsNonOriented,Array{Float64,1},Array{Float64,1}}},FillArrays.Fill{Gridap.Fields.LinCom,1,Tuple{Base.OneTo{Int64}}}}},FillArrays.Fill{Gridap.Fields.FieldBinOp{typeof(*)},1,Tuple{Base.OneTo{Int64}}}},Gridap.Arrays.AppliedArray{Array{Float64,1},1,Tuple{Gridap.Arrays.CompressedArray{Array{Float64,2},1,Array{Array{Float64,2},1},Array{Int8,1}},Gridap.Arrays.LocalToGlobalPosNegArray{Float64,1,1,Gridap.FESpaces.CellDofsNonOriented,Array{Float64,1},Array{Float64,1}}},FillArrays.Fill{Gridap.Fields.LinCom,1,Tuple{Base.OneTo{Int64}}}}},FillArrays.Fill{Gridap.Fields.FieldBinOp{typeof(+)},1,Tuple{Base.OneTo{Int64}}}},Gridap.Arrays.AppliedArray{Array{Float64,1},1,Tuple{Gridap.Arrays.CompressedArray{Array{Float64,2},1,Array{Array{Float64,2},1},Array{Int8,1}},Gridap.Arrays.LocalToGlobalPosNegArray{Float64,1,1,Gridap.FESpaces.CellDofsNonOriented,Array{Float64,1},Array{Float64,1}}},FillArrays.Fill{Gridap.Fields.LinCom,1,Tuple{Base.OneTo{Int64}}}}},FillArrays.Fill{Gridap.Fields.FieldBinOp{typeof(-)},1,Tuple{Base.OneTo{Int64}}}}},FillArrays.Fill{Gridap.Fields.FieldBinOp{typeof(*)},1,Tuple{Base.OneTo{Int64}}}}, ::Int64) at /home/noelia/.julia/packages/Gridap/z6IdO/src/Arrays/Apply.jl:275",
      " [20] _cached_getindex! at /home/noelia/.julia/packages/Gridap/z6IdO/src/Arrays/Apply.jl:265 [inlined]",
      " [21] getindex! at /home/noelia/.julia/packages/Gridap/z6IdO/src/Arrays/Apply.jl:254 [inlined]",
      " [22] _getitems! at /home/noelia/.julia/packages/Gridap/z6IdO/src/Arrays/Interface.jl:302 [inlined]",
      " [23] getitems!(::Tuple{Tuple{Tuple{Nothing,Gridap.Arrays.CachedArray{Float64,2,Array{Float64,2}},Tuple{Nothing,Tuple{Tuple{Nothing,Gridap.Arrays.CachedArray{Float64,1,Array{Float64,1}},Tuple{Tuple{Tuple{Nothing,Gridap.Arrays.CachedArray{Float64,1,Array{Float64,1}},Tuple{Tuple{Tuple{Nothing,Gridap.Arrays.CachedArray{Float64,1,Array{Float64,1}},Tuple{Tuple{Tuple{Nothing,Gridap.Arrays.CachedArray{Int64,1,Array{Int64,1}},Tuple{Nothing,Nothing}},Gridap.Arrays.Evaluation{Tuple{Int64},Array{Int64,1}}},Tuple{Tuple{Nothing,Gridap.Arrays.CachedArray{Float64,1,Array{Float64,1}},Tuple{Nothing,Tuple{Gridap.Arrays.CachedArray{Int64,1,Array{Int64,1}},Gridap.Arrays.CachedArray{Float64,1,Array{Float64,1}}}}},Gridap.Arrays.Evaluation{Tuple{Int64},Array{Float64,1}}}}},Gridap.Arrays.Evaluation{Tuple{Int64},Array{Float64,1}}},Tuple{Tuple{Nothing,Gridap.Arrays.CachedArray{Float64,1,Array{Float64,1}},Tuple{Nothing,Tuple{Gridap.Arrays.CachedArray{Int64,1,Array{Int64,1}},Gridap.Arrays.CachedArray{Float64,1,Array{Float64,1}}}}},Gridap.Arrays.Evaluation{Tuple{Int64},Array{Float64,1}}}}},Gridap.Arrays.Evaluation{Tuple{Int64},Array{Float64,1}}},Tuple{Tuple{Nothing,Gridap.Arrays.CachedArray{Float64,1,Array{Float64,1}},Tuple{Nothing,Tuple{Gridap.Arrays.CachedArray{Int64,1,Array{Int64,1}},Gridap.Arrays.CachedArray{Float64,1,Array{Float64,1}}}}},Gridap.Arrays.Evaluation{Tuple{Int64},Array{Float64,1}}}}},Gridap.Arrays.Evaluation{Tuple{Int64},Array{Float64,1}}}}},Gridap.Arrays.Evaluation{Tuple{Int64},Array{Float64,2}}}}, ::Tuple{Gridap.Arrays.AppliedArray{Array{Float64,2},1,Tuple{Gridap.Arrays.CompressedArray{Array{Float64,2},1,Array{Array{Float64,2},1},Array{Int8,1}},Gridap.Arrays.AppliedArray{Array{Float64,1},1,Tuple{Gridap.Arrays.AppliedArray{Array{Float64,1},1,Tuple{Gridap.Arrays.AppliedArray{Array{Float64,1},1,Tuple{Gridap.Arrays.AppliedArray{Array{Int64,1},1,Tuple{FillArrays.Fill{Int64,1,Tuple{Base.OneTo{Int64}}},Gridap.Arrays.CompressedArray{Array{Gridap.TensorValues.MultiValue{Tuple{2},Float64,1,2},1},1,Array{Array{Gridap.TensorValues.MultiValue{Tuple{2},Float64,1,2},1},1},Array{Int8,1}}},FillArrays.Fill{Gridap.Fields.Eval,1,Tuple{Base.OneTo{Int64}}}},Gridap.Arrays.AppliedArray{Array{Float64,1},1,Tuple{Gridap.Arrays.CompressedArray{Array{Float64,2},1,Array{Array{Float64,2},1},Array{Int8,1}},Gridap.Arrays.LocalToGlobalPosNegArray{Float64,1,1,Gridap.FESpaces.CellDofsNonOriented,Array{Float64,1},Array{Float64,1}}},FillArrays.Fill{Gridap.Fields.LinCom,1,Tuple{Base.OneTo{Int64}}}}},FillArrays.Fill{Gridap.Fields.FieldBinOp{typeof(*)},1,Tuple{Base.OneTo{Int64}}}},Gridap.Arrays.AppliedArray{Array{Float64,1},1,Tuple{Gridap.Arrays.CompressedArray{Array{Float64,2},1,Array{Array{Float64,2},1},Array{Int8,1}},Gridap.Arrays.LocalToGlobalPosNegArray{Float64,1,1,Gridap.FESpaces.CellDofsNonOriented,Array{Float64,1},Array{Float64,1}}},FillArrays.Fill{Gridap.Fields.LinCom,1,Tuple{Base.OneTo{Int64}}}}},FillArrays.Fill{Gridap.Fields.FieldBinOp{typeof(+)},1,Tuple{Base.OneTo{Int64}}}},Gridap.Arrays.AppliedArray{Array{Float64,1},1,Tuple{Gridap.Arrays.CompressedArray{Array{Float64,2},1,Array{Array{Float64,2},1},Array{Int8,1}},Gridap.Arrays.LocalToGlobalPosNegArray{Float64,1,1,Gridap.FESpaces.CellDofsNonOriented,Array{Float64,1},Array{Float64,1}}},FillArrays.Fill{Gridap.Fields.LinCom,1,Tuple{Base.OneTo{Int64}}}}},FillArrays.Fill{Gridap.Fields.FieldBinOp{typeof(-)},1,Tuple{Base.OneTo{Int64}}}}},FillArrays.Fill{Gridap.Fields.FieldBinOp{typeof(*)},1,Tuple{Base.OneTo{Int64}}}}}, ::Int64) at /home/noelia/.julia/packages/Gridap/z6IdO/src/Arrays/Interface.jl:290",
      " [24] _getitems! at /home/noelia/.julia/packages/Gridap/z6IdO/src/Arrays/Interface.jl:296 [inlined]",
      " [25] getitems! at /home/noelia/.julia/packages/Gridap/z6IdO/src/Arrays/Interface.jl:290 [inlined]",
      " [26] _getindex!(::Tuple{Nothing,Gridap.Arrays.CachedArray{Float64,2,Array{Float64,2}},Tuple{Tuple{Tuple{Nothing,Gridap.Arrays.CachedArray{Float64,2,Array{Float64,2}},Tuple{Tuple{Tuple{Nothing,Gridap.Arrays.CachedArray{Float64,2,Array{Float64,2}},Tuple{Nothing,Tuple{Tuple{Nothing,Gridap.Arrays.CachedArray{Float64,1,Array{Float64,1}},Tuple{Nothing,Nothing}},Gridap.Arrays.Evaluation{Tuple{Int64},Array{Float64,1}}}}},Gridap.Arrays.Evaluation{Tuple{Int64},Array{Float64,2}}},Tuple{Tuple{Nothing,Gridap.Arrays.CachedArray{Float64,1,Array{Float64,1}},Tuple{Tuple{Tuple{Nothing,Gridap.Arrays.CachedArray{Gridap.TensorValues.MultiValue{Tuple{2},Float64,1,2},1,Array{Gridap.TensorValues.MultiValue{Tuple{2},Float64,1,2},1}},Tuple{Nothing,Tuple{Gridap.Arrays.CachedArray{Int64,1,Array{Int64,1}},Gridap.Arrays.CachedArray{Gridap.TensorValues.MultiValue{Tuple{2},Float64,1,2},1,Array{Gridap.TensorValues.MultiValue{Tuple{2},Float64,1,2},1}}}}},Gridap.Arrays.Evaluation{Tuple{Int64},Array{Gridap.TensorValues.MultiValue{Tuple{2},Float64,1,2},1}}}}},Gridap.Arrays.Evaluation{Tuple{Int64},Array{Float64,1}}}}},Gridap.Arrays.Evaluation{Tuple{Int64},Array{Float64,2}}},Tuple{Tuple{Nothing,Gridap.Arrays.CachedArray{Float64,2,Array{Float64,2}},Tuple{Nothing,Tuple{Tuple{Nothing,Gridap.Arrays.CachedArray{Float64,1,Array{Float64,1}},Tuple{Tuple{Tuple{Nothing,Gridap.Arrays.CachedArray{Float64,1,Array{Float64,1}},Tuple{Tuple{Tuple{Nothing,Gridap.Arrays.CachedArray{Float64,1,Array{Float64,1}},Tuple{Tuple{Tuple{Nothing,Gridap.Arrays.CachedArray{Int64,1,Array{Int64,1}},Tuple{Nothing,Nothing}},Gridap.Arrays.Evaluation{Tuple{Int64},Array{Int64,1}}},Tuple{Tuple{Nothing,Gridap.Arrays.CachedArray{Float64,1,Array{Float64,1}},Tuple{Nothing,Tuple{Gridap.Arrays.CachedArray{Int64,1,Array{Int64,1}},Gridap.Arrays.CachedArray{Float64,1,Array{Float64,1}}}}},Gridap.Arrays.Evaluation{Tuple{Int64},Array{Float64,1}}}}},Gridap.Arrays.Evaluation{Tuple{Int64},Array{Float64,1}}},Tuple{Tuple{Nothing,Gridap.Arrays.CachedArray{Float64,1,Array{Float64,1}},Tuple{Nothing,Tuple{Gridap.Arrays.CachedArray{Int64,1,Array{Int64,1}},Gridap.Arrays.CachedArray{Float64,1,Array{Float64,1}}}}},Gridap.Arrays.Evaluation{Tuple{Int64},Array{Float64,1}}}}},Gridap.Arrays.Evaluation{Tuple{Int64},Array{Float64,1}}},Tuple{Tuple{Nothing,Gridap.Arrays.CachedArray{Float64,1,Array{Float64,1}},Tuple{Nothing,Tuple{Gridap.Arrays.CachedArray{Int64,1,Array{Int64,1}},Gridap.Arrays.CachedArray{Float64,1,Array{Float64,1}}}}},Gridap.Arrays.Evaluation{Tuple{Int64},Array{Float64,1}}}}},Gridap.Arrays.Evaluation{Tuple{Int64},Array{Float64,1}}}}},Gridap.Arrays.Evaluation{Tuple{Int64},Array{Float64,2}}}}}, ::Gridap.Arrays.AppliedArray{Array{Float64,2},1,Tuple{Gridap.Arrays.AppliedArray{Array{Float64,2},1,Tuple{Gridap.Arrays.AppliedArray{Array{Float64,2},1,Tuple{Gridap.Arrays.CompressedArray{Array{Float64,2},1,Array{Array{Float64,2},1},Array{Int8,1}},Gridap.Arrays.AppliedArray{Array{Float64,1},1,Tuple{FillArrays.Fill{Float64,1,Tuple{Base.OneTo{Int64}}},Gridap.Arrays.CompressedArray{Array{Gridap.TensorValues.MultiValue{Tuple{2},Float64,1,2},1},1,Array{Array{Gridap.TensorValues.MultiValue{Tuple{2},Float64,1,2},1},1},Array{Int8,1}}},FillArrays.Fill{Gridap.Fields.Eval,1,Tuple{Base.OneTo{Int64}}}}},FillArrays.Fill{Gridap.Fields.FieldBinOp{typeof(*)},1,Tuple{Base.OneTo{Int64}}}},Gridap.Arrays.AppliedArray{Array{Float64,1},1,Tuple{Gridap.Arrays.AppliedArray{Array{Gridap.TensorValues.MultiValue{Tuple{2},Float64,1,2},1},1,Tuple{Gridap.Arrays.CompressedArray{Array{Float64,2},1,Array{Array{Float64,2},1},Array{Int8,1}},Gridap.Arrays.LocalToGlobalArray{Gridap.TensorValues.MultiValue{Tuple{2},Float64,1,2},1,1,Gridap.Arrays.Table{Int64,Int32},Array{Gridap.TensorValues.MultiValue{Tuple{2},Float64,1,2},1}}},FillArrays.Fill{Gridap.Fields.LinCom,1,Tuple{Base.OneTo{Int64}}}}},FillArrays.Fill{Gridap.Fields.Comp{var\"#f#3\"},1,Tuple{Base.OneTo{Int64}}}}},FillArrays.Fill{Gridap.Fields.FieldBinOp{typeof(*)},1,Tuple{Base.OneTo{Int64}}}},Gridap.Arrays.AppliedArray{Array{Float64,2},1,Tuple{Gridap.Arrays.CompressedArray{Array{Float64,2},1,Array{Array{Float64,2},1},Array{Int8,1}},Gridap.Arrays.AppliedArray{Array{Float64,1},1,Tuple{Gridap.Arrays.AppliedArray{Array{Float64,1},1,Tuple{Gridap.Arrays.AppliedArray{Array{Float64,1},1,Tuple{Gridap.Arrays.AppliedArray{Array{Int64,1},1,Tuple{FillArrays.Fill{Int64,1,Tuple{Base.OneTo{Int64}}},Gridap.Arrays.CompressedArray{Array{Gridap.TensorValues.MultiValue{Tuple{2},Float64,1,2},1},1,Array{Array{Gridap.TensorValues.MultiValue{Tuple{2},Float64,1,2},1},1},Array{Int8,1}}},FillArrays.Fill{Gridap.Fields.Eval,1,Tuple{Base.OneTo{Int64}}}},Gridap.Arrays.AppliedArray{Array{Float64,1},1,Tuple{Gridap.Arrays.CompressedArray{Array{Float64,2},1,Array{Array{Float64,2},1},Array{Int8,1}},Gridap.Arrays.LocalToGlobalPosNegArray{Float64,1,1,Gridap.FESpaces.CellDofsNonOriented,Array{Float64,1},Array{Float64,1}}},FillArrays.Fill{Gridap.Fields.LinCom,1,Tuple{Base.OneTo{Int64}}}}},FillArrays.Fill{Gridap.Fields.FieldBinOp{typeof(*)},1,Tuple{Base.OneTo{Int64}}}},Gridap.Arrays.AppliedArray{Array{Float64,1},1,Tuple{Gridap.Arrays.CompressedArray{Array{Float64,2},1,Array{Array{Float64,2},1},Array{Int8,1}},Gridap.Arrays.LocalToGlobalPosNegArray{Float64,1,1,Gridap.FESpaces.CellDofsNonOriented,Array{Float64,1},Array{Float64,1}}},FillArrays.Fill{Gridap.Fields.LinCom,1,Tuple{Base.OneTo{Int64}}}}},FillArrays.Fill{Gridap.Fields.FieldBinOp{typeof(+)},1,Tuple{Base.OneTo{Int64}}}},Gridap.Arrays.AppliedArray{Array{Float64,1},1,Tuple{Gridap.Arrays.CompressedArray{Array{Float64,2},1,Array{Array{Float64,2},1},Array{Int8,1}},Gridap.Arrays.LocalToGlobalPosNegArray{Float64,1,1,Gridap.FESpaces.CellDofsNonOriented,Array{Float64,1},Array{Float64,1}}},FillArrays.Fill{Gridap.Fields.LinCom,1,Tuple{Base.OneTo{Int64}}}}},FillArrays.Fill{Gridap.Fields.FieldBinOp{typeof(-)},1,Tuple{Base.OneTo{Int64}}}}},FillArrays.Fill{Gridap.Fields.FieldBinOp{typeof(*)},1,Tuple{Base.OneTo{Int64}}}}},FillArrays.Fill{Gridap.Arrays.BCasted{typeof(+)},1,Tuple{Base.OneTo{Int64}}}}, ::Int64) at /home/noelia/.julia/packages/Gridap/z6IdO/src/Arrays/Apply.jl:275",
      " [27] _cached_getindex! at /home/noelia/.julia/packages/Gridap/z6IdO/src/Arrays/Apply.jl:265 [inlined]",
      " [28] getindex! at /home/noelia/.julia/packages/Gridap/z6IdO/src/Arrays/Apply.jl:254 [inlined]",
      " [29] _getitems! at /home/noelia/.julia/packages/Gridap/z6IdO/src/Arrays/Interface.jl:295 [inlined]",
      " [30] getitems! at /home/noelia/.julia/packages/Gridap/z6IdO/src/Arrays/Interface.jl:290 [inlined]",
      " [31] _getindex!(::Tuple{Nothing,Gridap.Arrays.CachedArray{Float64,1,Array{Float64,1}},Tuple{Tuple{Tuple{Nothing,Gridap.Arrays.CachedArray{Float64,2,Array{Float64,2}},Tuple{Tuple{Tuple{Nothing,Gridap.Arrays.CachedArray{Float64,2,Array{Float64,2}},Tuple{Tuple{Tuple{Nothing,Gridap.Arrays.CachedArray{Float64,2,Array{Float64,2}},Tuple{Nothing,Tuple{Tuple{Nothing,Gridap.Arrays.CachedArray{Float64,1,Array{Float64,1}},Tuple{Nothing,Nothing}},Gridap.Arrays.Evaluation{Tuple{Int64},Array{Float64,1}}}}},Gridap.Arrays.Evaluation{Tuple{Int64},Array{Float64,2}}},Tuple{Tuple{Nothing,Gridap.Arrays.CachedArray{Float64,1,Array{Float64,1}},Tuple{Tuple{Tuple{Nothing,Gridap.Arrays.CachedArray{Gridap.TensorValues.MultiValue{Tuple{2},Float64,1,2},1,Array{Gridap.TensorValues.MultiValue{Tuple{2},Float64,1,2},1}},Tuple{Nothing,Tuple{Gridap.Arrays.CachedArray{Int64,1,Array{Int64,1}},Gridap.Arrays.CachedArray{Gridap.TensorValues.MultiValue{Tuple{2},Float64,1,2},1,Array{Gridap.TensorValues.MultiValue{Tuple{2},Float64,1,2},1}}}}},Gridap.Arrays.Evaluation{Tuple{Int64},Array{Gridap.TensorValues.MultiValue{Tuple{2},Float64,1,2},1}}}}},Gridap.Arrays.Evaluation{Tuple{Int64},Array{Float64,1}}}}},Gridap.Arrays.Evaluation{Tuple{Int64},Array{Float64,2}}},Tuple{Tuple{Nothing,Gridap.Arrays.CachedArray{Float64,2,Array{Float64,2}},Tuple{Nothing,Tuple{Tuple{Nothing,Gridap.Arrays.CachedArray{Float64,1,Array{Float64,1}},Tuple{Tuple{Tuple{Nothing,Gridap.Arrays.CachedArray{Float64,1,Array{Float64,1}},Tuple{Tuple{Tuple{Nothing,Gridap.Arrays.CachedArray{Float64,1,Array{Float64,1}},Tuple{Tuple{Tuple{Nothing,Gridap.Arrays.CachedArray{Int64,1,Array{Int64,1}},Tuple{Nothing,Nothing}},Gridap.Arrays.Evaluation{Tuple{Int64},Array{Int64,1}}},Tuple{Tuple{Nothing,Gridap.Arrays.CachedArray{Float64,1,Array{Float64,1}},Tuple{Nothing,Tuple{Gridap.Arrays.CachedArray{Int64,1,Array{Int64,1}},Gridap.Arrays.CachedArray{Float64,1,Array{Float64,1}}}}},Gridap.Arrays.Evaluation{Tuple{Int64},Array{Float64,1}}}}},Gridap.Arrays.Evaluation{Tuple{Int64},Array{Float64,1}}},Tuple{Tuple{Nothing,Gridap.Arrays.CachedArray{Float64,1,Array{Float64,1}},Tuple{Nothing,Tuple{Gridap.Arrays.CachedArray{Int64,1,Array{Int64,1}},Gridap.Arrays.CachedArray{Float64,1,Array{Float64,1}}}}},Gridap.Arrays.Evaluation{Tuple{Int64},Array{Float64,1}}}}},Gridap.Arrays.Evaluation{Tuple{Int64},Array{Float64,1}}},Tuple{Tuple{Nothing,Gridap.Arrays.CachedArray{Float64,1,Array{Float64,1}},Tuple{Nothing,Tuple{Gridap.Arrays.CachedArray{Int64,1,Array{Int64,1}},Gridap.Arrays.CachedArray{Float64,1,Array{Float64,1}}}}},Gridap.Arrays.Evaluation{Tuple{Int64},Array{Float64,1}}}}},Gridap.Arrays.Evaluation{Tuple{Int64},Array{Float64,1}}}}},Gridap.Arrays.Evaluation{Tuple{Int64},Array{Float64,2}}}}},Gridap.Arrays.Evaluation{Tuple{Int64},Array{Float64,2}}},Nothing,Tuple{Tuple{Nothing,Gridap.Arrays.CachedArray{Gridap.TensorValues.MultiValue{Tuple{2,2},Float64,2,4},1,Array{Gridap.TensorValues.MultiValue{Tuple{2,2},Float64,2,4},1}},Tuple{Nothing,Tuple{Gridap.Arrays.CachedArray{Int64,1,Array{Int64,1}},Gridap.Arrays.CachedArray{Gridap.TensorValues.MultiValue{Tuple{2},Float64,1,2},1,Array{Gridap.TensorValues.MultiValue{Tuple{2},Float64,1,2},1}}}}},Gridap.Arrays.Evaluation{Tuple{Int64},Array{Gridap.TensorValues.MultiValue{Tuple{2,2},Float64,2,4},1}}}}}, ::Gridap.Arrays.AppliedArray{Array{Float64,1},1,Tuple{Gridap.Arrays.AppliedArray{Array{Float64,2},1,Tuple{Gridap.Arrays.AppliedArray{Array{Float64,2},1,Tuple{Gridap.Arrays.AppliedArray{Array{Float64,2},1,Tuple{Gridap.Arrays.CompressedArray{Array{Float64,2},1,Array{Array{Float64,2},1},Array{Int8,1}},Gridap.Arrays.AppliedArray{Array{Float64,1},1,Tuple{FillArrays.Fill{Float64,1,Tuple{Base.OneTo{Int64}}},Gridap.Arrays.CompressedArray{Array{Gridap.TensorValues.MultiValue{Tuple{2},Float64,1,2},1},1,Array{Array{Gridap.TensorValues.MultiValue{Tuple{2},Float64,1,2},1},1},Array{Int8,1}}},FillArrays.Fill{Gridap.Fields.Eval,1,Tuple{Base.OneTo{Int64}}}}},FillArrays.Fill{Gridap.Fields.FieldBinOp{typeof(*)},1,Tuple{Base.OneTo{Int64}}}},Gridap.Arrays.AppliedArray{Array{Float64,1},1,Tuple{Gridap.Arrays.AppliedArray{Array{Gridap.TensorValues.MultiValue{Tuple{2},Float64,1,2},1},1,Tuple{Gridap.Arrays.CompressedArray{Array{Float64,2},1,Array{Array{Float64,2},1},Array{Int8,1}},Gridap.Arrays.LocalToGlobalArray{Gridap.TensorValues.MultiValue{Tuple{2},Float64,1,2},1,1,Gridap.Arrays.Table{Int64,Int32},Array{Gridap.TensorValues.MultiValue{Tuple{2},Float64,1,2},1}}},FillArrays.Fill{Gridap.Fields.LinCom,1,Tuple{Base.OneTo{Int64}}}}},FillArrays.Fill{Gridap.Fields.Comp{var\"#f#3\"},1,Tuple{Base.OneTo{Int64}}}}},FillArrays.Fill{Gridap.Fields.FieldBinOp{typeof(*)},1,Tuple{Base.OneTo{Int64}}}},Gridap.Arrays.AppliedArray{Array{Float64,2},1,Tuple{Gridap.Arrays.CompressedArray{Array{Float64,2},1,Array{Array{Float64,2},1},Array{Int8,1}},Gridap.Arrays.AppliedArray{Array{Float64,1},1,Tuple{Gridap.Arrays.AppliedArray{Array{Float64,1},1,Tuple{Gridap.Arrays.AppliedArray{Array{Float64,1},1,Tuple{Gridap.Arrays.AppliedArray{Array{Int64,1},1,Tuple{FillArrays.Fill{Int64,1,Tuple{Base.OneTo{Int64}}},Gridap.Arrays.CompressedArray{Array{Gridap.TensorValues.MultiValue{Tuple{2},Float64,1,2},1},1,Array{Array{Gridap.TensorValues.MultiValue{Tuple{2},Float64,1,2},1},1},Array{Int8,1}}},FillArrays.Fill{Gridap.Fields.Eval,1,Tuple{Base.OneTo{Int64}}}},Gridap.Arrays.AppliedArray{Array{Float64,1},1,Tuple{Gridap.Arrays.CompressedArray{Array{Float64,2},1,Array{Array{Float64,2},1},Array{Int8,1}},Gridap.Arrays.LocalToGlobalPosNegArray{Float64,1,1,Gridap.FESpaces.CellDofsNonOriented,Array{Float64,1},Array{Float64,1}}},FillArrays.Fill{Gridap.Fields.LinCom,1,Tuple{Base.OneTo{Int64}}}}},FillArrays.Fill{Gridap.Fields.FieldBinOp{typeof(*)},1,Tuple{Base.OneTo{Int64}}}},Gridap.Arrays.AppliedArray{Array{Float64,1},1,Tuple{Gridap.Arrays.CompressedArray{Array{Float64,2},1,Array{Array{Float64,2},1},Array{Int8,1}},Gridap.Arrays.LocalToGlobalPosNegArray{Float64,1,1,Gridap.FESpaces.CellDofsNonOriented,Array{Float64,1},Array{Float64,1}}},FillArrays.Fill{Gridap.Fields.LinCom,1,Tuple{Base.OneTo{Int64}}}}},FillArrays.Fill{Gridap.Fields.FieldBinOp{typeof(+)},1,Tuple{Base.OneTo{Int64}}}},Gridap.Arrays.AppliedArray{Array{Float64,1},1,Tuple{Gridap.Arrays.CompressedArray{Array{Float64,2},1,Array{Array{Float64,2},1},Array{Int8,1}},Gridap.Arrays.LocalToGlobalPosNegArray{Float64,1,1,Gridap.FESpaces.CellDofsNonOriented,Array{Float64,1},Array{Float64,1}}},FillArrays.Fill{Gridap.Fields.LinCom,1,Tuple{Base.OneTo{Int64}}}}},FillArrays.Fill{Gridap.Fields.FieldBinOp{typeof(-)},1,Tuple{Base.OneTo{Int64}}}}},FillArrays.Fill{Gridap.Fields.FieldBinOp{typeof(*)},1,Tuple{Base.OneTo{Int64}}}}},FillArrays.Fill{Gridap.Arrays.BCasted{typeof(+)},1,Tuple{Base.OneTo{Int64}}}},Gridap.Arrays.CompressedArray{Array{Float64,1},1,Array{Array{Float64,1},1},Array{Int8,1}},Gridap.Arrays.AppliedArray{Array{Gridap.TensorValues.MultiValue{Tuple{2,2},Float64,2,4},1},1,Tuple{Gridap.Arrays.CompressedArray{Array{Gridap.TensorValues.MultiValue{Tuple{2},Float64,1,2},2},1,Array{Array{Gridap.TensorValues.MultiValue{Tuple{2},Float64,1,2},2},1},Array{Int8,1}},Gridap.Arrays.LocalToGlobalArray{Gridap.TensorValues.MultiValue{Tuple{2},Float64,1,2},1,1,Gridap.Arrays.Table{Int64,Int32},Array{Gridap.TensorValues.MultiValue{Tuple{2},Float64,1,2},1}}},FillArrays.Fill{Gridap.Fields.LinCom,1,Tuple{Base.OneTo{Int64}}}}},FillArrays.Fill{Gridap.Fields.IntKernel,1,Tuple{Base.OneTo{Int64}}}}, ::Int64) at /home/noelia/.julia/packages/Gridap/z6IdO/src/Arrays/Apply.jl:275",
      " [32] _cached_getindex! at /home/noelia/.julia/packages/Gridap/z6IdO/src/Arrays/Apply.jl:265 [inlined]",
      " [33] getindex! at /home/noelia/.julia/packages/Gridap/z6IdO/src/Arrays/Apply.jl:254 [inlined]",
      " [34] getindex! at /home/noelia/.julia/packages/Gridap/z6IdO/src/Arrays/ArrayPairs.jl:42 [inlined]",
      " [35] _getitems! at /home/noelia/.julia/packages/Gridap/z6IdO/src/Arrays/Interface.jl:295 [inlined]",
      " [36] getitems! at /home/noelia/.julia/packages/Gridap/z6IdO/src/Arrays/Interface.jl:290 [inlined]",
      " [37] _getindex! at /home/noelia/.julia/packages/Gridap/z6IdO/src/Arrays/Apply.jl:275 [inlined]",
      " [38] _cached_getindex! at /home/noelia/.julia/packages/Gridap/z6IdO/src/Arrays/Apply.jl:265 [inlined]",
      " [39] getindex! at /home/noelia/.julia/packages/Gridap/z6IdO/src/Arrays/Apply.jl:254 [inlined]",
      " [40] _assemble_matrix_and_vector_fill!(::Type{SparseArrays.SparseMatrixCSC{Float64,Int64}}, ::Int64, ::Array{Int64,1}, ::Array{Int64,1}, ::Array{Float64,1}, ::Array{Float64,1}, ::Tuple{Tuple{Nothing,Gridap.Arrays.CachedArray{Float64,1,Array{Float64,1}},Tuple{Tuple{Tuple{Tuple{Nothing,Gridap.Arrays.CachedArray{Float64,2,Array{Float64,2}},Tuple{Tuple{Tuple{Nothing,Gridap.Arrays.CachedArray{Float64,3,Array{Float64,3}},Tuple{Tuple{Tuple{Nothing,Gridap.Arrays.CachedArray{Float64,3,Array{Float64,3}},Tuple{Tuple{Tuple{Nothing,Gridap.Arrays.CachedArray{Gridap.TensorValues.MultiValue{Tuple{2},Float64,1,2},2,Array{Gridap.TensorValues.MultiValue{Tuple{2},Float64,1,2},2}},Tuple{Tuple{Tuple{Nothing,Gridap.Arrays.CachedArray{Float64,1,Array{Float64,1}},Tuple{Nothing,Nothing}},Gridap.Arrays.Evaluation{Tuple{Int64},Array{Float64,1}}},Tuple{Tuple{Nothing,Gridap.Arrays.CachedArray{Gridap.TensorValues.MultiValue{Tuple{2},Float64,1,2},2,Array{Gridap.TensorValues.MultiValue{Tuple{2},Float64,1,2},2}},Tuple{Nothing,Tuple{Tuple{Nothing,Gridap.Arrays.CachedArray{Gridap.TensorValues.MultiValue{Tuple{2,2},Float64,2,4},1,Array{Gridap.TensorValues.MultiValue{Tuple{2,2},Float64,2,4},1}},Tuple{Nothing,Tuple{Gridap.Arrays.CachedArray{Int64,1,Array{Int64,1}},Gridap.Arrays.CachedArray{Gridap.TensorValues.MultiValue{Tuple{2},Float64,1,2},1,Array{Gridap.TensorValues.MultiValue{Tuple{2},Float64,1,2},1}}}}},Gridap.Arrays.Evaluation{Tuple{Int64},Array{Gridap.TensorValues.MultiValue{Tuple{2,2},Float64,2,4},1}}}}},Gridap.Arrays.Evaluation{Tuple{Int64},Array{Gridap.TensorValues.MultiValue{Tuple{2},Float64,1,2},2}}}}},Gridap.Arrays.Evaluation{Tuple{Int64},Array{Gridap.TensorValues.MultiValue{Tuple{2},Float64,1,2},2}}},Tuple{Tuple{Nothing,Gridap.Arrays.CachedArray{Gridap.TensorValues.MultiValue{Tuple{2},Float64,1,2},2,Array{Gridap.TensorValues.MultiValue{Tuple{2},Float64,1,2},2}},Tuple{Nothing,Tuple{Tuple{Nothing,Gridap.Arrays.CachedArray{Gridap.TensorValues.MultiValue{Tuple{2,2},Float64,2,4},1,Array{Gridap.TensorValues.MultiValue{Tuple{2,2},Float64,2,4},1}},Tuple{Nothing,Tuple{Gridap.Arrays.CachedArray{Int64,1,Array{Int64,1}},Gridap.Arrays.CachedArray{Gridap.TensorValues.MultiValue{Tuple{2},Float64,1,2},1,Array{Gridap.TensorValues.MultiValue{Tuple{2},Float64,1,2},1}}}}},Gridap.Arrays.Evaluation{Tuple{Int64},Array{Gridap.TensorValues.MultiValue{Tuple{2,2},Float64,2,4},1}}}}},Gridap.Arrays.Evaluation{Tuple{Int64},Array{Gridap.TensorValues.MultiValue{Tuple{2},Float64,1,2},2}}}}},Gridap.Arrays.Evaluation{Tuple{Int64},Array{Float64,3}}},Nothing}},Gridap.Arrays.Evaluation{Tuple{Int64},Array{Float64,3}}},Nothing,Tuple{Tuple{Nothing,Gridap.Arrays.CachedArray{Gridap.TensorValues.MultiValue{Tuple{2,2},Float64,2,4},1,Array{Gridap.TensorValues.MultiValue{Tuple{2,2},Float64,2,4},1}},Tuple{Nothing,Tuple{Gridap.Arrays.CachedArray{Int64,1,Array{Int64,1}},Gridap.Arrays.CachedArray{Gridap.TensorValues.MultiValue{Tuple{2},Float64,1,2},1,Array{Gridap.TensorValues.MultiValue{Tuple{2},Float64,1,2},1}}}}},Gridap.Arrays.Evaluation{Tuple{Int64},Array{Gridap.TensorValues.MultiValue{Tuple{2,2},Float64,2,4},1}}}}},Gridap.Arrays.Evaluation{Tuple{Int64},Array{Float64,2}}},Tuple{Tuple{Nothing,Gridap.Arrays.CachedArray{Float64,1,Array{Float64,1}},Tuple{Tuple{Tuple{Nothing,Gridap.Arrays.CachedArray{Float64,2,Array{Float64,2}},Tuple{Tuple{Tuple{Nothing,Gridap.Arrays.CachedArray{Float64,2,Array{Float64,2}},Tuple{Tuple{Tuple{Nothing,Gridap.Arrays.CachedArray{Float64,2,Array{Float64,2}},Tuple{Nothing,Tuple{Tuple{Nothing,Gridap.Arrays.CachedArray{Float64,1,Array{Float64,1}},Tuple{Nothing,Nothing}},Gridap.Arrays.Evaluation{Tuple{Int64},Array{Float64,1}}}}},Gridap.Arrays.Evaluation{Tuple{Int64},Array{Float64,2}}},Tuple{Tuple{Nothing,Gridap.Arrays.CachedArray{Float64,1,Array{Float64,1}},Tuple{Tuple{Tuple{Nothing,Gridap.Arrays.CachedArray{Gridap.TensorValues.MultiValue{Tuple{2},Float64,1,2},1,Array{Gridap.TensorValues.MultiValue{Tuple{2},Float64,1,2},1}},Tuple{Nothing,Tuple{Gridap.Arrays.CachedArray{Int64,1,Array{Int64,1}},Gridap.Arrays.CachedArray{Gridap.TensorValues.MultiValue{Tuple{2},Float64,1,2},1,Array{Gridap.TensorValues.MultiValue{Tuple{2},Float64,1,2},1}}}}},Gridap.Arrays.Evaluation{Tuple{Int64},Array{Gridap.TensorValues.MultiValue{Tuple{2},Float64,1,2},1}}}}},Gridap.Arrays.Evaluation{Tuple{Int64},Array{Float64,1}}}}},Gridap.Arrays.Evaluation{Tuple{Int64},Array{Float64,2}}},Tuple{Tuple{Nothing,Gridap.Arrays.CachedArray{Float64,2,Array{Float64,2}},Tuple{Nothing,Tuple{Tuple{Nothing,Gridap.Arrays.CachedArray{Float64,1,Array{Float64,1}},Tuple{Tuple{Tuple{Nothing,Gridap.Arrays.CachedArray{Float64,1,Array{Float64,1}},Tuple{Tuple{Tuple{Nothing,Gridap.Arrays.CachedArray{Float64,1,Array{Float64,1}},Tuple{Tuple{Tuple{Nothing,Gridap.Arrays.CachedArray{Int64,1,Array{Int64,1}},Tuple{Nothing,Nothing}},Gridap.Arrays.Evaluation{Tuple{Int64},Array{Int64,1}}},Tuple{Tuple{Nothing,Gridap.Arrays.CachedArray{Float64,1,Array{Float64,1}},Tuple{Nothing,Tuple{Gridap.Arrays.CachedArray{Int64,1,Array{Int64,1}},Gridap.Arrays.CachedArray{Float64,1,Array{Float64,1}}}}},Gridap.Arrays.Evaluation{Tuple{Int64},Array{Float64,1}}}}},Gridap.Arrays.Evaluation{Tuple{Int64},Array{Float64,1}}},Tuple{Tuple{Nothing,Gridap.Arrays.CachedArray{Float64,1,Array{Float64,1}},Tuple{Nothing,Tuple{Gridap.Arrays.CachedArray{Int64,1,Array{Int64,1}},Gridap.Arrays.CachedArray{Float64,1,Array{Float64,1}}}}},Gridap.Arrays.Evaluation{Tuple{Int64},Array{Float64,1}}}}},Gridap.Arrays.Evaluation{Tuple{Int64},Array{Float64,1}}},Tuple{Tuple{Nothing,Gridap.Arrays.CachedArray{Float64,1,Array{Float64,1}},Tuple{Nothing,Tuple{Gridap.Arrays.CachedArray{Int64,1,Array{Int64,1}},Gridap.Arrays.CachedArray{Float64,1,Array{Float64,1}}}}},Gridap.Arrays.Evaluation{Tuple{Int64},Array{Float64,1}}}}},Gridap.Arrays.Evaluation{Tuple{Int64},Array{Float64,1}}}}},Gridap.Arrays.Evaluation{Tuple{Int64},Array{Float64,2}}}}},Gridap.Arrays.Evaluation{Tuple{Int64},Array{Float64,2}}},Nothing,Tuple{Tuple{Nothing,Gridap.Arrays.CachedArray{Gridap.TensorValues.MultiValue{Tuple{2,2},Float64,2,4},1,Array{Gridap.TensorValues.MultiValue{Tuple{2,2},Float64,2,4},1}},Tuple{Nothing,Tuple{Gridap.Arrays.CachedArray{Int64,1,Array{Int64,1}},Gridap.Arrays.CachedArray{Gridap.TensorValues.MultiValue{Tuple{2},Float64,1,2},1,Array{Gridap.TensorValues.MultiValue{Tuple{2},Float64,1,2},1}}}}},Gridap.Arrays.Evaluation{Tuple{Int64},Array{Gridap.TensorValues.MultiValue{Tuple{2,2},Float64,2,4},1}}}}},Gridap.Arrays.Evaluation{Tuple{Int64},Array{Float64,1}}}},Tuple{Gridap.Arrays.CachedArray{Int64,1,Array{Int64,1}},Gridap.Arrays.CachedArray{Float64,1,Array{Float64,1}}}}},Gridap.Arrays.Evaluation{Tuple{Int64},Tuple{Array{Float64,2},Array{Float64,1}}}}, ::Gridap.Arrays.CachedArray{Int64,1,Array{Int64,1}}, ::Gridap.Arrays.CachedArray{Int64,1,Array{Int64,1}}, ::Gridap.Arrays.AppliedArray{Tuple{Array{Float64,2},Array{Float64,1}},1,Tuple{Gridap.Arrays.ArrayPair{Tuple{Array{Float64,2},Array{Float64,1}},1,Gridap.Arrays.AppliedArray{Array{Float64,2},1,Tuple{Gridap.Arrays.AppliedArray{Array{Float64,3},1,Tuple{Gridap.Arrays.AppliedArray{Array{Float64,3},1,Tuple{Gridap.Arrays.AppliedArray{Array{Gridap.TensorValues.MultiValue{Tuple{2},Float64,1,2},2},1,Tuple{Gridap.Arrays.AppliedArray{Array{Float64,1},1,Tuple{FillArrays.Fill{Float64,1,Tuple{Base.OneTo{Int64}}},Gridap.Arrays.CompressedArray{Array{Gridap.TensorValues.MultiValue{Tuple{2},Float64,1,2},1},1,Array{Array{Gridap.TensorValues.MultiValue{Tuple{2},Float64,1,2},1},1},Array{Int8,1}}},FillArrays.Fill{Gridap.Fields.Eval,1,Tuple{Base.OneTo{Int64}}}},Gridap.Arrays.AppliedArray{Array{Gridap.TensorValues.MultiValue{Tuple{2},Float64,1,2},2},1,Tuple{Gridap.Arrays.CompressedArray{Array{Gridap.TensorValues.MultiValue{Tuple{2},Float64,1,2},2},1,Array{Array{Gridap.TensorValues.MultiValue{Tuple{2},Float64,1,2},2},1},Array{Int8,1}},Gridap.Arrays.AppliedArray{Array{Gridap.TensorValues.MultiValue{Tuple{2,2},Float64,2,4},1},1,Tuple{Gridap.Arrays.CompressedArray{Array{Gridap.TensorValues.MultiValue{Tuple{2},Float64,1,2},2},1,Array{Array{Gridap.TensorValues.MultiValue{Tuple{2},Float64,1,2},2},1},Array{Int8,1}},Gridap.Arrays.LocalToGlobalArray{Gridap.TensorValues.MultiValue{Tuple{2},Float64,1,2},1,1,Gridap.Arrays.Table{Int64,Int32},Array{Gridap.TensorValues.MultiValue{Tuple{2},Float64,1,2},1}}},FillArrays.Fill{Gridap.Fields.LinCom,1,Tuple{Base.OneTo{Int64}}}}},FillArrays.Fill{Gridap.Fields.PhysGrad,1,Tuple{Base.OneTo{Int64}}}}},FillArrays.Fill{Gridap.Fields.FieldBinOp{typeof(*)},1,Tuple{Base.OneTo{Int64}}}},Gridap.Arrays.AppliedArray{Array{Gridap.TensorValues.MultiValue{Tuple{2},Float64,1,2},2},1,Tuple{Gridap.Arrays.CompressedArray{Array{Gridap.TensorValues.MultiValue{Tuple{2},Float64,1,2},2},1,Array{Array{Gridap.TensorValues.MultiValue{Tuple{2},Float64,1,2},2},1},Array{Int8,1}},Gridap.Arrays.AppliedArray{Array{Gridap.TensorValues.MultiValue{Tuple{2,2},Float64,2,4},1},1,Tuple{Gridap.Arrays.CompressedArray{Array{Gridap.TensorValues.MultiValue{Tuple{2},Float64,1,2},2},1,Array{Array{Gridap.TensorValues.MultiValue{Tuple{2},Float64,1,2},2},1},Array{Int8,1}},Gridap.Arrays.LocalToGlobalArray{Gridap.TensorValues.MultiValue{Tuple{2},Float64,1,2},1,1,Gridap.Arrays.Table{Int64,Int32},Array{Gridap.TensorValues.MultiValue{Tuple{2},Float64,1,2},1}}},FillArrays.Fill{Gridap.Fields.LinCom,1,Tuple{Base.OneTo{Int64}}}}},FillArrays.Fill{Gridap.Fields.PhysGrad,1,Tuple{Base.OneTo{Int64}}}}},FillArrays.Fill{Gridap.Fields.FieldBinOp{typeof(*)},1,Tuple{Base.OneTo{Int64}}}},Gridap.Arrays.CompressedArray{Array{Float64,3},1,Array{Array{Float64,3},1},Array{Int8,1}}},FillArrays.Fill{Gridap.Arrays.BCasted{typeof(+)},1,Tuple{Base.OneTo{Int64}}}},Gridap.Arrays.CompressedArray{Array{Float64,1},1,Array{Array{Float64,1},1},Array{Int8,1}},Gridap.Arrays.AppliedArray{Array{Gridap.TensorValues.MultiValue{Tuple{2,2},Float64,2,4},1},1,Tuple{Gridap.Arrays.CompressedArray{Array{Gridap.TensorValues.MultiValue{Tuple{2},Float64,1,2},2},1,Array{Array{Gridap.TensorValues.MultiValue{Tuple{2},Float64,1,2},2},1},Array{Int8,1}},Gridap.Arrays.LocalToGlobalArray{Gridap.TensorValues.MultiValue{Tuple{2},Float64,1,2},1,1,Gridap.Arrays.Table{Int64,Int32},Array{Gridap.TensorValues.MultiValue{Tuple{2},Float64,1,2},1}}},FillArrays.Fill{Gridap.Fields.LinCom,1,Tuple{Base.OneTo{Int64}}}}},FillArrays.Fill{Gridap.Fields.IntKernel,1,Tuple{Base.OneTo{Int64}}}},Gridap.Arrays.AppliedArray{Array{Float64,1},1,Tuple{Gridap.Arrays.AppliedArray{Array{Float64,2},1,Tuple{Gridap.Arrays.AppliedArray{Array{Float64,2},1,Tuple{Gridap.Arrays.AppliedArray{Array{Float64,2},1,Tuple{Gridap.Arrays.CompressedArray{Array{Float64,2},1,Array{Array{Float64,2},1},Array{Int8,1}},Gridap.Arrays.AppliedArray{Array{Float64,1},1,Tuple{FillArrays.Fill{Float64,1,Tuple{Base.OneTo{Int64}}},Gridap.Arrays.CompressedArray{Array{Gridap.TensorValues.MultiValue{Tuple{2},Float64,1,2},1},1,Array{Array{Gridap.TensorValues.MultiValue{Tuple{2},Float64,1,2},1},1},Array{Int8,1}}},FillArrays.Fill{Gridap.Fields.Eval,1,Tuple{Base.OneTo{Int64}}}}},FillArrays.Fill{Gridap.Fields.FieldBinOp{typeof(*)},1,Tuple{Base.OneTo{Int64}}}},Gridap.Arrays.AppliedArray{Array{Float64,1},1,Tuple{Gridap.Arrays.AppliedArray{Array{Gridap.TensorValues.MultiValue{Tuple{2},Float64,1,2},1},1,Tuple{Gridap.Arrays.CompressedArray{Array{Float64,2},1,Array{Array{Float64,2},1},Array{Int8,1}},Gridap.Arrays.LocalToGlobalArray{Gridap.TensorValues.MultiValue{Tuple{2},Float64,1,2},1,1,Gridap.Arrays.Table{Int64,Int32},Array{Gridap.TensorValues.MultiValue{Tuple{2},Float64,1,2},1}}},FillArrays.Fill{Gridap.Fields.LinCom,1,Tuple{Base.OneTo{Int64}}}}},FillArrays.Fill{Gridap.Fields.Comp{var\"#f#3\"},1,Tuple{Base.OneTo{Int64}}}}},FillArrays.Fill{Gridap.Fields.FieldBinOp{typeof(*)},1,Tuple{Base.OneTo{Int64}}}},Gridap.Arrays.AppliedArray{Array{Float64,2},1,Tuple{Gridap.Arrays.CompressedArray{Array{Float64,2},1,Array{Array{Float64,2},1},Array{Int8,1}},Gridap.Arrays.AppliedArray{Array{Float64,1},1,Tuple{Gridap.Arrays.AppliedArray{Array{Float64,1},1,Tuple{Gridap.Arrays.AppliedArray{Array{Float64,1},1,Tuple{Gridap.Arrays.AppliedArray{Array{Int64,1},1,Tuple{FillArrays.Fill{Int64,1,Tuple{Base.OneTo{Int64}}},Gridap.Arrays.CompressedArray{Array{Gridap.TensorValues.MultiValue{Tuple{2},Float64,1,2},1},1,Array{Array{Gridap.TensorValues.MultiValue{Tuple{2},Float64,1,2},1},1},Array{Int8,1}}},FillArrays.Fill{Gridap.Fields.Eval,1,Tuple{Base.OneTo{Int64}}}},Gridap.Arrays.AppliedArray{Array{Float64,1},1,Tuple{Gridap.Arrays.CompressedArray{Array{Float64,2},1,Array{Array{Float64,2},1},Array{Int8,1}},Gridap.Arrays.LocalToGlobalPosNegArray{Float64,1,1,Gridap.FESpaces.CellDofsNonOriented,Array{Float64,1},Array{Float64,1}}},FillArrays.Fill{Gridap.Fields.LinCom,1,Tuple{Base.OneTo{Int64}}}}},FillArrays.Fill{Gridap.Fields.FieldBinOp{typeof(*)},1,Tuple{Base.OneTo{Int64}}}},Gridap.Arrays.AppliedArray{Array{Float64,1},1,Tuple{Gridap.Arrays.CompressedArray{Array{Float64,2},1,Array{Array{Float64,2},1},Array{Int8,1}},Gridap.Arrays.LocalToGlobalPosNegArray{Float64,1,1,Gridap.FESpaces.CellDofsNonOriented,Array{Float64,1},Array{Float64,1}}},FillArrays.Fill{Gridap.Fields.LinCom,1,Tuple{Base.OneTo{Int64}}}}},FillArrays.Fill{Gridap.Fields.FieldBinOp{typeof(+)},1,Tuple{Base.OneTo{Int64}}}},Gridap.Arrays.AppliedArray{Array{Float64,1},1,Tuple{Gridap.Arrays.CompressedArray{Array{Float64,2},1,Array{Array{Float64,2},1},Array{Int8,1}},Gridap.Arrays.LocalToGlobalPosNegArray{Float64,1,1,Gridap.FESpaces.CellDofsNonOriented,Array{Float64,1},Array{Float64,1}}},FillArrays.Fill{Gridap.Fields.LinCom,1,Tuple{Base.OneTo{Int64}}}}},FillArrays.Fill{Gridap.Fields.FieldBinOp{typeof(-)},1,Tuple{Base.OneTo{Int64}}}}},FillArrays.Fill{Gridap.Fields.FieldBinOp{typeof(*)},1,Tuple{Base.OneTo{Int64}}}}},FillArrays.Fill{Gridap.Arrays.BCasted{typeof(+)},1,Tuple{Base.OneTo{Int64}}}},Gridap.Arrays.CompressedArray{Array{Float64,1},1,Array{Array{Float64,1},1},Array{Int8,1}},Gridap.Arrays.AppliedArray{Array{Gridap.TensorValues.MultiValue{Tuple{2,2},Float64,2,4},1},1,Tuple{Gridap.Arrays.CompressedArray{Array{Gridap.TensorValues.MultiValue{Tuple{2},Float64,1,2},2},1,Array{Array{Gridap.TensorValues.MultiValue{Tuple{2},Float64,1,2},2},1},Array{Int8,1}},Gridap.Arrays.LocalToGlobalArray{Gridap.TensorValues.MultiValue{Tuple{2},Float64,1,2},1,1,Gridap.Arrays.Table{Int64,Int32},Array{Gridap.TensorValues.MultiValue{Tuple{2},Float64,1,2},1}}},FillArrays.Fill{Gridap.Fields.LinCom,1,Tuple{Base.OneTo{Int64}}}}},FillArrays.Fill{Gridap.Fields.IntKernel,1,Tuple{Base.OneTo{Int64}}}}},Gridap.Arrays.LocalToGlobalPosNegArray{Float64,1,1,Gridap.FESpaces.CellDofsNonOriented,Array{Float64,1},Array{Float64,1}}},FillArrays.Fill{Gridap.FESpaces.DirichletMatVecKernel,1,Tuple{Base.OneTo{Int64}}}}, ::Gridap.FESpaces.CellDofsNonOriented, ::Gridap.FESpaces.CellDofsNonOriented, ::Gridap.FESpaces.DefaultAssemblyStrategy) at /home/noelia/.julia/packages/Gridap/z6IdO/src/FESpaces/SparseMatrixAssemblers.jl:334",
      " [41] fill_matrix_and_vector_coo_numeric!(::Array{Int64,1}, ::Array{Int64,1}, ::Array{Float64,1}, ::Array{Float64,1}, ::Gridap.FESpaces.SingleFieldSparseMatrixAssembler{SparseArrays.SparseMatrixCSC{Float64,Int64},Array{Float64,1}}, ::Tuple{Tuple{Array{Any,1},Array{Any,1},Array{Any,1}},Tuple{Array{Any,1},Array{Any,1},Array{Any,1}},Tuple{Array{Any,1},Array{Any,1}}}, ::Int64) at /home/noelia/.julia/packages/Gridap/z6IdO/src/FESpaces/SparseMatrixAssemblers.jl:318",
      " [42] fill_matrix_and_vector_coo_numeric! at /home/noelia/.julia/packages/Gridap/z6IdO/src/FESpaces/SparseMatrixAssemblers.jl:302 [inlined]",
      " [43] assemble_matrix_and_vector(::Gridap.FESpaces.SingleFieldSparseMatrixAssembler{SparseArrays.SparseMatrixCSC{Float64,Int64},Array{Float64,1}}, ::Tuple{Tuple{Array{Any,1},Array{Any,1},Array{Any,1}},Tuple{Array{Any,1},Array{Any,1},Array{Any,1}},Tuple{Array{Any,1},Array{Any,1}}}) at /home/noelia/.julia/packages/Gridap/z6IdO/src/FESpaces/Assemblers.jl:292",
      " [44] AffineFEOperator(::TrialFESpace{false}, ::Gridap.FESpaces.UnconstrainedFESpace{Gridap.FESpaces.CellDofsNonOriented,Gridap.FESpaces.GenericCellBasis{false,true},Gridap.FESpaces.GenericCellDofBasis{true}}, ::Gridap.FESpaces.SingleFieldSparseMatrixAssembler{SparseArrays.SparseMatrixCSC{Float64,Int64},Array{Float64,1}}, ::Gridap.FESpaces.AffineFETermFromIntegration) at /home/noelia/.julia/packages/Gridap/z6IdO/src/FESpaces/AffineFEOperators.jl:32",
      " [45] AffineFEOperator(::TrialFESpace{false}, ::Gridap.FESpaces.UnconstrainedFESpace{Gridap.FESpaces.CellDofsNonOriented,Gridap.FESpaces.GenericCellBasis{false,true},Gridap.FESpaces.GenericCellDofBasis{true}}, ::Gridap.FESpaces.AffineFETermFromIntegration) at /home/noelia/.julia/packages/Gridap/z6IdO/src/FESpaces/AffineFEOperators.jl:44",
      " [46] EulerMEF(::Float64, ::Float64, ::Int64, ::Gridap.Geometry.GenericCellField{true}) at ./In[8]:13",
      " [47] G at ./In[9]:5 [inlined]",
      " [48] EDP_parareal() at ./In[12]:27",
      " [49] macro expansion at ./util.jl:212 [inlined]"
     ]
    }
   ],
   "source": [
    "time_8= Array{Float64,2}(undef, 5,2);\n",
    "for i=1:5\n",
    "    t_n_f = 50 +10*(i-1)\n",
    "    tiempo = @elapsed EDP_secuencial()\n",
    "    time_8[i,1] = tiempo\n",
    "    tiempo = @elapsed EDP_parareal()\n",
    "    time_8[i,2] = tiempo\n",
    "end"
   ]
  },
  {
   "cell_type": "code",
   "execution_count": 25,
   "metadata": {},
   "outputs": [
    {
     "name": "stderr",
     "output_type": "stream",
     "text": [
      "┌ Info: For saving to png with the Plotly backend ORCA has to be installed.\n",
      "└ @ Plots /home/noelia/.julia/packages/Plots/ninUP/src/backends.jl:375\n"
     ]
    },
    {
     "data": {
      "text/html": [
       "    <script type=\"text/javascript\">\n",
       "        requirejs([\"https://cdn.plot.ly/plotly-latest.min.js\"], function(p) {\n",
       "            window.Plotly = p\n",
       "        });\n",
       "    </script>\n"
      ]
     },
     "metadata": {},
     "output_type": "display_data"
    },
    {
     "data": {
      "application/vnd.plotly.v1+json": {
       "data": [
        {
         "colorbar": {
          "title": ""
         },
         "legendgroup": "secuencial",
         "line": {
          "color": "rgba(0, 154, 250, 1.000)",
          "dash": "solid",
          "shape": "linear",
          "width": 1
         },
         "mode": "lines",
         "name": "secuencial",
         "showlegend": true,
         "type": "scatter",
         "x": [
          50,
          62.5,
          75,
          87.5,
          100
         ],
         "xaxis": "x1",
         "y": [
          278.291018765,
          335.690447385,
          375.59575946,
          6.91971282224363e-310,
          0
         ],
         "yaxis": "y1",
         "zmax": null,
         "zmin": null
        },
        {
         "colorbar": {
          "title": ""
         },
         "legendgroup": "paralelo",
         "line": {
          "color": "rgba(227, 111, 71, 1.000)",
          "dash": "solid",
          "shape": "linear",
          "width": 1
         },
         "mode": "lines",
         "name": "paralelo",
         "showlegend": true,
         "type": "scatter",
         "x": [
          50,
          62.5,
          75,
          87.5,
          100
         ],
         "xaxis": "x1",
         "y": [
          142.023916592,
          154.954054779,
          0,
          6.91971274667135e-310,
          6.91971282224363e-310
         ],
         "yaxis": "y1",
         "zmax": null,
         "zmin": null
        }
       ],
       "layout": {
        "annotations": [
         {
          "font": {
           "color": "rgba(0, 0, 0, 1.000)",
           "family": "sans-serif",
           "size": 20
          },
          "rotation": 0,
          "showarrow": false,
          "text": "N_intervalos = mitad de núcleos",
          "x": 0.5349537037037038,
          "xanchor": "center",
          "xref": "paper",
          "y": 1,
          "yanchor": "top",
          "yref": "paper"
         }
        ],
        "height": 400,
        "legend": {
         "bgcolor": "rgba(255, 255, 255, 1.000)",
         "bordercolor": "rgba(0, 0, 0, 1.000)",
         "font": {
          "color": "rgba(0, 0, 0, 1.000)",
          "family": "sans-serif",
          "size": 11
         },
         "tracegroupgap": 0,
         "x": 1,
         "y": 1
        },
        "margin": {
         "b": 20,
         "l": 0,
         "r": 0,
         "t": 20
        },
        "paper_bgcolor": "rgba(255, 255, 255, 1.000)",
        "plot_bgcolor": "rgba(255, 255, 255, 1.000)",
        "showlegend": true,
        "width": 600,
        "xaxis": {
         "anchor": "y1",
         "domain": [
          0.07646908719743364,
          0.9934383202099737
         ],
         "gridcolor": "rgba(0, 0, 0, 0.100)",
         "gridwidth": 0.5,
         "linecolor": "rgba(0, 0, 0, 1.000)",
         "mirror": false,
         "range": [
          48.5,
          101.5
         ],
         "showgrid": true,
         "showline": true,
         "showticklabels": true,
         "tickangle": 0,
         "tickcolor": "rgb(0, 0, 0)",
         "tickfont": {
          "color": "rgba(0, 0, 0, 1.000)",
          "family": "sans-serif",
          "size": 11
         },
         "tickmode": "array",
         "ticks": "inside",
         "ticktext": [
          "50",
          "60",
          "70",
          "80",
          "90",
          "100"
         ],
         "tickvals": [
          50,
          60,
          70,
          80,
          90,
          100
         ],
         "title": "iteraciones finas",
         "titlefont": {
          "color": "rgba(0, 0, 0, 1.000)",
          "family": "sans-serif",
          "size": 15
         },
         "type": "-",
         "visible": true,
         "zeroline": false,
         "zerolinecolor": "rgba(0, 0, 0, 1.000)"
        },
        "yaxis": {
         "anchor": "x1",
         "domain": [
          0.07581474190726165,
          0.9415463692038496
         ],
         "gridcolor": "rgba(0, 0, 0, 0.100)",
         "gridwidth": 0.5,
         "linecolor": "rgba(0, 0, 0, 1.000)",
         "mirror": false,
         "range": [
          -11.2678727838,
          386.8636322438
         ],
         "showgrid": true,
         "showline": true,
         "showticklabels": true,
         "tickangle": 0,
         "tickcolor": "rgb(0, 0, 0)",
         "tickfont": {
          "color": "rgba(0, 0, 0, 1.000)",
          "family": "sans-serif",
          "size": 11
         },
         "tickmode": "array",
         "ticks": "inside",
         "ticktext": [
          "0",
          "100",
          "200",
          "300"
         ],
         "tickvals": [
          0,
          100,
          200,
          300
         ],
         "title": "tiempo (s)",
         "titlefont": {
          "color": "rgba(0, 0, 0, 1.000)",
          "family": "sans-serif",
          "size": 15
         },
         "type": "-",
         "visible": true,
         "zeroline": false,
         "zerolinecolor": "rgba(0, 0, 0, 1.000)"
        }
       }
      },
      "text/html": [
       "<!DOCTYPE html>\n",
       "<html>\n",
       "    <head>\n",
       "        <title>Plots.jl</title>\n",
       "        <meta http-equiv=\"content-type\" content=\"text/html; charset=UTF-8\">\n",
       "        <script src=\"https://cdn.plot.ly/plotly-latest.min.js\"></script>\n",
       "    </head>\n",
       "    <body>\n",
       "            <div id=\"f64817ea-ea89-42df-8062-d5a6936499f9\" style=\"width:600px;height:400px;\"></div>\n",
       "    <script>\n",
       "    PLOT = document.getElementById('f64817ea-ea89-42df-8062-d5a6936499f9');\n",
       "    Plotly.plot(PLOT, [\n",
       "    {\n",
       "        \"xaxis\": \"x1\",\n",
       "        \"colorbar\": {\n",
       "            \"title\": \"\"\n",
       "        },\n",
       "        \"yaxis\": \"y1\",\n",
       "        \"x\": [\n",
       "            50.0,\n",
       "            62.5,\n",
       "            75.0,\n",
       "            87.5,\n",
       "            100.0\n",
       "        ],\n",
       "        \"showlegend\": true,\n",
       "        \"mode\": \"lines\",\n",
       "        \"name\": \"secuencial\",\n",
       "        \"zmin\": null,\n",
       "        \"legendgroup\": \"secuencial\",\n",
       "        \"zmax\": null,\n",
       "        \"line\": {\n",
       "            \"color\": \"rgba(0, 154, 250, 1.000)\",\n",
       "            \"shape\": \"linear\",\n",
       "            \"dash\": \"solid\",\n",
       "            \"width\": 1\n",
       "        },\n",
       "        \"y\": [\n",
       "            278.291018765,\n",
       "            335.690447385,\n",
       "            375.59575946,\n",
       "            6.91971282224363e-310,\n",
       "            0.0\n",
       "        ],\n",
       "        \"type\": \"scatter\"\n",
       "    },\n",
       "    {\n",
       "        \"xaxis\": \"x1\",\n",
       "        \"colorbar\": {\n",
       "            \"title\": \"\"\n",
       "        },\n",
       "        \"yaxis\": \"y1\",\n",
       "        \"x\": [\n",
       "            50.0,\n",
       "            62.5,\n",
       "            75.0,\n",
       "            87.5,\n",
       "            100.0\n",
       "        ],\n",
       "        \"showlegend\": true,\n",
       "        \"mode\": \"lines\",\n",
       "        \"name\": \"paralelo\",\n",
       "        \"zmin\": null,\n",
       "        \"legendgroup\": \"paralelo\",\n",
       "        \"zmax\": null,\n",
       "        \"line\": {\n",
       "            \"color\": \"rgba(227, 111, 71, 1.000)\",\n",
       "            \"shape\": \"linear\",\n",
       "            \"dash\": \"solid\",\n",
       "            \"width\": 1\n",
       "        },\n",
       "        \"y\": [\n",
       "            142.023916592,\n",
       "            154.954054779,\n",
       "            0.0,\n",
       "            6.91971274667135e-310,\n",
       "            6.91971282224363e-310\n",
       "        ],\n",
       "        \"type\": \"scatter\"\n",
       "    }\n",
       "]\n",
       ", {\n",
       "    \"showlegend\": true,\n",
       "    \"xaxis\": {\n",
       "        \"showticklabels\": true,\n",
       "        \"gridwidth\": 0.5,\n",
       "        \"tickvals\": [\n",
       "            50.0,\n",
       "            60.0,\n",
       "            70.0,\n",
       "            80.0,\n",
       "            90.0,\n",
       "            100.0\n",
       "        ],\n",
       "        \"visible\": true,\n",
       "        \"ticks\": \"inside\",\n",
       "        \"range\": [\n",
       "            48.5,\n",
       "            101.5\n",
       "        ],\n",
       "        \"domain\": [\n",
       "            0.07646908719743364,\n",
       "            0.9934383202099737\n",
       "        ],\n",
       "        \"tickmode\": \"array\",\n",
       "        \"linecolor\": \"rgba(0, 0, 0, 1.000)\",\n",
       "        \"showgrid\": true,\n",
       "        \"title\": \"iteraciones finas\",\n",
       "        \"mirror\": false,\n",
       "        \"tickangle\": 0,\n",
       "        \"showline\": true,\n",
       "        \"gridcolor\": \"rgba(0, 0, 0, 0.100)\",\n",
       "        \"titlefont\": {\n",
       "            \"color\": \"rgba(0, 0, 0, 1.000)\",\n",
       "            \"family\": \"sans-serif\",\n",
       "            \"size\": 15\n",
       "        },\n",
       "        \"tickcolor\": \"rgb(0, 0, 0)\",\n",
       "        \"ticktext\": [\n",
       "            \"50\",\n",
       "            \"60\",\n",
       "            \"70\",\n",
       "            \"80\",\n",
       "            \"90\",\n",
       "            \"100\"\n",
       "        ],\n",
       "        \"zeroline\": false,\n",
       "        \"type\": \"-\",\n",
       "        \"tickfont\": {\n",
       "            \"color\": \"rgba(0, 0, 0, 1.000)\",\n",
       "            \"family\": \"sans-serif\",\n",
       "            \"size\": 11\n",
       "        },\n",
       "        \"zerolinecolor\": \"rgba(0, 0, 0, 1.000)\",\n",
       "        \"anchor\": \"y1\"\n",
       "    },\n",
       "    \"paper_bgcolor\": \"rgba(255, 255, 255, 1.000)\",\n",
       "    \"annotations\": [\n",
       "        {\n",
       "            \"yanchor\": \"top\",\n",
       "            \"xanchor\": \"center\",\n",
       "            \"rotation\": -0.0,\n",
       "            \"y\": 1.0,\n",
       "            \"font\": {\n",
       "                \"color\": \"rgba(0, 0, 0, 1.000)\",\n",
       "                \"family\": \"sans-serif\",\n",
       "                \"size\": 20\n",
       "            },\n",
       "            \"yref\": \"paper\",\n",
       "            \"showarrow\": false,\n",
       "            \"text\": \"N_intervalos = mitad de núcleos\",\n",
       "            \"xref\": \"paper\",\n",
       "            \"x\": 0.5349537037037038\n",
       "        }\n",
       "    ],\n",
       "    \"height\": 400,\n",
       "    \"margin\": {\n",
       "        \"l\": 0,\n",
       "        \"b\": 20,\n",
       "        \"r\": 0,\n",
       "        \"t\": 20\n",
       "    },\n",
       "    \"plot_bgcolor\": \"rgba(255, 255, 255, 1.000)\",\n",
       "    \"yaxis\": {\n",
       "        \"showticklabels\": true,\n",
       "        \"gridwidth\": 0.5,\n",
       "        \"tickvals\": [\n",
       "            0.0,\n",
       "            100.0,\n",
       "            200.0,\n",
       "            300.0\n",
       "        ],\n",
       "        \"visible\": true,\n",
       "        \"ticks\": \"inside\",\n",
       "        \"range\": [\n",
       "            -11.2678727838,\n",
       "            386.8636322438\n",
       "        ],\n",
       "        \"domain\": [\n",
       "            0.07581474190726165,\n",
       "            0.9415463692038496\n",
       "        ],\n",
       "        \"tickmode\": \"array\",\n",
       "        \"linecolor\": \"rgba(0, 0, 0, 1.000)\",\n",
       "        \"showgrid\": true,\n",
       "        \"title\": \"tiempo (s)\",\n",
       "        \"mirror\": false,\n",
       "        \"tickangle\": 0,\n",
       "        \"showline\": true,\n",
       "        \"gridcolor\": \"rgba(0, 0, 0, 0.100)\",\n",
       "        \"titlefont\": {\n",
       "            \"color\": \"rgba(0, 0, 0, 1.000)\",\n",
       "            \"family\": \"sans-serif\",\n",
       "            \"size\": 15\n",
       "        },\n",
       "        \"tickcolor\": \"rgb(0, 0, 0)\",\n",
       "        \"ticktext\": [\n",
       "            \"0\",\n",
       "            \"100\",\n",
       "            \"200\",\n",
       "            \"300\"\n",
       "        ],\n",
       "        \"zeroline\": false,\n",
       "        \"type\": \"-\",\n",
       "        \"tickfont\": {\n",
       "            \"color\": \"rgba(0, 0, 0, 1.000)\",\n",
       "            \"family\": \"sans-serif\",\n",
       "            \"size\": 11\n",
       "        },\n",
       "        \"zerolinecolor\": \"rgba(0, 0, 0, 1.000)\",\n",
       "        \"anchor\": \"x1\"\n",
       "    },\n",
       "    \"legend\": {\n",
       "        \"tracegroupgap\": 0,\n",
       "        \"bordercolor\": \"rgba(0, 0, 0, 1.000)\",\n",
       "        \"bgcolor\": \"rgba(255, 255, 255, 1.000)\",\n",
       "        \"font\": {\n",
       "            \"color\": \"rgba(0, 0, 0, 1.000)\",\n",
       "            \"family\": \"sans-serif\",\n",
       "            \"size\": 11\n",
       "        },\n",
       "        \"y\": 1.0,\n",
       "        \"x\": 1.0\n",
       "    },\n",
       "    \"width\": 600\n",
       "}\n",
       ");\n",
       "    </script>\n",
       "\n",
       "    </body>\n",
       "</html>\n"
      ]
     },
     "execution_count": 25,
     "metadata": {},
     "output_type": "execute_result"
    }
   ],
   "source": [
    "time_array=LinRange(50, 100, 5)\n",
    "plotly()\n",
    "plot(time_array,  time_8, label = [\"secuencial\" \"paralelo\"], title = \"N_intervalos = mitad de núcleos\", xlabel=\"iteraciones finas\", ylabel=\"tiempo (s)\")"
   ]
  },
  {
   "cell_type": "markdown",
   "metadata": {},
   "source": [
    "### N_intervalos = núcleos"
   ]
  },
  {
   "cell_type": "code",
   "execution_count": 26,
   "metadata": {},
   "outputs": [
    {
     "ename": "InterruptException",
     "evalue": "InterruptException:",
     "output_type": "error",
     "traceback": [
      "InterruptException:",
      "",
      "Stacktrace:",
      " [1] umfpack_symbolic!(::SuiteSparse.UMFPACK.UmfpackLU{Float64,Int64}) at /build/julia-YzYi5z/julia-1.3.0+dfsg/usr/share/julia/stdlib/v1.3/SuiteSparse/src/umfpack.jl:235",
      " [2] umfpack_numeric!(::SuiteSparse.UMFPACK.UmfpackLU{Float64,Int64}) at /build/julia-YzYi5z/julia-1.3.0+dfsg/usr/share/julia/stdlib/v1.3/SuiteSparse/src/umfpack.jl:256",
      " [3] #lu#1(::Bool, ::typeof(LinearAlgebra.lu), ::SparseArrays.SparseMatrixCSC{Float64,Int64}) at /build/julia-YzYi5z/julia-1.3.0+dfsg/usr/share/julia/stdlib/v1.3/SuiteSparse/src/umfpack.jl:160",
      " [4] lu at /build/julia-YzYi5z/julia-1.3.0+dfsg/usr/share/julia/stdlib/v1.3/SuiteSparse/src/umfpack.jl:154 [inlined]",
      " [5] numerical_setup at /home/noelia/.julia/packages/Gridap/z6IdO/src/Algebra/LinearSolvers.jl:232 [inlined]",
      " [6] solve! at /home/noelia/.julia/packages/Gridap/z6IdO/src/Algebra/LinearSolvers.jl:184 [inlined]",
      " [7] solve!(::Array{Float64,1}, ::LUSolver, ::Gridap.Algebra.AffineOperator{SparseArrays.SparseMatrixCSC{Float64,Int64},Array{Float64,1}}) at /home/noelia/.julia/packages/Gridap/z6IdO/src/Algebra/NonlinearSolvers.jl:22",
      " [8] solve!(::Gridap.FESpaces.SingleFieldFEFunction{true}, ::LinearFESolver, ::AffineFEOperator, ::Nothing) at /home/noelia/.julia/packages/Gridap/z6IdO/src/FESpaces/FESolvers.jl:103",
      " [9] solve!(::Gridap.FESpaces.SingleFieldFEFunction{true}, ::LinearFESolver, ::AffineFEOperator) at /home/noelia/.julia/packages/Gridap/z6IdO/src/FESpaces/FESolvers.jl:15",
      " [10] solve(::LinearFESolver, ::AffineFEOperator) at /home/noelia/.julia/packages/Gridap/z6IdO/src/FESpaces/FESolvers.jl:37",
      " [11] solve at /home/noelia/.julia/packages/Gridap/z6IdO/src/FESpaces/FESolvers.jl:43 [inlined]",
      " [12] EulerMEF(::Float64, ::Float64, ::Int64, ::Gridap.Geometry.GenericCellField{true}) at ./In[8]:14",
      " [13] G at ./In[9]:5 [inlined]",
      " [14] EDP_secuencial() at ./In[11]:9",
      " [15] macro expansion at ./util.jl:212 [inlined]",
      " [16] top-level scope at ./In[26]:4"
     ]
    }
   ],
   "source": [
    "time_16= Array{Float64,2}(undef, 5,2);\n",
    "for i=1:5\n",
    "    t_n_f = 50 +10*(i-1)\n",
    "    tiempo = @elapsed EDP_secuencial()\n",
    "    time_16[i,1] = tiempo\n",
    "    tiempo = @elapsed EDP_parareal()\n",
    "    time_16[i,2] = tiempo\n",
    "end"
   ]
  },
  {
   "cell_type": "code",
   "execution_count": 27,
   "metadata": {},
   "outputs": [
    {
     "data": {
      "application/vnd.plotly.v1+json": {
       "data": [
        {
         "colorbar": {
          "title": ""
         },
         "legendgroup": "secuencial",
         "line": {
          "color": "rgba(0, 154, 250, 1.000)",
          "dash": "solid",
          "shape": "linear",
          "width": 1
         },
         "mode": "lines",
         "name": "secuencial",
         "showlegend": true,
         "type": "scatter",
         "x": [
          50,
          62.5,
          75,
          87.5,
          100
         ],
         "xaxis": "x1",
         "y": [
          6.91971274576227e-310,
          0,
          6.91971274667135e-310,
          6.91971274946973e-310,
          0
         ],
         "yaxis": "y1",
         "zmax": null,
         "zmin": null
        },
        {
         "colorbar": {
          "title": ""
         },
         "legendgroup": "paralelo",
         "line": {
          "color": "rgba(227, 111, 71, 1.000)",
          "dash": "solid",
          "shape": "linear",
          "width": 1
         },
         "mode": "lines",
         "name": "paralelo",
         "showlegend": true,
         "type": "scatter",
         "x": [
          50,
          62.5,
          75,
          87.5,
          100
         ],
         "xaxis": "x1",
         "y": [
          6.91971274667135e-310,
          6.91971274576227e-310,
          0,
          6.91970819204933e-310,
          6.91970819204933e-310
         ],
         "yaxis": "y1",
         "zmax": null,
         "zmin": null
        }
       ],
       "layout": {
        "annotations": [
         {
          "font": {
           "color": "rgba(0, 0, 0, 1.000)",
           "family": "sans-serif",
           "size": 20
          },
          "rotation": 0,
          "showarrow": false,
          "text": "N_intervalos = núcleos",
          "x": 0.6534722222222222,
          "xanchor": "center",
          "xref": "paper",
          "y": 1,
          "yanchor": "top",
          "yref": "paper"
         }
        ],
        "height": 400,
        "legend": {
         "bgcolor": "rgba(255, 255, 255, 1.000)",
         "bordercolor": "rgba(0, 0, 0, 1.000)",
         "font": {
          "color": "rgba(0, 0, 0, 1.000)",
          "family": "sans-serif",
          "size": 11
         },
         "tracegroupgap": 0,
         "x": 1,
         "y": 1
        },
        "margin": {
         "b": 20,
         "l": 0,
         "r": 0,
         "t": 20
        },
        "paper_bgcolor": "rgba(255, 255, 255, 1.000)",
        "plot_bgcolor": "rgba(255, 255, 255, 1.000)",
        "showlegend": true,
        "width": 600,
        "xaxis": {
         "anchor": "y1",
         "domain": [
          0.31350612423447066,
          0.9934383202099737
         ],
         "gridcolor": "rgba(0, 0, 0, 0.100)",
         "gridwidth": 0.5,
         "linecolor": "rgba(0, 0, 0, 1.000)",
         "mirror": false,
         "range": [
          48.5,
          101.5
         ],
         "showgrid": true,
         "showline": true,
         "showticklabels": true,
         "tickangle": 0,
         "tickcolor": "rgb(0, 0, 0)",
         "tickfont": {
          "color": "rgba(0, 0, 0, 1.000)",
          "family": "sans-serif",
          "size": 11
         },
         "tickmode": "array",
         "ticks": "inside",
         "ticktext": [
          "50",
          "60",
          "70",
          "80",
          "90",
          "100"
         ],
         "tickvals": [
          50,
          60,
          70,
          80,
          90,
          100
         ],
         "title": "iteraciones finas",
         "titlefont": {
          "color": "rgba(0, 0, 0, 1.000)",
          "family": "sans-serif",
          "size": 15
         },
         "type": "-",
         "visible": true,
         "zeroline": false,
         "zerolinecolor": "rgba(0, 0, 0, 1.000)"
        },
        "yaxis": {
         "anchor": "x1",
         "domain": [
          0.07581474190726165,
          0.9415463692038496
         ],
         "gridcolor": "rgba(0, 0, 0, 0.100)",
         "gridwidth": 0.5,
         "linecolor": "rgba(0, 0, 0, 1.000)",
         "mirror": false,
         "range": [
          -1e-16,
          1e-16
         ],
         "showgrid": true,
         "showline": true,
         "showticklabels": true,
         "tickangle": 0,
         "tickcolor": "rgb(0, 0, 0)",
         "tickfont": {
          "color": "rgba(0, 0, 0, 1.000)",
          "family": "sans-serif",
          "size": 11
         },
         "tickmode": "array",
         "ticks": "inside",
         "ticktext": [
          "-0.0000000000000001"
         ],
         "tickvals": [
          -1e-16
         ],
         "title": "tiempo (s)",
         "titlefont": {
          "color": "rgba(0, 0, 0, 1.000)",
          "family": "sans-serif",
          "size": 15
         },
         "type": "-",
         "visible": true,
         "zeroline": false,
         "zerolinecolor": "rgba(0, 0, 0, 1.000)"
        }
       }
      },
      "text/html": [
       "<!DOCTYPE html>\n",
       "<html>\n",
       "    <head>\n",
       "        <title>Plots.jl</title>\n",
       "        <meta http-equiv=\"content-type\" content=\"text/html; charset=UTF-8\">\n",
       "        <script src=\"https://cdn.plot.ly/plotly-latest.min.js\"></script>\n",
       "    </head>\n",
       "    <body>\n",
       "            <div id=\"1892cb55-f5f6-4b74-af4c-13e855219b30\" style=\"width:600px;height:400px;\"></div>\n",
       "    <script>\n",
       "    PLOT = document.getElementById('1892cb55-f5f6-4b74-af4c-13e855219b30');\n",
       "    Plotly.plot(PLOT, [\n",
       "    {\n",
       "        \"xaxis\": \"x1\",\n",
       "        \"colorbar\": {\n",
       "            \"title\": \"\"\n",
       "        },\n",
       "        \"yaxis\": \"y1\",\n",
       "        \"x\": [\n",
       "            50.0,\n",
       "            62.5,\n",
       "            75.0,\n",
       "            87.5,\n",
       "            100.0\n",
       "        ],\n",
       "        \"showlegend\": true,\n",
       "        \"mode\": \"lines\",\n",
       "        \"name\": \"secuencial\",\n",
       "        \"zmin\": null,\n",
       "        \"legendgroup\": \"secuencial\",\n",
       "        \"zmax\": null,\n",
       "        \"line\": {\n",
       "            \"color\": \"rgba(0, 154, 250, 1.000)\",\n",
       "            \"shape\": \"linear\",\n",
       "            \"dash\": \"solid\",\n",
       "            \"width\": 1\n",
       "        },\n",
       "        \"y\": [\n",
       "            6.91971274576227e-310,\n",
       "            0.0,\n",
       "            6.91971274667135e-310,\n",
       "            6.91971274946973e-310,\n",
       "            0.0\n",
       "        ],\n",
       "        \"type\": \"scatter\"\n",
       "    },\n",
       "    {\n",
       "        \"xaxis\": \"x1\",\n",
       "        \"colorbar\": {\n",
       "            \"title\": \"\"\n",
       "        },\n",
       "        \"yaxis\": \"y1\",\n",
       "        \"x\": [\n",
       "            50.0,\n",
       "            62.5,\n",
       "            75.0,\n",
       "            87.5,\n",
       "            100.0\n",
       "        ],\n",
       "        \"showlegend\": true,\n",
       "        \"mode\": \"lines\",\n",
       "        \"name\": \"paralelo\",\n",
       "        \"zmin\": null,\n",
       "        \"legendgroup\": \"paralelo\",\n",
       "        \"zmax\": null,\n",
       "        \"line\": {\n",
       "            \"color\": \"rgba(227, 111, 71, 1.000)\",\n",
       "            \"shape\": \"linear\",\n",
       "            \"dash\": \"solid\",\n",
       "            \"width\": 1\n",
       "        },\n",
       "        \"y\": [\n",
       "            6.91971274667135e-310,\n",
       "            6.91971274576227e-310,\n",
       "            0.0,\n",
       "            6.91970819204933e-310,\n",
       "            6.91970819204933e-310\n",
       "        ],\n",
       "        \"type\": \"scatter\"\n",
       "    }\n",
       "]\n",
       ", {\n",
       "    \"showlegend\": true,\n",
       "    \"xaxis\": {\n",
       "        \"showticklabels\": true,\n",
       "        \"gridwidth\": 0.5,\n",
       "        \"tickvals\": [\n",
       "            50.0,\n",
       "            60.0,\n",
       "            70.0,\n",
       "            80.0,\n",
       "            90.0,\n",
       "            100.0\n",
       "        ],\n",
       "        \"visible\": true,\n",
       "        \"ticks\": \"inside\",\n",
       "        \"range\": [\n",
       "            48.5,\n",
       "            101.5\n",
       "        ],\n",
       "        \"domain\": [\n",
       "            0.31350612423447066,\n",
       "            0.9934383202099737\n",
       "        ],\n",
       "        \"tickmode\": \"array\",\n",
       "        \"linecolor\": \"rgba(0, 0, 0, 1.000)\",\n",
       "        \"showgrid\": true,\n",
       "        \"title\": \"iteraciones finas\",\n",
       "        \"mirror\": false,\n",
       "        \"tickangle\": 0,\n",
       "        \"showline\": true,\n",
       "        \"gridcolor\": \"rgba(0, 0, 0, 0.100)\",\n",
       "        \"titlefont\": {\n",
       "            \"color\": \"rgba(0, 0, 0, 1.000)\",\n",
       "            \"family\": \"sans-serif\",\n",
       "            \"size\": 15\n",
       "        },\n",
       "        \"tickcolor\": \"rgb(0, 0, 0)\",\n",
       "        \"ticktext\": [\n",
       "            \"50\",\n",
       "            \"60\",\n",
       "            \"70\",\n",
       "            \"80\",\n",
       "            \"90\",\n",
       "            \"100\"\n",
       "        ],\n",
       "        \"zeroline\": false,\n",
       "        \"type\": \"-\",\n",
       "        \"tickfont\": {\n",
       "            \"color\": \"rgba(0, 0, 0, 1.000)\",\n",
       "            \"family\": \"sans-serif\",\n",
       "            \"size\": 11\n",
       "        },\n",
       "        \"zerolinecolor\": \"rgba(0, 0, 0, 1.000)\",\n",
       "        \"anchor\": \"y1\"\n",
       "    },\n",
       "    \"paper_bgcolor\": \"rgba(255, 255, 255, 1.000)\",\n",
       "    \"annotations\": [\n",
       "        {\n",
       "            \"yanchor\": \"top\",\n",
       "            \"xanchor\": \"center\",\n",
       "            \"rotation\": -0.0,\n",
       "            \"y\": 1.0,\n",
       "            \"font\": {\n",
       "                \"color\": \"rgba(0, 0, 0, 1.000)\",\n",
       "                \"family\": \"sans-serif\",\n",
       "                \"size\": 20\n",
       "            },\n",
       "            \"yref\": \"paper\",\n",
       "            \"showarrow\": false,\n",
       "            \"text\": \"N_intervalos = núcleos\",\n",
       "            \"xref\": \"paper\",\n",
       "            \"x\": 0.6534722222222222\n",
       "        }\n",
       "    ],\n",
       "    \"height\": 400,\n",
       "    \"margin\": {\n",
       "        \"l\": 0,\n",
       "        \"b\": 20,\n",
       "        \"r\": 0,\n",
       "        \"t\": 20\n",
       "    },\n",
       "    \"plot_bgcolor\": \"rgba(255, 255, 255, 1.000)\",\n",
       "    \"yaxis\": {\n",
       "        \"showticklabels\": true,\n",
       "        \"gridwidth\": 0.5,\n",
       "        \"tickvals\": [\n",
       "            -1.0e-16\n",
       "        ],\n",
       "        \"visible\": true,\n",
       "        \"ticks\": \"inside\",\n",
       "        \"range\": [\n",
       "            -1.0e-16,\n",
       "            1.0e-16\n",
       "        ],\n",
       "        \"domain\": [\n",
       "            0.07581474190726165,\n",
       "            0.9415463692038496\n",
       "        ],\n",
       "        \"tickmode\": \"array\",\n",
       "        \"linecolor\": \"rgba(0, 0, 0, 1.000)\",\n",
       "        \"showgrid\": true,\n",
       "        \"title\": \"tiempo (s)\",\n",
       "        \"mirror\": false,\n",
       "        \"tickangle\": 0,\n",
       "        \"showline\": true,\n",
       "        \"gridcolor\": \"rgba(0, 0, 0, 0.100)\",\n",
       "        \"titlefont\": {\n",
       "            \"color\": \"rgba(0, 0, 0, 1.000)\",\n",
       "            \"family\": \"sans-serif\",\n",
       "            \"size\": 15\n",
       "        },\n",
       "        \"tickcolor\": \"rgb(0, 0, 0)\",\n",
       "        \"ticktext\": [\n",
       "            \"-0.0000000000000001\"\n",
       "        ],\n",
       "        \"zeroline\": false,\n",
       "        \"type\": \"-\",\n",
       "        \"tickfont\": {\n",
       "            \"color\": \"rgba(0, 0, 0, 1.000)\",\n",
       "            \"family\": \"sans-serif\",\n",
       "            \"size\": 11\n",
       "        },\n",
       "        \"zerolinecolor\": \"rgba(0, 0, 0, 1.000)\",\n",
       "        \"anchor\": \"x1\"\n",
       "    },\n",
       "    \"legend\": {\n",
       "        \"tracegroupgap\": 0,\n",
       "        \"bordercolor\": \"rgba(0, 0, 0, 1.000)\",\n",
       "        \"bgcolor\": \"rgba(255, 255, 255, 1.000)\",\n",
       "        \"font\": {\n",
       "            \"color\": \"rgba(0, 0, 0, 1.000)\",\n",
       "            \"family\": \"sans-serif\",\n",
       "            \"size\": 11\n",
       "        },\n",
       "        \"y\": 1.0,\n",
       "        \"x\": 1.0\n",
       "    },\n",
       "    \"width\": 600\n",
       "}\n",
       ");\n",
       "    </script>\n",
       "\n",
       "    </body>\n",
       "</html>\n"
      ]
     },
     "execution_count": 27,
     "metadata": {},
     "output_type": "execute_result"
    }
   ],
   "source": [
    "plotly()\n",
    "plot(time_array,  time_16, label = [\"secuencial\" \"paralelo\"], title = \"N_intervalos = núcleos\", xlabel=\"iteraciones finas\", ylabel=\"tiempo (s)\")"
   ]
  },
  {
   "cell_type": "markdown",
   "metadata": {},
   "source": [
    "## Comparación tiempos con Euler"
   ]
  },
  {
   "cell_type": "code",
   "execution_count": 20,
   "metadata": {},
   "outputs": [],
   "source": [
    "time_20= Array{Float64,2}(undef, 4,2);\n",
    "for i=1:4\n",
    "    t_n_f = 100 +200*(i-1)\n",
    "    iteraciones_f = t_n_f*N_intervalos\n",
    "    tiempo = @elapsed  EulerMEF2(t_init, t_end,iteraciones_f,u0_guardar,t_n_f)\n",
    "    time_20[i,1] = tiempo\n",
    "    tiempo = @elapsed EDP_parareal()\n",
    "    time_20[i,2] = tiempo\n",
    "end"
   ]
  },
  {
   "cell_type": "code",
   "execution_count": 19,
   "metadata": {},
   "outputs": [
    {
     "data": {
      "text/plain": [
       "4-element LinRange{Float64}:\n",
       " 100.0,300.0,500.0,700.0"
      ]
     },
     "execution_count": 19,
     "metadata": {},
     "output_type": "execute_result"
    }
   ],
   "source": [
    "time_array=LinRange(100, 700, 4)"
   ]
  },
  {
   "cell_type": "code",
   "execution_count": 73,
   "metadata": {},
   "outputs": [
    {
     "data": {
      "application/vnd.plotly.v1+json": {
       "data": [
        {
         "colorbar": {
          "title": ""
         },
         "legendgroup": "Euler",
         "line": {
          "color": "rgba(0, 154, 250, 1.000)",
          "dash": "solid",
          "shape": "linear",
          "width": 1
         },
         "mode": "lines",
         "name": "Euler",
         "showlegend": true,
         "type": "scatter",
         "x": [
          100,
          300,
          499.99999999999994,
          700
         ],
         "xaxis": "x1",
         "y": [
          22.2495315,
          57.432374373,
          95.159726889,
          133.943361054
         ],
         "yaxis": "y1",
         "zmax": null,
         "zmin": null
        },
        {
         "colorbar": {
          "title": ""
         },
         "legendgroup": "Parareal",
         "line": {
          "color": "rgba(0, 154, 250, 1.000)",
          "dash": "solid",
          "shape": "linear",
          "width": 1
         },
         "mode": "lines",
         "name": "Parareal",
         "showlegend": true,
         "type": "scatter",
         "x": [
          100,
          300,
          499.99999999999994,
          700
         ],
         "xaxis": "x2",
         "y": [
          25.440815773,
          56.980954618,
          92.312081078,
          124.688120412
         ],
         "yaxis": "y2",
         "zmax": null,
         "zmin": null
        }
       ],
       "layout": {
        "annotations": [
         {
          "font": {
           "color": "rgba(0, 0, 0, 1.000)",
           "family": "sans-serif",
           "size": 20
          },
          "rotation": 0,
          "showarrow": false,
          "text": "Número de subintervalos: 20",
          "x": 0.5456018518518518,
          "xanchor": "center",
          "xref": "paper",
          "y": 1,
          "yanchor": "top",
          "yref": "paper"
         },
         {
          "font": {
           "color": "rgba(0, 0, 0, 1.000)",
           "family": "sans-serif",
           "size": 20
          },
          "rotation": 0,
          "showarrow": false,
          "text": "Número de subintervalos: 20",
          "x": 0.7247364391951007,
          "xanchor": "center",
          "xref": "paper",
          "y": 1,
          "yanchor": "top",
          "yref": "paper"
         }
        ],
        "height": 400,
        "legend": {
         "bgcolor": "rgba(255, 255, 255, 1.000)",
         "bordercolor": "rgba(0, 0, 0, 1.000)",
         "font": {
          "color": "rgba(0, 0, 0, 1.000)",
          "family": "sans-serif",
          "size": 17
         },
         "tracegroupgap": 0,
         "x": 1,
         "y": 1
        },
        "margin": {
         "b": 20,
         "l": 0,
         "r": 0,
         "t": 20
        },
        "paper_bgcolor": "rgba(255, 255, 255, 1.000)",
        "plot_bgcolor": "rgba(255, 255, 255, 1.000)",
        "showlegend": true,
        "width": 600,
        "xaxis1": {
         "anchor": "y1",
         "domain": [
          0.09776538349372994,
          0.9934383202099738
         ],
         "gridcolor": "rgba(0, 0, 0, 0.100)",
         "gridwidth": 0.5,
         "linecolor": "rgba(0, 0, 0, 1.000)",
         "mirror": false,
         "range": [
          82,
          718
         ],
         "showgrid": true,
         "showline": true,
         "showticklabels": true,
         "tickangle": 0,
         "tickcolor": "rgb(0, 0, 0)",
         "tickfont": {
          "color": "rgba(0, 0, 0, 1.000)",
          "family": "sans-serif",
          "size": 15
         },
         "tickmode": "array",
         "ticks": "inside",
         "ticktext": [
          "100",
          "200",
          "300",
          "400",
          "500",
          "600",
          "700"
         ],
         "tickvals": [
          100,
          200,
          300,
          400,
          500,
          600,
          700
         ],
         "title": "iteraciones finas",
         "titlefont": {
          "color": "rgba(0, 0, 0, 1.000)",
          "family": "sans-serif",
          "size": 18
         },
         "type": "-",
         "visible": true,
         "zeroline": false,
         "zerolinecolor": "rgba(0, 0, 0, 1.000)"
        },
        "xaxis2": {
         "anchor": "y2",
         "domain": [
          0.5456018518518518,
          0.9038710265383494
         ],
         "gridcolor": "rgba(0, 0, 0, 0.100)",
         "gridwidth": 0.5,
         "linecolor": "rgba(0, 0, 0, 1.000)",
         "mirror": false,
         "range": [
          82,
          718
         ],
         "showgrid": true,
         "showline": true,
         "showticklabels": true,
         "tickangle": 0,
         "tickcolor": "rgb(0, 0, 0)",
         "tickfont": {
          "color": "rgba(0, 0, 0, 1.000)",
          "family": "sans-serif",
          "size": 15
         },
         "tickmode": "array",
         "ticks": "inside",
         "ticktext": [
          "100",
          "200",
          "300",
          "400",
          "500",
          "600",
          "700"
         ],
         "tickvals": [
          100,
          200,
          300,
          400,
          500,
          600,
          700
         ],
         "title": "iteraciones finas",
         "titlefont": {
          "color": "rgba(0, 0, 0, 1.000)",
          "family": "sans-serif",
          "size": 18
         },
         "type": "-",
         "visible": true,
         "zeroline": false,
         "zerolinecolor": "rgba(0, 0, 0, 1.000)"
        },
        "yaxis1": {
         "anchor": "x1",
         "domain": [
          0.09317585301837272,
          0.9415463692038496
         ],
         "gridcolor": "rgba(0, 0, 0, 0.100)",
         "gridwidth": 0.5,
         "linecolor": "rgba(0, 0, 0, 1.000)",
         "mirror": false,
         "range": [
          18.89871661338,
          137.29417594062
         ],
         "showgrid": true,
         "showline": true,
         "showticklabels": true,
         "tickangle": 0,
         "tickcolor": "rgb(0, 0, 0)",
         "tickfont": {
          "color": "rgba(0, 0, 0, 1.000)",
          "family": "sans-serif",
          "size": 15
         },
         "tickmode": "array",
         "ticks": "inside",
         "ticktext": [
          "25",
          "50",
          "75",
          "100",
          "125"
         ],
         "tickvals": [
          25,
          50,
          75,
          100,
          125
         ],
         "title": "tiempo (s)",
         "titlefont": {
          "color": "rgba(0, 0, 0, 1.000)",
          "family": "sans-serif",
          "size": 18
         },
         "type": "-",
         "visible": true,
         "zeroline": false,
         "zerolinecolor": "rgba(0, 0, 0, 1.000)"
        },
        "yaxis2": {
         "anchor": "x2",
         "domain": [
          0.6021981627296588,
          0.9415463692038495
         ],
         "gridcolor": "rgba(0, 0, 0, 0.100)",
         "gridwidth": 0.5,
         "linecolor": "rgba(0, 0, 0, 1.000)",
         "mirror": false,
         "range": [
          22.46339663383,
          127.66553955117
         ],
         "showgrid": true,
         "showline": true,
         "showticklabels": true,
         "tickangle": 0,
         "tickcolor": "rgb(0, 0, 0)",
         "tickfont": {
          "color": "rgba(0, 0, 0, 1.000)",
          "family": "sans-serif",
          "size": 15
         },
         "tickmode": "array",
         "ticks": "inside",
         "ticktext": [
          "40",
          "60",
          "80",
          "100",
          "120"
         ],
         "tickvals": [
          40,
          60,
          80,
          100,
          120
         ],
         "title": "tiempo (s)",
         "titlefont": {
          "color": "rgba(0, 0, 0, 1.000)",
          "family": "sans-serif",
          "size": 18
         },
         "type": "-",
         "visible": true,
         "zeroline": false,
         "zerolinecolor": "rgba(0, 0, 0, 1.000)"
        }
       }
      },
      "text/html": [
       "<!DOCTYPE html>\n",
       "<html>\n",
       "    <head>\n",
       "        <title>Plots.jl</title>\n",
       "        <meta http-equiv=\"content-type\" content=\"text/html; charset=UTF-8\">\n",
       "        <script src=\"https://cdn.plot.ly/plotly-latest.min.js\"></script>\n",
       "    </head>\n",
       "    <body>\n",
       "            <div id=\"2a792515-020e-47a6-8b4b-4c1d54d5bff6\" style=\"width:600px;height:400px;\"></div>\n",
       "    <script>\n",
       "    PLOT = document.getElementById('2a792515-020e-47a6-8b4b-4c1d54d5bff6');\n",
       "    Plotly.plot(PLOT, [\n",
       "    {\n",
       "        \"xaxis\": \"x1\",\n",
       "        \"colorbar\": {\n",
       "            \"title\": \"\"\n",
       "        },\n",
       "        \"yaxis\": \"y1\",\n",
       "        \"x\": [\n",
       "            100.0,\n",
       "            300.0,\n",
       "            499.99999999999994,\n",
       "            700.0\n",
       "        ],\n",
       "        \"showlegend\": true,\n",
       "        \"mode\": \"lines\",\n",
       "        \"name\": \"Euler\",\n",
       "        \"zmin\": null,\n",
       "        \"legendgroup\": \"Euler\",\n",
       "        \"zmax\": null,\n",
       "        \"line\": {\n",
       "            \"color\": \"rgba(0, 154, 250, 1.000)\",\n",
       "            \"shape\": \"linear\",\n",
       "            \"dash\": \"solid\",\n",
       "            \"width\": 1\n",
       "        },\n",
       "        \"y\": [\n",
       "            22.2495315,\n",
       "            57.432374373,\n",
       "            95.159726889,\n",
       "            133.943361054\n",
       "        ],\n",
       "        \"type\": \"scatter\"\n",
       "    },\n",
       "    {\n",
       "        \"xaxis\": \"x2\",\n",
       "        \"colorbar\": {\n",
       "            \"title\": \"\"\n",
       "        },\n",
       "        \"yaxis\": \"y2\",\n",
       "        \"x\": [\n",
       "            100.0,\n",
       "            300.0,\n",
       "            499.99999999999994,\n",
       "            700.0\n",
       "        ],\n",
       "        \"showlegend\": true,\n",
       "        \"mode\": \"lines\",\n",
       "        \"name\": \"Parareal\",\n",
       "        \"zmin\": null,\n",
       "        \"legendgroup\": \"Parareal\",\n",
       "        \"zmax\": null,\n",
       "        \"line\": {\n",
       "            \"color\": \"rgba(0, 154, 250, 1.000)\",\n",
       "            \"shape\": \"linear\",\n",
       "            \"dash\": \"solid\",\n",
       "            \"width\": 1\n",
       "        },\n",
       "        \"y\": [\n",
       "            25.440815773,\n",
       "            56.980954618,\n",
       "            92.312081078,\n",
       "            124.688120412\n",
       "        ],\n",
       "        \"type\": \"scatter\"\n",
       "    }\n",
       "]\n",
       ", {\n",
       "    \"paper_bgcolor\": \"rgba(255, 255, 255, 1.000)\",\n",
       "    \"height\": 400,\n",
       "    \"yaxis2\": {\n",
       "        \"showticklabels\": true,\n",
       "        \"gridwidth\": 0.5,\n",
       "        \"tickvals\": [\n",
       "            40.0,\n",
       "            60.0,\n",
       "            80.0,\n",
       "            100.0,\n",
       "            120.0\n",
       "        ],\n",
       "        \"visible\": true,\n",
       "        \"ticks\": \"inside\",\n",
       "        \"range\": [\n",
       "            22.46339663383,\n",
       "            127.66553955117\n",
       "        ],\n",
       "        \"domain\": [\n",
       "            0.6021981627296588,\n",
       "            0.9415463692038495\n",
       "        ],\n",
       "        \"tickmode\": \"array\",\n",
       "        \"linecolor\": \"rgba(0, 0, 0, 1.000)\",\n",
       "        \"showgrid\": true,\n",
       "        \"title\": \"tiempo (s)\",\n",
       "        \"mirror\": false,\n",
       "        \"tickangle\": 0,\n",
       "        \"showline\": true,\n",
       "        \"gridcolor\": \"rgba(0, 0, 0, 0.100)\",\n",
       "        \"titlefont\": {\n",
       "            \"color\": \"rgba(0, 0, 0, 1.000)\",\n",
       "            \"family\": \"sans-serif\",\n",
       "            \"size\": 18\n",
       "        },\n",
       "        \"tickcolor\": \"rgb(0, 0, 0)\",\n",
       "        \"ticktext\": [\n",
       "            \"40\",\n",
       "            \"60\",\n",
       "            \"80\",\n",
       "            \"100\",\n",
       "            \"120\"\n",
       "        ],\n",
       "        \"zeroline\": false,\n",
       "        \"type\": \"-\",\n",
       "        \"tickfont\": {\n",
       "            \"color\": \"rgba(0, 0, 0, 1.000)\",\n",
       "            \"family\": \"sans-serif\",\n",
       "            \"size\": 15\n",
       "        },\n",
       "        \"zerolinecolor\": \"rgba(0, 0, 0, 1.000)\",\n",
       "        \"anchor\": \"x2\"\n",
       "    },\n",
       "    \"yaxis1\": {\n",
       "        \"showticklabels\": true,\n",
       "        \"gridwidth\": 0.5,\n",
       "        \"tickvals\": [\n",
       "            25.0,\n",
       "            50.0,\n",
       "            75.0,\n",
       "            100.0,\n",
       "            125.0\n",
       "        ],\n",
       "        \"visible\": true,\n",
       "        \"ticks\": \"inside\",\n",
       "        \"range\": [\n",
       "            18.89871661338,\n",
       "            137.29417594062\n",
       "        ],\n",
       "        \"domain\": [\n",
       "            0.09317585301837272,\n",
       "            0.9415463692038496\n",
       "        ],\n",
       "        \"tickmode\": \"array\",\n",
       "        \"linecolor\": \"rgba(0, 0, 0, 1.000)\",\n",
       "        \"showgrid\": true,\n",
       "        \"title\": \"tiempo (s)\",\n",
       "        \"mirror\": false,\n",
       "        \"tickangle\": 0,\n",
       "        \"showline\": true,\n",
       "        \"gridcolor\": \"rgba(0, 0, 0, 0.100)\",\n",
       "        \"titlefont\": {\n",
       "            \"color\": \"rgba(0, 0, 0, 1.000)\",\n",
       "            \"family\": \"sans-serif\",\n",
       "            \"size\": 18\n",
       "        },\n",
       "        \"tickcolor\": \"rgb(0, 0, 0)\",\n",
       "        \"ticktext\": [\n",
       "            \"25\",\n",
       "            \"50\",\n",
       "            \"75\",\n",
       "            \"100\",\n",
       "            \"125\"\n",
       "        ],\n",
       "        \"zeroline\": false,\n",
       "        \"type\": \"-\",\n",
       "        \"tickfont\": {\n",
       "            \"color\": \"rgba(0, 0, 0, 1.000)\",\n",
       "            \"family\": \"sans-serif\",\n",
       "            \"size\": 15\n",
       "        },\n",
       "        \"zerolinecolor\": \"rgba(0, 0, 0, 1.000)\",\n",
       "        \"anchor\": \"x1\"\n",
       "    },\n",
       "    \"annotations\": [\n",
       "        {\n",
       "            \"yanchor\": \"top\",\n",
       "            \"xanchor\": \"center\",\n",
       "            \"rotation\": -0.0,\n",
       "            \"y\": 1.0,\n",
       "            \"font\": {\n",
       "                \"color\": \"rgba(0, 0, 0, 1.000)\",\n",
       "                \"family\": \"sans-serif\",\n",
       "                \"size\": 20\n",
       "            },\n",
       "            \"yref\": \"paper\",\n",
       "            \"showarrow\": false,\n",
       "            \"text\": \"Número de subintervalos: 20\",\n",
       "            \"xref\": \"paper\",\n",
       "            \"x\": 0.5456018518518518\n",
       "        },\n",
       "        {\n",
       "            \"yanchor\": \"top\",\n",
       "            \"xanchor\": \"center\",\n",
       "            \"rotation\": -0.0,\n",
       "            \"y\": 1.0,\n",
       "            \"font\": {\n",
       "                \"color\": \"rgba(0, 0, 0, 1.000)\",\n",
       "                \"family\": \"sans-serif\",\n",
       "                \"size\": 20\n",
       "            },\n",
       "            \"yref\": \"paper\",\n",
       "            \"showarrow\": false,\n",
       "            \"text\": \"Número de subintervalos: 20\",\n",
       "            \"xref\": \"paper\",\n",
       "            \"x\": 0.7247364391951007\n",
       "        }\n",
       "    ],\n",
       "    \"plot_bgcolor\": \"rgba(255, 255, 255, 1.000)\",\n",
       "    \"showlegend\": true,\n",
       "    \"xaxis1\": {\n",
       "        \"showticklabels\": true,\n",
       "        \"gridwidth\": 0.5,\n",
       "        \"tickvals\": [\n",
       "            100.0,\n",
       "            200.0,\n",
       "            300.0,\n",
       "            400.0,\n",
       "            500.0,\n",
       "            600.0,\n",
       "            700.0\n",
       "        ],\n",
       "        \"visible\": true,\n",
       "        \"ticks\": \"inside\",\n",
       "        \"range\": [\n",
       "            82.0,\n",
       "            718.0\n",
       "        ],\n",
       "        \"domain\": [\n",
       "            0.09776538349372994,\n",
       "            0.9934383202099738\n",
       "        ],\n",
       "        \"tickmode\": \"array\",\n",
       "        \"linecolor\": \"rgba(0, 0, 0, 1.000)\",\n",
       "        \"showgrid\": true,\n",
       "        \"title\": \"iteraciones finas\",\n",
       "        \"mirror\": false,\n",
       "        \"tickangle\": 0,\n",
       "        \"showline\": true,\n",
       "        \"gridcolor\": \"rgba(0, 0, 0, 0.100)\",\n",
       "        \"titlefont\": {\n",
       "            \"color\": \"rgba(0, 0, 0, 1.000)\",\n",
       "            \"family\": \"sans-serif\",\n",
       "            \"size\": 18\n",
       "        },\n",
       "        \"tickcolor\": \"rgb(0, 0, 0)\",\n",
       "        \"ticktext\": [\n",
       "            \"100\",\n",
       "            \"200\",\n",
       "            \"300\",\n",
       "            \"400\",\n",
       "            \"500\",\n",
       "            \"600\",\n",
       "            \"700\"\n",
       "        ],\n",
       "        \"zeroline\": false,\n",
       "        \"type\": \"-\",\n",
       "        \"tickfont\": {\n",
       "            \"color\": \"rgba(0, 0, 0, 1.000)\",\n",
       "            \"family\": \"sans-serif\",\n",
       "            \"size\": 15\n",
       "        },\n",
       "        \"zerolinecolor\": \"rgba(0, 0, 0, 1.000)\",\n",
       "        \"anchor\": \"y1\"\n",
       "    },\n",
       "    \"legend\": {\n",
       "        \"tracegroupgap\": 0,\n",
       "        \"bordercolor\": \"rgba(0, 0, 0, 1.000)\",\n",
       "        \"bgcolor\": \"rgba(255, 255, 255, 1.000)\",\n",
       "        \"font\": {\n",
       "            \"color\": \"rgba(0, 0, 0, 1.000)\",\n",
       "            \"family\": \"sans-serif\",\n",
       "            \"size\": 17\n",
       "        },\n",
       "        \"y\": 1.0,\n",
       "        \"x\": 1.0\n",
       "    },\n",
       "    \"xaxis2\": {\n",
       "        \"showticklabels\": true,\n",
       "        \"gridwidth\": 0.5,\n",
       "        \"tickvals\": [\n",
       "            100.0,\n",
       "            200.0,\n",
       "            300.0,\n",
       "            400.0,\n",
       "            500.0,\n",
       "            600.0,\n",
       "            700.0\n",
       "        ],\n",
       "        \"visible\": true,\n",
       "        \"ticks\": \"inside\",\n",
       "        \"range\": [\n",
       "            82.0,\n",
       "            718.0\n",
       "        ],\n",
       "        \"domain\": [\n",
       "            0.5456018518518518,\n",
       "            0.9038710265383494\n",
       "        ],\n",
       "        \"tickmode\": \"array\",\n",
       "        \"linecolor\": \"rgba(0, 0, 0, 1.000)\",\n",
       "        \"showgrid\": true,\n",
       "        \"title\": \"iteraciones finas\",\n",
       "        \"mirror\": false,\n",
       "        \"tickangle\": 0,\n",
       "        \"showline\": true,\n",
       "        \"gridcolor\": \"rgba(0, 0, 0, 0.100)\",\n",
       "        \"titlefont\": {\n",
       "            \"color\": \"rgba(0, 0, 0, 1.000)\",\n",
       "            \"family\": \"sans-serif\",\n",
       "            \"size\": 18\n",
       "        },\n",
       "        \"tickcolor\": \"rgb(0, 0, 0)\",\n",
       "        \"ticktext\": [\n",
       "            \"100\",\n",
       "            \"200\",\n",
       "            \"300\",\n",
       "            \"400\",\n",
       "            \"500\",\n",
       "            \"600\",\n",
       "            \"700\"\n",
       "        ],\n",
       "        \"zeroline\": false,\n",
       "        \"type\": \"-\",\n",
       "        \"tickfont\": {\n",
       "            \"color\": \"rgba(0, 0, 0, 1.000)\",\n",
       "            \"family\": \"sans-serif\",\n",
       "            \"size\": 15\n",
       "        },\n",
       "        \"zerolinecolor\": \"rgba(0, 0, 0, 1.000)\",\n",
       "        \"anchor\": \"y2\"\n",
       "    },\n",
       "    \"margin\": {\n",
       "        \"l\": 0,\n",
       "        \"b\": 20,\n",
       "        \"r\": 0,\n",
       "        \"t\": 20\n",
       "    },\n",
       "    \"width\": 600\n",
       "}\n",
       ");\n",
       "    </script>\n",
       "\n",
       "    </body>\n",
       "</html>\n"
      ]
     },
     "execution_count": 73,
     "metadata": {},
     "output_type": "execute_result"
    }
   ],
   "source": [
    "plotly()\n",
    "plot(time_array,  time_20, label = [\"Euler\" \"Parareal\"], title = \"Número de subintervalos: 20\", xlabel=\"iteraciones finas\", ylabel=\"tiempo (s)\", tickfont=(11, :black),guidefont = (13, :black),legendfont=(12,:black),inset = (1, bbox(0.5, 0.0, 0.4, 0.4)))"
   ]
  },
  {
   "cell_type": "code",
   "execution_count": 135,
   "metadata": {},
   "outputs": [
    {
     "data": {
      "application/vnd.plotly.v1+json": {
       "data": [
        {
         "colorbar": {
          "title": ""
         },
         "legendgroup": "Euler",
         "line": {
          "color": "rgba(0, 154, 250, 1.000)",
          "dash": "solid",
          "shape": "linear",
          "width": 1
         },
         "mode": "lines",
         "name": "Euler",
         "showlegend": true,
         "type": "scatter",
         "x": [
          100,
          300,
          499.99999999999994,
          700
         ],
         "xaxis": "x1",
         "y": [
          22.2495315,
          57.432374373,
          95.159726889,
          133.943361054
         ],
         "yaxis": "y1",
         "zmax": null,
         "zmin": null
        },
        {
         "colorbar": {
          "title": ""
         },
         "legendgroup": "Parareal",
         "line": {
          "color": "rgba(227, 111, 71, 1.000)",
          "dash": "solid",
          "shape": "linear",
          "width": 1
         },
         "mode": "lines",
         "name": "Parareal",
         "showlegend": true,
         "type": "scatter",
         "x": [
          100,
          300,
          499.99999999999994,
          700
         ],
         "xaxis": "x1",
         "y": [
          25.440815773,
          56.980954618,
          92.312081078,
          124.688120412
         ],
         "yaxis": "y1",
         "zmax": null,
         "zmin": null
        },
        {
         "colorbar": {
          "title": ""
         },
         "legendgroup": "",
         "line": {
          "color": "rgba(211, 211, 211, 1.000)",
          "dash": "solid",
          "shape": "linear",
          "width": 1
         },
         "mode": "lines",
         "name": "",
         "showlegend": false,
         "type": "scatter",
         "x": [
          274.82507150438045,
          264.148758855905
         ],
         "xaxis": "x1",
         "y": [
          53.5,
          84.016219243362
         ],
         "yaxis": "y1",
         "zmax": null,
         "zmin": null
        },
        {
         "colorbar": {
          "title": ""
         },
         "legendgroup": "",
         "line": {
          "color": "rgba(211, 211, 211, 1.000)",
          "dash": "solid",
          "shape": "linear",
          "width": 1
         },
         "mode": "lines",
         "name": "",
         "showlegend": false,
         "type": "scatter",
         "x": [
          272.5,
          272.5,
          277.5,
          277.5,
          272.5
         ],
         "xaxis": "x1",
         "y": [
          52.5,
          53.5,
          53.5,
          52.5,
          52.5
         ],
         "yaxis": "y1",
         "zmax": null,
         "zmin": null
        },
        {
         "colorbar": {
          "title": ""
         },
         "legendgroup": "",
         "line": {
          "color": "rgba(0, 154, 250, 1.000)",
          "dash": "solid",
          "shape": "linear",
          "width": 1
         },
         "mode": "lines",
         "name": "",
         "showlegend": false,
         "type": "scatter",
         "x": [
          100,
          300,
          499.99999999999994,
          700
         ],
         "xaxis": "x2",
         "y": [
          22.2495315,
          57.432374373,
          95.159726889,
          133.943361054
         ],
         "yaxis": "y2",
         "zmax": null,
         "zmin": null
        },
        {
         "colorbar": {
          "title": ""
         },
         "legendgroup": "",
         "line": {
          "color": "rgba(227, 111, 71, 1.000)",
          "dash": "solid",
          "shape": "linear",
          "width": 1
         },
         "mode": "lines",
         "name": "",
         "showlegend": false,
         "type": "scatter",
         "x": [
          100,
          300,
          499.99999999999994,
          700
         ],
         "xaxis": "x2",
         "y": [
          25.440815773,
          56.980954618,
          92.312081078,
          124.688120412
         ],
         "yaxis": "y2",
         "zmax": null,
         "zmin": null
        }
       ],
       "layout": {
        "annotations": [
         {
          "font": {
           "color": "rgba(0, 0, 0, 1.000)",
           "family": "sans-serif",
           "size": 20
          },
          "rotation": 0,
          "showarrow": false,
          "text": "Número de subintervalos: 20",
          "x": 0.5456018518518518,
          "xanchor": "center",
          "xref": "paper",
          "y": 1,
          "yanchor": "top",
          "yref": "paper"
         }
        ],
        "height": 400,
        "legend": {
         "bgcolor": "rgba(255, 255, 255, 1.000)",
         "bordercolor": "rgba(0, 0, 0, 1.000)",
         "font": {
          "color": "rgba(0, 0, 0, 1.000)",
          "family": "sans-serif",
          "size": 11
         },
         "tracegroupgap": 0,
         "x": 1,
         "y": 1
        },
        "margin": {
         "b": 20,
         "l": 0,
         "r": 0,
         "t": 20
        },
        "paper_bgcolor": "rgba(255, 255, 255, 1.000)",
        "plot_bgcolor": "rgba(255, 255, 255, 1.000)",
        "showlegend": true,
        "width": 600,
        "xaxis1": {
         "anchor": "y1",
         "domain": [
          0.09776538349372994,
          0.9934383202099738
         ],
         "gridcolor": "rgba(0, 0, 0, 0.100)",
         "gridwidth": 0.5,
         "linecolor": "rgba(0, 0, 0, 1.000)",
         "mirror": false,
         "range": [
          82,
          718
         ],
         "showgrid": true,
         "showline": true,
         "showticklabels": true,
         "tickangle": 0,
         "tickcolor": "rgb(0, 0, 0)",
         "tickfont": {
          "color": "rgba(0, 0, 0, 1.000)",
          "family": "sans-serif",
          "size": 15
         },
         "tickmode": "array",
         "ticks": "inside",
         "ticktext": [
          "100",
          "200",
          "300",
          "400",
          "500",
          "600",
          "700"
         ],
         "tickvals": [
          100,
          200,
          300,
          400,
          500,
          600,
          700
         ],
         "title": "iteraciones finas",
         "titlefont": {
          "color": "rgba(0, 0, 0, 1.000)",
          "family": "sans-serif",
          "size": 18
         },
         "type": "-",
         "visible": true,
         "zeroline": false,
         "zerolinecolor": "rgba(0, 0, 0, 1.000)"
        },
        "xaxis2": {
         "anchor": "y2",
         "domain": [
          0.18733267716535434,
          0.5008182050160397
         ],
         "gridcolor": "rgba(0, 0, 0, 0.100)",
         "gridwidth": 0.5,
         "linecolor": "rgba(0, 0, 0, 1.000)",
         "mirror": false,
         "range": [
          272.5,
          277.5
         ],
         "showgrid": true,
         "showline": true,
         "showticklabels": true,
         "tickangle": 0,
         "tickcolor": "rgb(0, 0, 0)",
         "tickfont": {
          "color": "rgba(0, 0, 0, 1.000)",
          "family": "sans-serif",
          "size": 11
         },
         "tickmode": "array",
         "ticks": "inside",
         "ticktext": [
          "273",
          "274",
          "275",
          "276",
          "277"
         ],
         "tickvals": [
          273,
          274,
          275,
          276,
          277
         ],
         "title": "",
         "titlefont": {
          "color": "rgba(0, 0, 0, 1.000)",
          "family": "sans-serif",
          "size": 15
         },
         "type": "-",
         "visible": true,
         "zeroline": false,
         "zerolinecolor": "rgba(0, 0, 0, 1.000)"
        },
        "yaxis1": {
         "anchor": "x1",
         "domain": [
          0.09317585301837272,
          0.9415463692038496
         ],
         "gridcolor": "rgba(0, 0, 0, 0.100)",
         "gridwidth": 0.5,
         "linecolor": "rgba(0, 0, 0, 1.000)",
         "mirror": false,
         "range": [
          18.89871661338,
          137.29417594062
         ],
         "showgrid": true,
         "showline": true,
         "showticklabels": true,
         "tickangle": 0,
         "tickcolor": "rgb(0, 0, 0)",
         "tickfont": {
          "color": "rgba(0, 0, 0, 1.000)",
          "family": "sans-serif",
          "size": 15
         },
         "tickmode": "array",
         "ticks": "inside",
         "ticktext": [
          "25",
          "50",
          "75",
          "100",
          "125"
         ],
         "tickvals": [
          25,
          50,
          75,
          100,
          125
         ],
         "title": "tiempo (s)",
         "titlefont": {
          "color": "rgba(0, 0, 0, 1.000)",
          "family": "sans-serif",
          "size": 18
         },
         "type": "-",
         "visible": true,
         "zeroline": false,
         "zerolinecolor": "rgba(0, 0, 0, 1.000)"
        },
        "yaxis2": {
         "anchor": "x2",
         "domain": [
          0.5597796369203849,
          0.8567093175853018
         ],
         "gridcolor": "rgba(0, 0, 0, 0.100)",
         "gridwidth": 0.5,
         "linecolor": "rgba(0, 0, 0, 1.000)",
         "mirror": false,
         "range": [
          52.5,
          53.5
         ],
         "showgrid": true,
         "showline": true,
         "showticklabels": true,
         "tickangle": 0,
         "tickcolor": "rgb(0, 0, 0)",
         "tickfont": {
          "color": "rgba(0, 0, 0, 1.000)",
          "family": "sans-serif",
          "size": 11
         },
         "tickmode": "array",
         "ticks": "inside",
         "ticktext": [
          "52.50",
          "52.75",
          "53.00",
          "53.25",
          "53.50"
         ],
         "tickvals": [
          52.5,
          52.75,
          53,
          53.25,
          53.5
         ],
         "title": "",
         "titlefont": {
          "color": "rgba(0, 0, 0, 1.000)",
          "family": "sans-serif",
          "size": 15
         },
         "type": "-",
         "visible": true,
         "zeroline": false,
         "zerolinecolor": "rgba(0, 0, 0, 1.000)"
        }
       }
      },
      "text/html": [
       "<!DOCTYPE html>\n",
       "<html>\n",
       "    <head>\n",
       "        <title>Plots.jl</title>\n",
       "        <meta http-equiv=\"content-type\" content=\"text/html; charset=UTF-8\">\n",
       "        <script src=\"https://cdn.plot.ly/plotly-latest.min.js\"></script>\n",
       "    </head>\n",
       "    <body>\n",
       "            <div id=\"bbdc3081-786c-4fe4-b12e-2dbab7e977c3\" style=\"width:600px;height:400px;\"></div>\n",
       "    <script>\n",
       "    PLOT = document.getElementById('bbdc3081-786c-4fe4-b12e-2dbab7e977c3');\n",
       "    Plotly.plot(PLOT, [\n",
       "    {\n",
       "        \"xaxis\": \"x1\",\n",
       "        \"colorbar\": {\n",
       "            \"title\": \"\"\n",
       "        },\n",
       "        \"yaxis\": \"y1\",\n",
       "        \"x\": [\n",
       "            100.0,\n",
       "            300.0,\n",
       "            499.99999999999994,\n",
       "            700.0\n",
       "        ],\n",
       "        \"showlegend\": true,\n",
       "        \"mode\": \"lines\",\n",
       "        \"name\": \"Euler\",\n",
       "        \"zmin\": null,\n",
       "        \"legendgroup\": \"Euler\",\n",
       "        \"zmax\": null,\n",
       "        \"line\": {\n",
       "            \"color\": \"rgba(0, 154, 250, 1.000)\",\n",
       "            \"shape\": \"linear\",\n",
       "            \"dash\": \"solid\",\n",
       "            \"width\": 1\n",
       "        },\n",
       "        \"y\": [\n",
       "            22.2495315,\n",
       "            57.432374373,\n",
       "            95.159726889,\n",
       "            133.943361054\n",
       "        ],\n",
       "        \"type\": \"scatter\"\n",
       "    },\n",
       "    {\n",
       "        \"xaxis\": \"x1\",\n",
       "        \"colorbar\": {\n",
       "            \"title\": \"\"\n",
       "        },\n",
       "        \"yaxis\": \"y1\",\n",
       "        \"x\": [\n",
       "            100.0,\n",
       "            300.0,\n",
       "            499.99999999999994,\n",
       "            700.0\n",
       "        ],\n",
       "        \"showlegend\": true,\n",
       "        \"mode\": \"lines\",\n",
       "        \"name\": \"Parareal\",\n",
       "        \"zmin\": null,\n",
       "        \"legendgroup\": \"Parareal\",\n",
       "        \"zmax\": null,\n",
       "        \"line\": {\n",
       "            \"color\": \"rgba(227, 111, 71, 1.000)\",\n",
       "            \"shape\": \"linear\",\n",
       "            \"dash\": \"solid\",\n",
       "            \"width\": 1\n",
       "        },\n",
       "        \"y\": [\n",
       "            25.440815773,\n",
       "            56.980954618,\n",
       "            92.312081078,\n",
       "            124.688120412\n",
       "        ],\n",
       "        \"type\": \"scatter\"\n",
       "    },\n",
       "    {\n",
       "        \"xaxis\": \"x1\",\n",
       "        \"colorbar\": {\n",
       "            \"title\": \"\"\n",
       "        },\n",
       "        \"yaxis\": \"y1\",\n",
       "        \"x\": [\n",
       "            274.82507150438045,\n",
       "            264.148758855905\n",
       "        ],\n",
       "        \"showlegend\": false,\n",
       "        \"mode\": \"lines\",\n",
       "        \"name\": \"\",\n",
       "        \"zmin\": null,\n",
       "        \"legendgroup\": \"\",\n",
       "        \"zmax\": null,\n",
       "        \"line\": {\n",
       "            \"color\": \"rgba(211, 211, 211, 1.000)\",\n",
       "            \"shape\": \"linear\",\n",
       "            \"dash\": \"solid\",\n",
       "            \"width\": 1\n",
       "        },\n",
       "        \"y\": [\n",
       "            53.5,\n",
       "            84.016219243362\n",
       "        ],\n",
       "        \"type\": \"scatter\"\n",
       "    },\n",
       "    {\n",
       "        \"xaxis\": \"x1\",\n",
       "        \"colorbar\": {\n",
       "            \"title\": \"\"\n",
       "        },\n",
       "        \"yaxis\": \"y1\",\n",
       "        \"x\": [\n",
       "            272.5,\n",
       "            272.5,\n",
       "            277.5,\n",
       "            277.5,\n",
       "            272.5\n",
       "        ],\n",
       "        \"showlegend\": false,\n",
       "        \"mode\": \"lines\",\n",
       "        \"name\": \"\",\n",
       "        \"zmin\": null,\n",
       "        \"legendgroup\": \"\",\n",
       "        \"zmax\": null,\n",
       "        \"line\": {\n",
       "            \"color\": \"rgba(211, 211, 211, 1.000)\",\n",
       "            \"shape\": \"linear\",\n",
       "            \"dash\": \"solid\",\n",
       "            \"width\": 1\n",
       "        },\n",
       "        \"y\": [\n",
       "            52.5,\n",
       "            53.5,\n",
       "            53.5,\n",
       "            52.5,\n",
       "            52.5\n",
       "        ],\n",
       "        \"type\": \"scatter\"\n",
       "    },\n",
       "    {\n",
       "        \"xaxis\": \"x2\",\n",
       "        \"colorbar\": {\n",
       "            \"title\": \"\"\n",
       "        },\n",
       "        \"yaxis\": \"y2\",\n",
       "        \"x\": [\n",
       "            100.0,\n",
       "            300.0,\n",
       "            499.99999999999994,\n",
       "            700.0\n",
       "        ],\n",
       "        \"showlegend\": false,\n",
       "        \"mode\": \"lines\",\n",
       "        \"name\": \"\",\n",
       "        \"zmin\": null,\n",
       "        \"legendgroup\": \"\",\n",
       "        \"zmax\": null,\n",
       "        \"line\": {\n",
       "            \"color\": \"rgba(0, 154, 250, 1.000)\",\n",
       "            \"shape\": \"linear\",\n",
       "            \"dash\": \"solid\",\n",
       "            \"width\": 1\n",
       "        },\n",
       "        \"y\": [\n",
       "            22.2495315,\n",
       "            57.432374373,\n",
       "            95.159726889,\n",
       "            133.943361054\n",
       "        ],\n",
       "        \"type\": \"scatter\"\n",
       "    },\n",
       "    {\n",
       "        \"xaxis\": \"x2\",\n",
       "        \"colorbar\": {\n",
       "            \"title\": \"\"\n",
       "        },\n",
       "        \"yaxis\": \"y2\",\n",
       "        \"x\": [\n",
       "            100.0,\n",
       "            300.0,\n",
       "            499.99999999999994,\n",
       "            700.0\n",
       "        ],\n",
       "        \"showlegend\": false,\n",
       "        \"mode\": \"lines\",\n",
       "        \"name\": \"\",\n",
       "        \"zmin\": null,\n",
       "        \"legendgroup\": \"\",\n",
       "        \"zmax\": null,\n",
       "        \"line\": {\n",
       "            \"color\": \"rgba(227, 111, 71, 1.000)\",\n",
       "            \"shape\": \"linear\",\n",
       "            \"dash\": \"solid\",\n",
       "            \"width\": 1\n",
       "        },\n",
       "        \"y\": [\n",
       "            25.440815773,\n",
       "            56.980954618,\n",
       "            92.312081078,\n",
       "            124.688120412\n",
       "        ],\n",
       "        \"type\": \"scatter\"\n",
       "    }\n",
       "]\n",
       ", {\n",
       "    \"paper_bgcolor\": \"rgba(255, 255, 255, 1.000)\",\n",
       "    \"height\": 400,\n",
       "    \"yaxis2\": {\n",
       "        \"showticklabels\": true,\n",
       "        \"gridwidth\": 0.5,\n",
       "        \"tickvals\": [\n",
       "            52.5,\n",
       "            52.75,\n",
       "            53.0,\n",
       "            53.25,\n",
       "            53.5\n",
       "        ],\n",
       "        \"visible\": true,\n",
       "        \"ticks\": \"inside\",\n",
       "        \"range\": [\n",
       "            52.5,\n",
       "            53.5\n",
       "        ],\n",
       "        \"domain\": [\n",
       "            0.5597796369203849,\n",
       "            0.8567093175853018\n",
       "        ],\n",
       "        \"tickmode\": \"array\",\n",
       "        \"linecolor\": \"rgba(0, 0, 0, 1.000)\",\n",
       "        \"showgrid\": true,\n",
       "        \"title\": \"\",\n",
       "        \"mirror\": false,\n",
       "        \"tickangle\": 0,\n",
       "        \"showline\": true,\n",
       "        \"gridcolor\": \"rgba(0, 0, 0, 0.100)\",\n",
       "        \"titlefont\": {\n",
       "            \"color\": \"rgba(0, 0, 0, 1.000)\",\n",
       "            \"family\": \"sans-serif\",\n",
       "            \"size\": 15\n",
       "        },\n",
       "        \"tickcolor\": \"rgb(0, 0, 0)\",\n",
       "        \"ticktext\": [\n",
       "            \"52.50\",\n",
       "            \"52.75\",\n",
       "            \"53.00\",\n",
       "            \"53.25\",\n",
       "            \"53.50\"\n",
       "        ],\n",
       "        \"zeroline\": false,\n",
       "        \"type\": \"-\",\n",
       "        \"tickfont\": {\n",
       "            \"color\": \"rgba(0, 0, 0, 1.000)\",\n",
       "            \"family\": \"sans-serif\",\n",
       "            \"size\": 11\n",
       "        },\n",
       "        \"zerolinecolor\": \"rgba(0, 0, 0, 1.000)\",\n",
       "        \"anchor\": \"x2\"\n",
       "    },\n",
       "    \"yaxis1\": {\n",
       "        \"showticklabels\": true,\n",
       "        \"gridwidth\": 0.5,\n",
       "        \"tickvals\": [\n",
       "            25.0,\n",
       "            50.0,\n",
       "            75.0,\n",
       "            100.0,\n",
       "            125.0\n",
       "        ],\n",
       "        \"visible\": true,\n",
       "        \"ticks\": \"inside\",\n",
       "        \"range\": [\n",
       "            18.89871661338,\n",
       "            137.29417594062\n",
       "        ],\n",
       "        \"domain\": [\n",
       "            0.09317585301837272,\n",
       "            0.9415463692038496\n",
       "        ],\n",
       "        \"tickmode\": \"array\",\n",
       "        \"linecolor\": \"rgba(0, 0, 0, 1.000)\",\n",
       "        \"showgrid\": true,\n",
       "        \"title\": \"tiempo (s)\",\n",
       "        \"mirror\": false,\n",
       "        \"tickangle\": 0,\n",
       "        \"showline\": true,\n",
       "        \"gridcolor\": \"rgba(0, 0, 0, 0.100)\",\n",
       "        \"titlefont\": {\n",
       "            \"color\": \"rgba(0, 0, 0, 1.000)\",\n",
       "            \"family\": \"sans-serif\",\n",
       "            \"size\": 18\n",
       "        },\n",
       "        \"tickcolor\": \"rgb(0, 0, 0)\",\n",
       "        \"ticktext\": [\n",
       "            \"25\",\n",
       "            \"50\",\n",
       "            \"75\",\n",
       "            \"100\",\n",
       "            \"125\"\n",
       "        ],\n",
       "        \"zeroline\": false,\n",
       "        \"type\": \"-\",\n",
       "        \"tickfont\": {\n",
       "            \"color\": \"rgba(0, 0, 0, 1.000)\",\n",
       "            \"family\": \"sans-serif\",\n",
       "            \"size\": 15\n",
       "        },\n",
       "        \"zerolinecolor\": \"rgba(0, 0, 0, 1.000)\",\n",
       "        \"anchor\": \"x1\"\n",
       "    },\n",
       "    \"annotations\": [\n",
       "        {\n",
       "            \"yanchor\": \"top\",\n",
       "            \"xanchor\": \"center\",\n",
       "            \"rotation\": -0.0,\n",
       "            \"y\": 1.0,\n",
       "            \"font\": {\n",
       "                \"color\": \"rgba(0, 0, 0, 1.000)\",\n",
       "                \"family\": \"sans-serif\",\n",
       "                \"size\": 20\n",
       "            },\n",
       "            \"yref\": \"paper\",\n",
       "            \"showarrow\": false,\n",
       "            \"text\": \"Número de subintervalos: 20\",\n",
       "            \"xref\": \"paper\",\n",
       "            \"x\": 0.5456018518518518\n",
       "        }\n",
       "    ],\n",
       "    \"plot_bgcolor\": \"rgba(255, 255, 255, 1.000)\",\n",
       "    \"showlegend\": true,\n",
       "    \"xaxis1\": {\n",
       "        \"showticklabels\": true,\n",
       "        \"gridwidth\": 0.5,\n",
       "        \"tickvals\": [\n",
       "            100.0,\n",
       "            200.0,\n",
       "            300.0,\n",
       "            400.0,\n",
       "            500.0,\n",
       "            600.0,\n",
       "            700.0\n",
       "        ],\n",
       "        \"visible\": true,\n",
       "        \"ticks\": \"inside\",\n",
       "        \"range\": [\n",
       "            82.0,\n",
       "            718.0\n",
       "        ],\n",
       "        \"domain\": [\n",
       "            0.09776538349372994,\n",
       "            0.9934383202099738\n",
       "        ],\n",
       "        \"tickmode\": \"array\",\n",
       "        \"linecolor\": \"rgba(0, 0, 0, 1.000)\",\n",
       "        \"showgrid\": true,\n",
       "        \"title\": \"iteraciones finas\",\n",
       "        \"mirror\": false,\n",
       "        \"tickangle\": 0,\n",
       "        \"showline\": true,\n",
       "        \"gridcolor\": \"rgba(0, 0, 0, 0.100)\",\n",
       "        \"titlefont\": {\n",
       "            \"color\": \"rgba(0, 0, 0, 1.000)\",\n",
       "            \"family\": \"sans-serif\",\n",
       "            \"size\": 18\n",
       "        },\n",
       "        \"tickcolor\": \"rgb(0, 0, 0)\",\n",
       "        \"ticktext\": [\n",
       "            \"100\",\n",
       "            \"200\",\n",
       "            \"300\",\n",
       "            \"400\",\n",
       "            \"500\",\n",
       "            \"600\",\n",
       "            \"700\"\n",
       "        ],\n",
       "        \"zeroline\": false,\n",
       "        \"type\": \"-\",\n",
       "        \"tickfont\": {\n",
       "            \"color\": \"rgba(0, 0, 0, 1.000)\",\n",
       "            \"family\": \"sans-serif\",\n",
       "            \"size\": 15\n",
       "        },\n",
       "        \"zerolinecolor\": \"rgba(0, 0, 0, 1.000)\",\n",
       "        \"anchor\": \"y1\"\n",
       "    },\n",
       "    \"legend\": {\n",
       "        \"tracegroupgap\": 0,\n",
       "        \"bordercolor\": \"rgba(0, 0, 0, 1.000)\",\n",
       "        \"bgcolor\": \"rgba(255, 255, 255, 1.000)\",\n",
       "        \"font\": {\n",
       "            \"color\": \"rgba(0, 0, 0, 1.000)\",\n",
       "            \"family\": \"sans-serif\",\n",
       "            \"size\": 11\n",
       "        },\n",
       "        \"y\": 1.0,\n",
       "        \"x\": 1.0\n",
       "    },\n",
       "    \"xaxis2\": {\n",
       "        \"showticklabels\": true,\n",
       "        \"gridwidth\": 0.5,\n",
       "        \"tickvals\": [\n",
       "            273.0,\n",
       "            274.0,\n",
       "            275.0,\n",
       "            276.0,\n",
       "            277.0\n",
       "        ],\n",
       "        \"visible\": true,\n",
       "        \"ticks\": \"inside\",\n",
       "        \"range\": [\n",
       "            272.5,\n",
       "            277.5\n",
       "        ],\n",
       "        \"domain\": [\n",
       "            0.18733267716535434,\n",
       "            0.5008182050160397\n",
       "        ],\n",
       "        \"tickmode\": \"array\",\n",
       "        \"linecolor\": \"rgba(0, 0, 0, 1.000)\",\n",
       "        \"showgrid\": true,\n",
       "        \"title\": \"\",\n",
       "        \"mirror\": false,\n",
       "        \"tickangle\": 0,\n",
       "        \"showline\": true,\n",
       "        \"gridcolor\": \"rgba(0, 0, 0, 0.100)\",\n",
       "        \"titlefont\": {\n",
       "            \"color\": \"rgba(0, 0, 0, 1.000)\",\n",
       "            \"family\": \"sans-serif\",\n",
       "            \"size\": 15\n",
       "        },\n",
       "        \"tickcolor\": \"rgb(0, 0, 0)\",\n",
       "        \"ticktext\": [\n",
       "            \"273\",\n",
       "            \"274\",\n",
       "            \"275\",\n",
       "            \"276\",\n",
       "            \"277\"\n",
       "        ],\n",
       "        \"zeroline\": false,\n",
       "        \"type\": \"-\",\n",
       "        \"tickfont\": {\n",
       "            \"color\": \"rgba(0, 0, 0, 1.000)\",\n",
       "            \"family\": \"sans-serif\",\n",
       "            \"size\": 11\n",
       "        },\n",
       "        \"zerolinecolor\": \"rgba(0, 0, 0, 1.000)\",\n",
       "        \"anchor\": \"y2\"\n",
       "    },\n",
       "    \"margin\": {\n",
       "        \"l\": 0,\n",
       "        \"b\": 20,\n",
       "        \"r\": 0,\n",
       "        \"t\": 20\n",
       "    },\n",
       "    \"width\": 600\n",
       "}\n",
       ");\n",
       "    </script>\n",
       "\n",
       "    </body>\n",
       "</html>\n"
      ]
     },
     "execution_count": 135,
     "metadata": {},
     "output_type": "execute_result"
    }
   ],
   "source": [
    "begin\n",
    "    plot(time_array,  time_20, label = [\"Euler\" \"Parareal\"], title = \"Número de subintervalos: 20\", xlabel=\"iteraciones finas\", ylabel=\"tiempo (s)\", tickfont=(11, :black),guidefont = (13, :black),legendfont=(15,:black))\n",
    "    lens!([272.5, 277.5], [52.5, 53.5], inset = (1, bbox(0.1, 0.1, 0.35, 0.35, :top, :left)))\n",
    "end"
   ]
  }
 ],
 "metadata": {
  "kernelspec": {
   "display_name": "Julia 1.3.0",
   "language": "julia",
   "name": "julia-1.3"
  },
  "language_info": {
   "file_extension": ".jl",
   "mimetype": "application/julia",
   "name": "julia",
   "version": "1.3.0"
  }
 },
 "nbformat": 4,
 "nbformat_minor": 2
}
