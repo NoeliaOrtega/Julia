{
 "cells": [
  {
   "cell_type": "markdown",
   "metadata": {},
   "source": [
    "## Modelo SIR en parareal (Julia)\n",
    "\n",
    "   \n",
    "\\begin{align}\n",
    "S_{t} & = - \\beta S\\cdot I  \\\\\n",
    "I_{t} & = \\beta S \\cdot I - \\nu I \\\\\n",
    "R_{t} & = \\nu I \n",
    "\\end{align}\n",
    "\n",
    "   \n",
    "\\begin{align}\n",
    "S_{t} & = - \\beta S\\cdot I  \\\\\n",
    "I_{t} & = \\beta S \\cdot I - \\nu I \\\\\n",
    "R(t) & = N - S(t)-I(t)\n",
    "\\end{align}\n"
   ]
  },
  {
   "cell_type": "code",
   "execution_count": 73,
   "metadata": {},
   "outputs": [
    {
     "name": "stderr",
     "output_type": "stream",
     "text": [
      "WARNING: redefining constant N_intervalos\n",
      "WARNING: redefining constant T\n",
      "WARNING: redefining constant U0\n"
     ]
    },
    {
     "data": {
      "text/plain": [
       "SIR (generic function with 1 method)"
      ]
     },
     "execution_count": 73,
     "metadata": {},
     "output_type": "execute_result"
    }
   ],
   "source": [
    "# Parámetros globales\n",
    "\n",
    "const global N_ind = 103 # Número de individuos  \n",
    "const global beta = 0.1\n",
    "const global nu = 0.9\n",
    "const global S0 = 100.\n",
    "const global I0 = 3.\n",
    "\n",
    "const global t_init = 0.\n",
    "const global t_end  = 5. \n",
    "const global t_n_f = 10000\n",
    "const global t_n_c = 20\n",
    "\n",
    "const global N_intervalos = 400;\n",
    "const global T = LinRange(t_init, t_end, N_intervalos+1)\n",
    "\n",
    "const global n_iter = 10 # Número de iteraciones de Parareal\n",
    "\n",
    "#Sistema\n",
    "const global U0 = [S0 ,I0, N_ind-S0-I0]   # S_0, I_0, R_0\n",
    "\n",
    "function SIR(U, t)\n",
    "    S = U[1]\n",
    "    I = U[2]\n",
    "    return [-beta*S*I, beta*S*I-nu*I, nu*I]\n",
    "end"
   ]
  },
  {
   "cell_type": "markdown",
   "metadata": {},
   "source": [
    "## Array de incógintas, $U[i,j,k]$\n",
    "\n",
    "- Primer índice $i$: subintervalo\n",
    "- Segundo índice $j$: iteración parareal\n",
    "- Terecer ínidice $k$: incógnita\n",
    "    * 1 -> S\n",
    "    * 2 -> I\n",
    "    * 3 -> R"
   ]
  },
  {
   "cell_type": "markdown",
   "metadata": {},
   "source": [
    "## Método de Euler"
   ]
  },
  {
   "cell_type": "code",
   "execution_count": 2,
   "metadata": {},
   "outputs": [
    {
     "data": {
      "text/plain": [
       "Euler (generic function with 1 method)"
      ]
     },
     "execution_count": 2,
     "metadata": {},
     "output_type": "execute_result"
    }
   ],
   "source": [
    "# Resuelve el sistema de EDO U' = F(U,t), U(0)=U0 en el rango \n",
    "# de tiempo T = [t_0, ..., t_n] mediante el método de Euler\n",
    "function Euler(F, U0, t_init, t_end, n_t)\n",
    "    dt = (t_end-t_init)/n_t\n",
    "    t = t_init\n",
    "    \n",
    "    #println(\"n_t=$n_t, t_init=$t_init, t_end=$t_end, dt=$dt\")\n",
    "    U_sol = zeros(size(U0))\n",
    "    for i=1:n_t\n",
    "        # Denotamos: U=solución en la etapa actual, U0=sol. etapa anterior\n",
    "        U_sol = U0 + dt*F(U0, t) # U, U0, F(U,t) arrays numpy\n",
    "\n",
    "        # Preparamos siguiente iteración\n",
    "        t += dt\n",
    "        U0 = U_sol\n",
    "        \n",
    "        #println(\"Iter $i, t=$t, u=$U_sol, ex_sol=$(exp(t))\")\n",
    "\n",
    "    end\n",
    "    return U_sol\n",
    "end"
   ]
  },
  {
   "cell_type": "code",
   "execution_count": 3,
   "metadata": {},
   "outputs": [
    {
     "name": "stdout",
     "output_type": "stream",
     "text": [
      "\n",
      "Listo. Error en t_end=5.0: 90.7481200400766\n"
     ]
    }
   ],
   "source": [
    "f1(y,t) = y  # y'=y, y(0)=1, solución exacta: y(t)= e^t\n",
    "y_end = Euler(f1, 1, t_init, t_end, 10)\n",
    "\n",
    "println(\"\\nListo. Error en t_end=$t_end: \", exp(t_end) - y_end)"
   ]
  },
  {
   "cell_type": "markdown",
   "metadata": {},
   "source": []
  },
  {
   "cell_type": "markdown",
   "metadata": {},
   "source": [
    " ## Método Parareal"
   ]
  },
  {
   "cell_type": "code",
   "execution_count": 4,
   "metadata": {},
   "outputs": [
    {
     "data": {
      "text/plain": [
       "G (generic function with 1 method)"
      ]
     },
     "execution_count": 4,
     "metadata": {},
     "output_type": "execute_result"
    }
   ],
   "source": [
    "F(t1, t0, u0) =  Euler(SIR, u0, t0, t1, t_n_f)\n",
    "G(t1, t0, u0) =  Euler(SIR, u0, t0, t1, t_n_c)"
   ]
  },
  {
   "cell_type": "code",
   "execution_count": 64,
   "metadata": {},
   "outputs": [
    {
     "data": {
      "text/plain": [
       "SIR_secuencial (generic function with 1 method)"
      ]
     },
     "execution_count": 64,
     "metadata": {},
     "output_type": "execute_result"
    }
   ],
   "source": [
    "function SIR_secuencial()\n",
    "    U = Array{Float64,3}(undef, N_intervalos+1, n_iter+1, 3);\n",
    "    Fn = Array{Float64,2}(undef, N_intervalos+1, 3);\n",
    "\n",
    "    # 1.a) Inicialización (aproximción grosera)\n",
    "    U[1,1,:] = U0\n",
    "    for n=1:N_intervalos\n",
    "        U[n+1,1,:] = G( T[n+1],T[n],U[n,1,:] )\n",
    "    end\n",
    "        \n",
    "    # 1.b) Inicialización etapas parareal\n",
    "    for k=1:n_iter\n",
    "        U[1,k+1,:] = U0\n",
    "    end\n",
    "\n",
    "    # 2) Bucle parareal\n",
    "    for k=1:n_iter\n",
    " \n",
    "        # 2.a) Aproximación fina (paralela) en cada subintervalo\n",
    "        @time @inbounds begin\n",
    "        for n = 1:N_intervalos\n",
    "            #F_sol[n,:] = F( T[n+1], T[n], U[n,k,:] )\n",
    "            t0 = T[n]\n",
    "            t1 = T[n+1]\n",
    "            Unk = U[n,k,:]\n",
    "            Fn[n,:] = F( t1, t0, Unk )\n",
    "        end\n",
    "        end\n",
    "        \n",
    "        # 2.b) Corrección secuencial\n",
    "        @time @inbounds for n = 1:N_intervalos\n",
    "            U[n+1, k+1, :] = Fn[n,:] + G( T[n+1], T[n], U[n,k+1,:] ) - G( T[n+1], T[n], U[n,k,:] )\n",
    "        end\n",
    "    end\n",
    "    \n",
    "    return U\n",
    "    \n",
    "end"
   ]
  },
  {
   "cell_type": "code",
   "execution_count": 65,
   "metadata": {},
   "outputs": [
    {
     "data": {
      "text/plain": [
       "SIR_parareal (generic function with 1 method)"
      ]
     },
     "execution_count": 65,
     "metadata": {},
     "output_type": "execute_result"
    }
   ],
   "source": [
    "function SIR_parareal()\n",
    "    U = Array{Float64,3}(undef, N_intervalos+1, n_iter+1, 3);\n",
    "    Fn = Array{Float64,2}(undef, N_intervalos+1, 3);\n",
    "    Un = Array{Float64,2}(undef, N_intervalos+1, 3);\n",
    "\n",
    "    # 1.a) Inicialización (aproximción grosera)\n",
    "    U[1,1,:] = U0\n",
    "    \n",
    "    for n=1:N_intervalos\n",
    "        U[n+1,1,:] = G( T[n+1],T[n],U[n,1,:] )\n",
    "    end\n",
    "        \n",
    "    # 1.b) Inicialización etapas parareal\n",
    "    @inbounds Threads.@threads for k=1:n_iter\n",
    "        U[1,k+1,:] = U0\n",
    "    end\n",
    "\n",
    "    # 2) Bucle parareal\n",
    "    for k=1:n_iter\n",
    " \n",
    "        # 2.a) Aproximación fina (paralela) en cada subintervalo\n",
    "        @time begin\n",
    "        @inbounds Threads.@threads for n = 1:N_intervalos\n",
    "            t0 = T[n]\n",
    "            t1 = T[n+1]\n",
    "            #Unk = U[n,k,:]\n",
    "            Fn[n,:] = F( t1, t0, U[n,k,:] )\n",
    "        end\n",
    "        end\n",
    "        \n",
    "        # 2.b) Corrección secuencial\n",
    "        @time @inbounds for n = 1:N_intervalos\n",
    "            U[n+1, k+1, :] = Fn[n,:] + G( T[n+1], T[n], U[n,k+1,:] ) - G( T[n+1], T[n], U[n,k,:] )\n",
    "        end\n",
    "\n",
    "    end\n",
    "    \n",
    "    return U\n",
    "    \n",
    "end"
   ]
  },
  {
   "cell_type": "code",
   "execution_count": 74,
   "metadata": {},
   "outputs": [
    {
     "name": "stdout",
     "output_type": "stream",
     "text": [
      "  1.754216 seconds (12.00 M allocations: 1.252 GiB, 15.28% gc time)\n",
      "  0.007015 seconds (50.80 k allocations: 5.426 MiB)\n",
      "  1.763031 seconds (12.00 M allocations: 1.252 GiB, 15.71% gc time)\n",
      "  0.005553 seconds (50.80 k allocations: 5.426 MiB)\n",
      "  1.747227 seconds (12.00 M allocations: 1.252 GiB, 14.99% gc time)\n",
      "  0.006972 seconds (50.80 k allocations: 5.426 MiB)\n",
      "  1.755724 seconds (12.00 M allocations: 1.252 GiB, 15.42% gc time)\n",
      "  0.004286 seconds (50.80 k allocations: 5.426 MiB)\n",
      "  1.747275 seconds (12.00 M allocations: 1.252 GiB, 15.06% gc time)\n",
      "  0.007001 seconds (50.80 k allocations: 5.426 MiB)\n",
      "  1.748549 seconds (12.00 M allocations: 1.252 GiB, 15.13% gc time)\n",
      "  0.006977 seconds (50.80 k allocations: 5.426 MiB)\n",
      "  1.751042 seconds (12.00 M allocations: 1.252 GiB, 15.62% gc time)\n",
      "  0.007035 seconds (50.80 k allocations: 5.426 MiB)\n",
      "  1.746109 seconds (12.00 M allocations: 1.252 GiB, 15.15% gc time)\n",
      "  0.006956 seconds (50.80 k allocations: 5.426 MiB)\n",
      "  1.752248 seconds (12.00 M allocations: 1.252 GiB, 15.67% gc time)\n",
      "  0.004813 seconds (50.80 k allocations: 5.426 MiB)\n",
      "  1.747514 seconds (12.00 M allocations: 1.252 GiB, 15.24% gc time)\n",
      "  0.006943 seconds (50.80 k allocations: 5.426 MiB)\n",
      " 17.740780 seconds (120.74 M allocations: 12.583 GiB, 15.13% gc time)\n"
     ]
    }
   ],
   "source": [
    "@time U = SIR_secuencial();"
   ]
  },
  {
   "cell_type": "code",
   "execution_count": 75,
   "metadata": {},
   "outputs": [
    {
     "name": "stdout",
     "output_type": "stream",
     "text": [
      "  1.170610 seconds (12.04 M allocations: 1.254 GiB, 72.21% gc time)\n",
      "  0.007706 seconds (50.80 k allocations: 5.426 MiB)\n",
      "  1.933184 seconds (12.00 M allocations: 1.252 GiB, 85.85% gc time)\n",
      "  0.006978 seconds (50.80 k allocations: 5.426 MiB)\n",
      "  1.864157 seconds (12.00 M allocations: 1.252 GiB, 85.31% gc time)\n",
      "  0.007032 seconds (50.80 k allocations: 5.426 MiB)\n",
      "  2.561700 seconds (12.00 M allocations: 1.252 GiB, 89.44% gc time)\n",
      "  0.004330 seconds (50.80 k allocations: 5.426 MiB)\n",
      "  1.672109 seconds (12.00 M allocations: 1.252 GiB, 83.37% gc time)\n",
      "  0.005059 seconds (50.80 k allocations: 5.426 MiB)\n",
      "  1.802877 seconds (12.00 M allocations: 1.252 GiB, 85.13% gc time)\n",
      "  0.007205 seconds (50.80 k allocations: 5.426 MiB)\n",
      "  1.862626 seconds (12.00 M allocations: 1.252 GiB, 85.67% gc time)\n",
      "  0.007178 seconds (50.80 k allocations: 5.426 MiB)\n",
      "  1.764564 seconds (12.00 M allocations: 1.252 GiB, 84.37% gc time)\n",
      "  0.007028 seconds (50.80 k allocations: 5.426 MiB)\n",
      "  1.866766 seconds (12.00 M allocations: 1.252 GiB, 85.88% gc time)\n",
      "  0.007241 seconds (50.80 k allocations: 5.426 MiB)\n",
      "  1.830216 seconds (12.00 M allocations: 1.252 GiB, 85.64% gc time)\n",
      "  0.007005 seconds (50.80 k allocations: 5.426 MiB)\n",
      " 18.525241 seconds (120.76 M allocations: 12.584 GiB, 84.05% gc time)\n"
     ]
    }
   ],
   "source": [
    "@time U = SIR_parareal(); "
   ]
  },
  {
   "cell_type": "code",
   "execution_count": 9,
   "metadata": {},
   "outputs": [
    {
     "name": "stderr",
     "output_type": "stream",
     "text": [
      "┌ Info: Precompiling Plots [91a5bcdd-55d7-5caf-9e0b-520d859cae80]\n",
      "└ @ Base loading.jl:1273\n",
      "WARNING: Method definition isnan(StaticArrays.StaticArray{S, T, N} where N where T where S<:Tuple) in module FixedSizeArraysWillBeRemoved at /home/rrgalvan/.julia/packages/StaticArrays/VyRz3/src/FixedSizeArrays.jl:63 overwritten in module FixedSizeArrays at /home/rrgalvan/.julia/packages/GeometryTypes/gpBFp/src/FixedSizeArrays.jl:154.\n",
      "  ** incremental compilation may be fatally broken for this module **\n",
      "\n",
      "WARNING: Method definition extrema(AbstractArray{T<:(StaticArrays.StaticArray{Tuple{N}, T, 1} where T where N), 1}) where {T<:(StaticArrays.StaticArray{Tuple{N}, T, 1} where T where N)} in module FixedSizeArraysWillBeRemoved at /home/rrgalvan/.julia/packages/StaticArrays/VyRz3/src/FixedSizeArrays.jl:80 overwritten in module FixedSizeArrays at /home/rrgalvan/.julia/packages/GeometryTypes/gpBFp/src/FixedSizeArrays.jl:169.\n",
      "  ** incremental compilation may be fatally broken for this module **\n",
      "\n",
      "WARNING: Method definition minimum(AbstractArray{T<:(StaticArrays.StaticArray{Tuple{N}, T, 1} where T where N), 1}) where {T<:(StaticArrays.StaticArray{Tuple{N}, T, 1} where T where N)} in module FixedSizeArraysWillBeRemoved at /home/rrgalvan/.julia/packages/StaticArrays/VyRz3/src/FixedSizeArrays.jl:84 overwritten in module FixedSizeArrays at /home/rrgalvan/.julia/packages/GeometryTypes/gpBFp/src/FixedSizeArrays.jl:173.\n",
      "  ** incremental compilation may be fatally broken for this module **\n",
      "\n",
      "WARNING: Method definition maximum(AbstractArray{T<:(StaticArrays.StaticArray{Tuple{N}, T, 1} where T where N), 1}) where {T<:(StaticArrays.StaticArray{Tuple{N}, T, 1} where T where N)} in module FixedSizeArraysWillBeRemoved at /home/rrgalvan/.julia/packages/StaticArrays/VyRz3/src/FixedSizeArrays.jl:87 overwritten in module FixedSizeArrays at /home/rrgalvan/.julia/packages/GeometryTypes/gpBFp/src/FixedSizeArrays.jl:176.\n",
      "  ** incremental compilation may be fatally broken for this module **\n",
      "\n",
      "WARNING: Method definition maximum(AbstractArray{T<:(StaticArrays.StaticArray{Tuple{N}, T, 1} where T where N), 1}) where {T<:(StaticArrays.StaticArray{Tuple{N}, T, 1} where T where N)} in module FixedSizeArraysWillBeRemoved at /home/rrgalvan/.julia/packages/StaticArrays/VyRz3/src/FixedSizeArrays.jl:87 overwritten in module FixedSizeArrays at /home/rrgalvan/.julia/packages/GeometryTypes/gpBFp/src/FixedSizeArrays.jl:176.\n",
      "  ** incremental compilation may be fatally broken for this module **\n",
      "\n",
      "WARNING: Method definition minimum(AbstractArray{T<:(StaticArrays.StaticArray{Tuple{N}, T, 1} where T where N), 1}) where {T<:(StaticArrays.StaticArray{Tuple{N}, T, 1} where T where N)} in module FixedSizeArraysWillBeRemoved at /home/rrgalvan/.julia/packages/StaticArrays/VyRz3/src/FixedSizeArrays.jl:84 overwritten in module FixedSizeArrays at /home/rrgalvan/.julia/packages/GeometryTypes/gpBFp/src/FixedSizeArrays.jl:173.\n",
      "  ** incremental compilation may be fatally broken for this module **\n",
      "\n",
      "WARNING: Method definition extrema(AbstractArray{T<:(StaticArrays.StaticArray{Tuple{N}, T, 1} where T where N), 1}) where {T<:(StaticArrays.StaticArray{Tuple{N}, T, 1} where T where N)} in module FixedSizeArraysWillBeRemoved at /home/rrgalvan/.julia/packages/StaticArrays/VyRz3/src/FixedSizeArrays.jl:80 overwritten in module FixedSizeArrays at /home/rrgalvan/.julia/packages/GeometryTypes/gpBFp/src/FixedSizeArrays.jl:169.\n",
      "  ** incremental compilation may be fatally broken for this module **\n",
      "\n",
      "WARNING: Method definition isnan(StaticArrays.StaticArray{S, T, N} where N where T where S<:Tuple) in module FixedSizeArraysWillBeRemoved at /home/rrgalvan/.julia/packages/StaticArrays/VyRz3/src/FixedSizeArrays.jl:63 overwritten in module FixedSizeArrays at /home/rrgalvan/.julia/packages/GeometryTypes/gpBFp/src/FixedSizeArrays.jl:154.\n",
      "  ** incremental compilation may be fatally broken for this module **\n",
      "\n"
     ]
    },
    {
     "data": {
      "image/svg+xml": [
       "<?xml version=\"1.0\" encoding=\"utf-8\"?>\n",
       "<svg xmlns=\"http://www.w3.org/2000/svg\" xmlns:xlink=\"http://www.w3.org/1999/xlink\" width=\"600\" height=\"400\" viewBox=\"0 0 2400 1600\">\n",
       "<defs>\n",
       "  <clipPath id=\"clip920\">\n",
       "    <rect x=\"0\" y=\"0\" width=\"2400\" height=\"1600\"/>\n",
       "  </clipPath>\n",
       "</defs>\n",
       "<path clip-path=\"url(#clip920)\" d=\"\n",
       "M0 1600 L2400 1600 L2400 0 L0 0  Z\n",
       "  \" fill=\"#ffffff\" fill-rule=\"evenodd\" fill-opacity=\"1\"/>\n",
       "<defs>\n",
       "  <clipPath id=\"clip921\">\n",
       "    <rect x=\"480\" y=\"0\" width=\"1681\" height=\"1600\"/>\n",
       "  </clipPath>\n",
       "</defs>\n",
       "<path clip-path=\"url(#clip920)\" d=\"\n",
       "M161.598 1486.45 L2352.76 1486.45 L2352.76 47.2441 L161.598 47.2441  Z\n",
       "  \" fill=\"#ffffff\" fill-rule=\"evenodd\" fill-opacity=\"1\"/>\n",
       "<defs>\n",
       "  <clipPath id=\"clip922\">\n",
       "    <rect x=\"161\" y=\"47\" width=\"2192\" height=\"1440\"/>\n",
       "  </clipPath>\n",
       "</defs>\n",
       "<polyline clip-path=\"url(#clip922)\" style=\"stroke:#000000; stroke-width:2; stroke-opacity:0.1; fill:none\" points=\"\n",
       "  223.612,1486.45 223.612,47.2441 \n",
       "  \"/>\n",
       "<polyline clip-path=\"url(#clip922)\" style=\"stroke:#000000; stroke-width:2; stroke-opacity:0.1; fill:none\" points=\"\n",
       "  637.038,1486.45 637.038,47.2441 \n",
       "  \"/>\n",
       "<polyline clip-path=\"url(#clip922)\" style=\"stroke:#000000; stroke-width:2; stroke-opacity:0.1; fill:none\" points=\"\n",
       "  1050.46,1486.45 1050.46,47.2441 \n",
       "  \"/>\n",
       "<polyline clip-path=\"url(#clip922)\" style=\"stroke:#000000; stroke-width:2; stroke-opacity:0.1; fill:none\" points=\"\n",
       "  1463.89,1486.45 1463.89,47.2441 \n",
       "  \"/>\n",
       "<polyline clip-path=\"url(#clip922)\" style=\"stroke:#000000; stroke-width:2; stroke-opacity:0.1; fill:none\" points=\"\n",
       "  1877.32,1486.45 1877.32,47.2441 \n",
       "  \"/>\n",
       "<polyline clip-path=\"url(#clip922)\" style=\"stroke:#000000; stroke-width:2; stroke-opacity:0.1; fill:none\" points=\"\n",
       "  2290.74,1486.45 2290.74,47.2441 \n",
       "  \"/>\n",
       "<polyline clip-path=\"url(#clip922)\" style=\"stroke:#000000; stroke-width:2; stroke-opacity:0.1; fill:none\" points=\"\n",
       "  161.598,1445.72 2352.76,1445.72 \n",
       "  \"/>\n",
       "<polyline clip-path=\"url(#clip922)\" style=\"stroke:#000000; stroke-width:2; stroke-opacity:0.1; fill:none\" points=\"\n",
       "  161.598,1110.84 2352.76,1110.84 \n",
       "  \"/>\n",
       "<polyline clip-path=\"url(#clip922)\" style=\"stroke:#000000; stroke-width:2; stroke-opacity:0.1; fill:none\" points=\"\n",
       "  161.598,775.968 2352.76,775.968 \n",
       "  \"/>\n",
       "<polyline clip-path=\"url(#clip922)\" style=\"stroke:#000000; stroke-width:2; stroke-opacity:0.1; fill:none\" points=\"\n",
       "  161.598,441.094 2352.76,441.094 \n",
       "  \"/>\n",
       "<polyline clip-path=\"url(#clip922)\" style=\"stroke:#000000; stroke-width:2; stroke-opacity:0.1; fill:none\" points=\"\n",
       "  161.598,106.221 2352.76,106.221 \n",
       "  \"/>\n",
       "<polyline clip-path=\"url(#clip920)\" style=\"stroke:#000000; stroke-width:4; stroke-opacity:1; fill:none\" points=\"\n",
       "  161.598,1486.45 2352.76,1486.45 \n",
       "  \"/>\n",
       "<polyline clip-path=\"url(#clip920)\" style=\"stroke:#000000; stroke-width:4; stroke-opacity:1; fill:none\" points=\"\n",
       "  161.598,1486.45 161.598,47.2441 \n",
       "  \"/>\n",
       "<polyline clip-path=\"url(#clip920)\" style=\"stroke:#000000; stroke-width:4; stroke-opacity:1; fill:none\" points=\"\n",
       "  223.612,1486.45 223.612,1469.18 \n",
       "  \"/>\n",
       "<polyline clip-path=\"url(#clip920)\" style=\"stroke:#000000; stroke-width:4; stroke-opacity:1; fill:none\" points=\"\n",
       "  637.038,1486.45 637.038,1469.18 \n",
       "  \"/>\n",
       "<polyline clip-path=\"url(#clip920)\" style=\"stroke:#000000; stroke-width:4; stroke-opacity:1; fill:none\" points=\"\n",
       "  1050.46,1486.45 1050.46,1469.18 \n",
       "  \"/>\n",
       "<polyline clip-path=\"url(#clip920)\" style=\"stroke:#000000; stroke-width:4; stroke-opacity:1; fill:none\" points=\"\n",
       "  1463.89,1486.45 1463.89,1469.18 \n",
       "  \"/>\n",
       "<polyline clip-path=\"url(#clip920)\" style=\"stroke:#000000; stroke-width:4; stroke-opacity:1; fill:none\" points=\"\n",
       "  1877.32,1486.45 1877.32,1469.18 \n",
       "  \"/>\n",
       "<polyline clip-path=\"url(#clip920)\" style=\"stroke:#000000; stroke-width:4; stroke-opacity:1; fill:none\" points=\"\n",
       "  2290.74,1486.45 2290.74,1469.18 \n",
       "  \"/>\n",
       "<polyline clip-path=\"url(#clip920)\" style=\"stroke:#000000; stroke-width:4; stroke-opacity:1; fill:none\" points=\"\n",
       "  161.598,1445.72 187.892,1445.72 \n",
       "  \"/>\n",
       "<polyline clip-path=\"url(#clip920)\" style=\"stroke:#000000; stroke-width:4; stroke-opacity:1; fill:none\" points=\"\n",
       "  161.598,1110.84 187.892,1110.84 \n",
       "  \"/>\n",
       "<polyline clip-path=\"url(#clip920)\" style=\"stroke:#000000; stroke-width:4; stroke-opacity:1; fill:none\" points=\"\n",
       "  161.598,775.968 187.892,775.968 \n",
       "  \"/>\n",
       "<polyline clip-path=\"url(#clip920)\" style=\"stroke:#000000; stroke-width:4; stroke-opacity:1; fill:none\" points=\"\n",
       "  161.598,441.094 187.892,441.094 \n",
       "  \"/>\n",
       "<polyline clip-path=\"url(#clip920)\" style=\"stroke:#000000; stroke-width:4; stroke-opacity:1; fill:none\" points=\"\n",
       "  161.598,106.221 187.892,106.221 \n",
       "  \"/>\n",
       "<path clip-path=\"url(#clip920)\" d=\"M 0 0 M223.612 1508.44 Q220.001 1508.44 218.172 1512 Q216.367 1515.55 216.367 1522.67 Q216.367 1529.78 218.172 1533.35 Q220.001 1536.89 223.612 1536.89 Q227.246 1536.89 229.052 1533.35 Q230.881 1529.78 230.881 1522.67 Q230.881 1515.55 229.052 1512 Q227.246 1508.44 223.612 1508.44 M223.612 1504.73 Q229.422 1504.73 232.478 1509.34 Q235.556 1513.92 235.556 1522.67 Q235.556 1531.4 232.478 1536.01 Q229.422 1540.59 223.612 1540.59 Q217.802 1540.59 214.723 1536.01 Q211.668 1531.4 211.668 1522.67 Q211.668 1513.92 214.723 1509.34 Q217.802 1504.73 223.612 1504.73 Z\" fill=\"#000000\" fill-rule=\"evenodd\" fill-opacity=\"1\" /><path clip-path=\"url(#clip920)\" d=\"M 0 0 M627.42 1535.98 L635.059 1535.98 L635.059 1509.62 L626.749 1511.29 L626.749 1507.03 L635.013 1505.36 L639.689 1505.36 L639.689 1535.98 L647.327 1535.98 L647.327 1539.92 L627.42 1539.92 L627.42 1535.98 Z\" fill=\"#000000\" fill-rule=\"evenodd\" fill-opacity=\"1\" /><path clip-path=\"url(#clip920)\" d=\"M 0 0 M1045.12 1535.98 L1061.44 1535.98 L1061.44 1539.92 L1039.49 1539.92 L1039.49 1535.98 Q1042.15 1533.23 1046.74 1528.6 Q1051.34 1523.95 1052.52 1522.61 Q1054.77 1520.08 1055.65 1518.35 Q1056.55 1516.59 1056.55 1514.9 Q1056.55 1512.14 1054.61 1510.41 Q1052.69 1508.67 1049.58 1508.67 Q1047.39 1508.67 1044.93 1509.43 Q1042.5 1510.2 1039.72 1511.75 L1039.72 1507.03 Q1042.55 1505.89 1045 1505.31 Q1047.45 1504.73 1049.49 1504.73 Q1054.86 1504.73 1058.06 1507.42 Q1061.25 1510.11 1061.25 1514.6 Q1061.25 1516.73 1060.44 1518.65 Q1059.65 1520.54 1057.55 1523.14 Q1056.97 1523.81 1053.87 1527.03 Q1050.76 1530.22 1045.12 1535.98 Z\" fill=\"#000000\" fill-rule=\"evenodd\" fill-opacity=\"1\" /><path clip-path=\"url(#clip920)\" d=\"M 0 0 M1468.14 1521.29 Q1471.49 1522 1473.37 1524.27 Q1475.27 1526.54 1475.27 1529.87 Q1475.27 1534.99 1471.75 1537.79 Q1468.23 1540.59 1461.75 1540.59 Q1459.57 1540.59 1457.26 1540.15 Q1454.97 1539.73 1452.51 1538.88 L1452.51 1534.36 Q1454.46 1535.5 1456.77 1536.08 Q1459.09 1536.66 1461.61 1536.66 Q1466.01 1536.66 1468.3 1534.92 Q1470.61 1533.18 1470.61 1529.87 Q1470.61 1526.82 1468.46 1525.11 Q1466.33 1523.37 1462.51 1523.37 L1458.48 1523.37 L1458.48 1519.53 L1462.7 1519.53 Q1466.15 1519.53 1467.98 1518.16 Q1469.8 1516.77 1469.8 1514.18 Q1469.8 1511.52 1467.91 1510.11 Q1466.03 1508.67 1462.51 1508.67 Q1460.59 1508.67 1458.39 1509.09 Q1456.19 1509.5 1453.55 1510.38 L1453.55 1506.22 Q1456.22 1505.48 1458.53 1505.11 Q1460.87 1504.73 1462.93 1504.73 Q1468.25 1504.73 1471.36 1507.17 Q1474.46 1509.57 1474.46 1513.69 Q1474.46 1516.56 1472.81 1518.55 Q1471.17 1520.52 1468.14 1521.29 Z\" fill=\"#000000\" fill-rule=\"evenodd\" fill-opacity=\"1\" /><path clip-path=\"url(#clip920)\" d=\"M 0 0 M1880.33 1509.43 L1868.52 1527.88 L1880.33 1527.88 L1880.33 1509.43 M1879.1 1505.36 L1884.98 1505.36 L1884.98 1527.88 L1889.91 1527.88 L1889.91 1531.77 L1884.98 1531.77 L1884.98 1539.92 L1880.33 1539.92 L1880.33 1531.77 L1864.72 1531.77 L1864.72 1527.26 L1879.1 1505.36 Z\" fill=\"#000000\" fill-rule=\"evenodd\" fill-opacity=\"1\" /><path clip-path=\"url(#clip920)\" d=\"M 0 0 M2281.02 1505.36 L2299.38 1505.36 L2299.38 1509.3 L2285.3 1509.3 L2285.3 1517.77 Q2286.32 1517.42 2287.34 1517.26 Q2288.36 1517.07 2289.38 1517.07 Q2295.16 1517.07 2298.54 1520.24 Q2301.92 1523.42 2301.92 1528.83 Q2301.92 1534.41 2298.45 1537.51 Q2294.98 1540.59 2288.66 1540.59 Q2286.48 1540.59 2284.21 1540.22 Q2281.97 1539.85 2279.56 1539.11 L2279.56 1534.41 Q2281.64 1535.54 2283.87 1536.1 Q2286.09 1536.66 2288.57 1536.66 Q2292.57 1536.66 2294.91 1534.55 Q2297.25 1532.44 2297.25 1528.83 Q2297.25 1525.22 2294.91 1523.11 Q2292.57 1521.01 2288.57 1521.01 Q2286.69 1521.01 2284.82 1521.42 Q2282.96 1521.84 2281.02 1522.72 L2281.02 1505.36 Z\" fill=\"#000000\" fill-rule=\"evenodd\" fill-opacity=\"1\" /><path clip-path=\"url(#clip920)\" d=\"M 0 0 M125.654 1431.51 Q122.043 1431.51 120.214 1435.08 Q118.408 1438.62 118.408 1445.75 Q118.408 1452.86 120.214 1456.42 Q122.043 1459.96 125.654 1459.96 Q129.288 1459.96 131.094 1456.42 Q132.922 1452.86 132.922 1445.75 Q132.922 1438.62 131.094 1435.08 Q129.288 1431.51 125.654 1431.51 M125.654 1427.81 Q131.464 1427.81 134.52 1432.42 Q137.598 1437 137.598 1445.75 Q137.598 1454.48 134.52 1459.08 Q131.464 1463.67 125.654 1463.67 Q119.844 1463.67 116.765 1459.08 Q113.709 1454.48 113.709 1445.75 Q113.709 1437 116.765 1432.42 Q119.844 1427.81 125.654 1427.81 Z\" fill=\"#000000\" fill-rule=\"evenodd\" fill-opacity=\"1\" /><path clip-path=\"url(#clip920)\" d=\"M 0 0 M95.2605 1124.19 L111.58 1124.19 L111.58 1128.12 L89.6355 1128.12 L89.6355 1124.19 Q92.2975 1121.43 96.8808 1116.8 Q101.487 1112.15 102.668 1110.81 Q104.913 1108.28 105.793 1106.55 Q106.696 1104.79 106.696 1103.1 Q106.696 1100.34 104.751 1098.61 Q102.83 1096.87 99.728 1096.87 Q97.529 1096.87 95.0753 1097.64 Q92.6447 1098.4 89.867 1099.95 L89.867 1095.23 Q92.691 1094.09 95.1447 1093.52 Q97.5984 1092.94 99.6354 1092.94 Q105.006 1092.94 108.2 1095.62 Q111.395 1098.31 111.395 1102.8 Q111.395 1104.93 110.584 1106.85 Q109.797 1108.75 107.691 1111.34 Q107.112 1112.01 104.01 1115.23 Q100.909 1118.42 95.2605 1124.19 Z\" fill=\"#000000\" fill-rule=\"evenodd\" fill-opacity=\"1\" /><path clip-path=\"url(#clip920)\" d=\"M 0 0 M116.696 1093.56 L135.052 1093.56 L135.052 1097.5 L120.978 1097.5 L120.978 1105.97 Q121.996 1105.62 123.015 1105.46 Q124.033 1105.27 125.052 1105.27 Q130.839 1105.27 134.219 1108.45 Q137.598 1111.62 137.598 1117.03 Q137.598 1122.61 134.126 1125.71 Q130.654 1128.79 124.334 1128.79 Q122.158 1128.79 119.89 1128.42 Q117.645 1128.05 115.237 1127.31 L115.237 1122.61 Q117.321 1123.75 119.543 1124.3 Q121.765 1124.86 124.242 1124.86 Q128.246 1124.86 130.584 1122.75 Q132.922 1120.65 132.922 1117.03 Q132.922 1113.42 130.584 1111.32 Q128.246 1109.21 124.242 1109.21 Q122.367 1109.21 120.492 1109.63 Q118.64 1110.04 116.696 1110.92 L116.696 1093.56 Z\" fill=\"#000000\" fill-rule=\"evenodd\" fill-opacity=\"1\" /><path clip-path=\"url(#clip920)\" d=\"M 0 0 M89.6818 758.688 L108.038 758.688 L108.038 762.623 L93.9642 762.623 L93.9642 771.096 Q94.9827 770.748 96.0012 770.586 Q97.0197 770.401 98.0382 770.401 Q103.825 770.401 107.205 773.572 Q110.584 776.744 110.584 782.16 Q110.584 787.739 107.112 790.841 Q103.64 793.919 97.3206 793.919 Q95.1447 793.919 92.8762 793.549 Q90.6309 793.179 88.2235 792.438 L88.2235 787.739 Q90.3068 788.873 92.529 789.429 Q94.7512 789.984 97.2281 789.984 Q101.233 789.984 103.571 787.878 Q105.909 785.771 105.909 782.16 Q105.909 778.549 103.571 776.443 Q101.233 774.336 97.2281 774.336 Q95.3531 774.336 93.4781 774.753 Q91.6262 775.17 89.6818 776.049 L89.6818 758.688 Z\" fill=\"#000000\" fill-rule=\"evenodd\" fill-opacity=\"1\" /><path clip-path=\"url(#clip920)\" d=\"M 0 0 M125.654 761.767 Q122.043 761.767 120.214 765.332 Q118.408 768.873 118.408 776.003 Q118.408 783.109 120.214 786.674 Q122.043 790.216 125.654 790.216 Q129.288 790.216 131.094 786.674 Q132.922 783.109 132.922 776.003 Q132.922 768.873 131.094 765.332 Q129.288 761.767 125.654 761.767 M125.654 758.063 Q131.464 758.063 134.52 762.67 Q137.598 767.253 137.598 776.003 Q137.598 784.73 134.52 789.336 Q131.464 793.919 125.654 793.919 Q119.844 793.919 116.765 789.336 Q113.709 784.73 113.709 776.003 Q113.709 767.253 116.765 762.67 Q119.844 758.063 125.654 758.063 Z\" fill=\"#000000\" fill-rule=\"evenodd\" fill-opacity=\"1\" /><path clip-path=\"url(#clip920)\" d=\"M 0 0 M89.3577 423.814 L111.58 423.814 L111.58 425.805 L99.0336 458.374 L94.1494 458.374 L105.955 427.75 L89.3577 427.75 L89.3577 423.814 Z\" fill=\"#000000\" fill-rule=\"evenodd\" fill-opacity=\"1\" /><path clip-path=\"url(#clip920)\" d=\"M 0 0 M116.696 423.814 L135.052 423.814 L135.052 427.75 L120.978 427.75 L120.978 436.222 Q121.996 435.875 123.015 435.713 Q124.033 435.527 125.052 435.527 Q130.839 435.527 134.219 438.699 Q137.598 441.87 137.598 447.287 Q137.598 452.865 134.126 455.967 Q130.654 459.046 124.334 459.046 Q122.158 459.046 119.89 458.675 Q117.645 458.305 115.237 457.564 L115.237 452.865 Q117.321 453.999 119.543 454.555 Q121.765 455.111 124.242 455.111 Q128.246 455.111 130.584 453.004 Q132.922 450.898 132.922 447.287 Q132.922 443.675 130.584 441.569 Q128.246 439.462 124.242 439.462 Q122.367 439.462 120.492 439.879 Q118.64 440.296 116.696 441.175 L116.696 423.814 Z\" fill=\"#000000\" fill-rule=\"evenodd\" fill-opacity=\"1\" /><path clip-path=\"url(#clip920)\" d=\"M 0 0 M63.6634 119.566 L71.3023 119.566 L71.3023 93.1999 L62.9921 94.8666 L62.9921 90.6073 L71.256 88.9407 L75.9319 88.9407 L75.9319 119.566 L83.5707 119.566 L83.5707 123.501 L63.6634 123.501 L63.6634 119.566 Z\" fill=\"#000000\" fill-rule=\"evenodd\" fill-opacity=\"1\" /><path clip-path=\"url(#clip920)\" d=\"M 0 0 M98.6401 92.0194 Q95.029 92.0194 93.2003 95.5842 Q91.3948 99.1258 91.3948 106.255 Q91.3948 113.362 93.2003 116.927 Q95.029 120.468 98.6401 120.468 Q102.274 120.468 104.08 116.927 Q105.909 113.362 105.909 106.255 Q105.909 99.1258 104.08 95.5842 Q102.274 92.0194 98.6401 92.0194 M98.6401 88.3157 Q104.45 88.3157 107.506 92.9221 Q110.584 97.5054 110.584 106.255 Q110.584 114.982 107.506 119.589 Q104.45 124.172 98.6401 124.172 Q92.8299 124.172 89.7512 119.589 Q86.6957 114.982 86.6957 106.255 Q86.6957 97.5054 89.7512 92.9221 Q92.8299 88.3157 98.6401 88.3157 Z\" fill=\"#000000\" fill-rule=\"evenodd\" fill-opacity=\"1\" /><path clip-path=\"url(#clip920)\" d=\"M 0 0 M125.654 92.0194 Q122.043 92.0194 120.214 95.5842 Q118.408 99.1258 118.408 106.255 Q118.408 113.362 120.214 116.927 Q122.043 120.468 125.654 120.468 Q129.288 120.468 131.094 116.927 Q132.922 113.362 132.922 106.255 Q132.922 99.1258 131.094 95.5842 Q129.288 92.0194 125.654 92.0194 M125.654 88.3157 Q131.464 88.3157 134.52 92.9221 Q137.598 97.5054 137.598 106.255 Q137.598 114.982 134.52 119.589 Q131.464 124.172 125.654 124.172 Q119.844 124.172 116.765 119.589 Q113.709 114.982 113.709 106.255 Q113.709 97.5054 116.765 92.9221 Q119.844 88.3157 125.654 88.3157 Z\" fill=\"#000000\" fill-rule=\"evenodd\" fill-opacity=\"1\" /><polyline clip-path=\"url(#clip922)\" style=\"stroke:#009af9; stroke-width:4; stroke-opacity:1; fill:none\" points=\"\n",
       "  223.612,106.221 244.283,131.382 264.955,169.694 285.626,226.427 306.297,307.068 326.969,415.284 347.64,549.863 368.311,702.348 388.982,858.112 409.654,1001.53 \n",
       "  430.325,1121.82 450.996,1215.39 471.668,1284.29 492.339,1333.22 513.01,1367.24 533.682,1390.68 554.353,1406.78 575.024,1417.89 595.695,1425.6 616.367,1431 \n",
       "  637.038,1434.82 657.709,1437.55 678.381,1439.52 699.052,1440.97 719.723,1442.03 740.395,1442.83 761.066,1443.43 781.737,1443.88 802.408,1444.23 823.08,1444.51 \n",
       "  843.751,1444.72 864.422,1444.89 885.094,1445.02 905.765,1445.13 926.436,1445.22 947.108,1445.29 967.779,1445.35 988.45,1445.4 1009.12,1445.44 1029.79,1445.47 \n",
       "  1050.46,1445.5 1071.14,1445.53 1091.81,1445.55 1112.48,1445.56 1133.15,1445.58 1153.82,1445.59 1174.49,1445.6 1195.16,1445.61 1215.83,1445.62 1236.51,1445.63 \n",
       "  1257.18,1445.64 1277.85,1445.64 1298.52,1445.65 1319.19,1445.65 1339.86,1445.66 1360.53,1445.66 1381.2,1445.66 1401.88,1445.67 1422.55,1445.67 1443.22,1445.67 \n",
       "  1463.89,1445.67 1484.56,1445.67 1505.23,1445.68 1525.9,1445.68 1546.58,1445.68 1567.25,1445.68 1587.92,1445.68 1608.59,1445.68 1629.26,1445.68 1649.93,1445.69 \n",
       "  1670.6,1445.69 1691.27,1445.69 1711.95,1445.69 1732.62,1445.69 1753.29,1445.69 1773.96,1445.69 1794.63,1445.69 1815.3,1445.69 1835.97,1445.69 1856.64,1445.69 \n",
       "  1877.32,1445.69 1897.99,1445.69 1918.66,1445.69 1939.33,1445.69 1960,1445.69 1980.67,1445.7 2001.34,1445.7 2022.02,1445.7 2042.69,1445.7 2063.36,1445.7 \n",
       "  2084.03,1445.7 2104.7,1445.7 2125.37,1445.7 2146.04,1445.7 2166.71,1445.7 2187.39,1445.7 2208.06,1445.7 2228.73,1445.7 2249.4,1445.7 2270.07,1445.7 \n",
       "  2290.74,1445.7 \n",
       "  \"/>\n",
       "<polyline clip-path=\"url(#clip922)\" style=\"stroke:#e26f46; stroke-width:4; stroke-opacity:1; fill:none\" points=\"\n",
       "  223.612,1405.53 244.283,1382.66 264.955,1347.91 285.626,1296.66 306.297,1224.27 326.969,1128.09 347.64,1010.38 368.311,880.39 388.982,752.972 409.654,643.284 \n",
       "  430.325,561.065 450.996,508.591 471.668,482.539 492.339,477.141 513.01,486.534 533.682,505.859 554.353,531.487 575.024,560.87 595.695,592.277 616.367,624.558 \n",
       "  637.038,656.961 657.709,689.003 678.381,720.373 699.052,750.882 719.723,780.417 740.395,808.915 761.066,836.351 781.737,862.718 802.408,888.028 823.08,912.301 \n",
       "  843.751,935.564 864.422,957.847 885.094,979.183 905.765,999.606 926.436,1019.15 947.108,1037.85 967.779,1055.74 988.45,1072.85 1009.12,1089.22 1029.79,1104.88 \n",
       "  1050.46,1119.85 1071.14,1134.16 1091.81,1147.85 1112.48,1160.94 1133.15,1173.46 1153.82,1185.42 1174.49,1196.87 1195.16,1207.81 1215.83,1218.27 1236.51,1228.27 \n",
       "  1257.18,1237.83 1277.85,1246.97 1298.52,1255.71 1319.19,1264.07 1339.86,1272.06 1360.53,1279.7 1381.2,1287 1401.88,1293.98 1422.55,1300.65 1443.22,1307.03 \n",
       "  1463.89,1313.13 1484.56,1318.97 1505.23,1324.54 1525.9,1329.87 1546.58,1334.97 1567.25,1339.84 1587.92,1344.5 1608.59,1348.95 1629.26,1353.21 1649.93,1357.28 \n",
       "  1670.6,1361.17 1691.27,1364.89 1711.95,1368.44 1732.62,1371.84 1753.29,1375.09 1773.96,1378.2 1794.63,1381.17 1815.3,1384.01 1835.97,1386.72 1856.64,1389.32 \n",
       "  1877.32,1391.8 1897.99,1394.17 1918.66,1396.44 1939.33,1398.61 1960,1400.68 1980.67,1402.66 2001.34,1404.56 2022.02,1406.37 2042.69,1408.1 2063.36,1409.75 \n",
       "  2084.03,1411.34 2104.7,1412.85 2125.37,1414.29 2146.04,1415.68 2166.71,1417 2187.39,1418.26 2208.06,1419.47 2228.73,1420.62 2249.4,1421.73 2270.07,1422.78 \n",
       "  2290.74,1423.79 \n",
       "  \"/>\n",
       "<polyline clip-path=\"url(#clip922)\" style=\"stroke:#3da44d; stroke-width:4; stroke-opacity:1; fill:none\" points=\"\n",
       "  223.612,1445.72 244.283,1443.43 264.955,1439.86 285.626,1434.38 306.297,1426.13 326.969,1414.09 347.64,1397.22 368.311,1374.73 388.982,1346.38 409.654,1312.65 \n",
       "  430.325,1274.58 450.996,1233.49 471.668,1190.64 492.339,1147.11 513.01,1103.69 533.682,1060.93 554.353,1019.2 575.024,978.706 595.695,939.589 616.367,901.908 \n",
       "  637.038,865.686 657.709,830.914 678.381,797.57 699.052,765.62 719.723,735.02 740.395,705.727 761.066,677.692 781.737,650.867 802.408,625.205 823.08,600.659 \n",
       "  843.751,577.182 864.422,554.73 885.094,533.259 905.765,512.728 926.436,493.096 947.108,474.324 967.779,456.376 988.45,439.214 1009.12,422.807 1029.79,407.119 \n",
       "  1050.46,392.12 1071.14,377.78 1091.81,364.071 1112.48,350.963 1133.15,338.432 1153.82,326.452 1174.49,314.998 1195.16,304.047 1215.83,293.578 1236.51,283.57 \n",
       "  1257.18,274.001 1277.85,264.854 1298.52,256.108 1319.19,247.748 1339.86,239.754 1360.53,232.113 1381.2,224.807 1401.88,217.823 1422.55,211.146 1443.22,204.763 \n",
       "  1463.89,198.661 1484.56,192.827 1505.23,187.249 1525.9,181.917 1546.58,176.82 1567.25,171.946 1587.92,167.287 1608.59,162.833 1629.26,158.575 1649.93,154.505 \n",
       "  1670.6,150.613 1691.27,146.893 1711.95,143.336 1732.62,139.936 1753.29,136.685 1773.96,133.577 1794.63,130.606 1815.3,127.766 1835.97,125.051 1856.64,122.455 \n",
       "  1877.32,119.974 1897.99,117.601 1918.66,115.333 1939.33,113.165 1960,111.092 1980.67,109.11 2001.34,107.216 2022.02,105.404 2042.69,103.673 2063.36,102.018 \n",
       "  2084.03,100.435 2104.7,98.9224 2125.37,97.4761 2146.04,96.0935 2166.71,94.7717 2187.39,93.508 2208.06,92.2999 2228.73,91.145 2249.4,90.0409 2270.07,88.9854 \n",
       "  2290.74,87.9763 \n",
       "  \"/>\n",
       "<path clip-path=\"url(#clip920)\" d=\"\n",
       "M1989.16 372.684 L2280.76 372.684 L2280.76 130.764 L1989.16 130.764  Z\n",
       "  \" fill=\"#ffffff\" fill-rule=\"evenodd\" fill-opacity=\"1\"/>\n",
       "<polyline clip-path=\"url(#clip920)\" style=\"stroke:#000000; stroke-width:4; stroke-opacity:1; fill:none\" points=\"\n",
       "  1989.16,372.684 2280.76,372.684 2280.76,130.764 1989.16,130.764 1989.16,372.684 \n",
       "  \"/>\n",
       "<polyline clip-path=\"url(#clip920)\" style=\"stroke:#009af9; stroke-width:4; stroke-opacity:1; fill:none\" points=\"\n",
       "  2013.16,191.244 2157.16,191.244 \n",
       "  \"/>\n",
       "<path clip-path=\"url(#clip920)\" d=\"M 0 0 M2195 210.931 Q2193.2 215.561 2191.48 216.973 Q2189.77 218.385 2186.9 218.385 L2183.5 218.385 L2183.5 214.82 L2186 214.82 Q2187.76 214.82 2188.73 213.987 Q2189.7 213.154 2190.88 210.052 L2191.65 208.107 L2181.16 182.598 L2185.67 182.598 L2193.77 202.876 L2201.88 182.598 L2206.39 182.598 L2195 210.931 Z\" fill=\"#000000\" fill-rule=\"evenodd\" fill-opacity=\"1\" /><path clip-path=\"url(#clip920)\" d=\"M 0 0 M2212.27 204.589 L2219.91 204.589 L2219.91 178.223 L2211.6 179.89 L2211.6 175.631 L2219.86 173.964 L2224.54 173.964 L2224.54 204.589 L2232.18 204.589 L2232.18 208.524 L2212.27 208.524 L2212.27 204.589 Z\" fill=\"#000000\" fill-rule=\"evenodd\" fill-opacity=\"1\" /><polyline clip-path=\"url(#clip920)\" style=\"stroke:#e26f46; stroke-width:4; stroke-opacity:1; fill:none\" points=\"\n",
       "  2013.16,251.724 2157.16,251.724 \n",
       "  \"/>\n",
       "<path clip-path=\"url(#clip920)\" d=\"M 0 0 M2195 271.411 Q2193.2 276.041 2191.48 277.453 Q2189.77 278.865 2186.9 278.865 L2183.5 278.865 L2183.5 275.3 L2186 275.3 Q2187.76 275.3 2188.73 274.467 Q2189.7 273.634 2190.88 270.532 L2191.65 268.587 L2181.16 243.078 L2185.67 243.078 L2193.77 263.356 L2201.88 243.078 L2206.39 243.078 L2195 271.411 Z\" fill=\"#000000\" fill-rule=\"evenodd\" fill-opacity=\"1\" /><path clip-path=\"url(#clip920)\" d=\"M 0 0 M2215.49 265.069 L2231.81 265.069 L2231.81 269.004 L2209.86 269.004 L2209.86 265.069 Q2212.52 262.314 2217.11 257.685 Q2221.71 253.032 2222.89 251.689 Q2225.14 249.166 2226.02 247.43 Q2226.92 245.671 2226.92 243.981 Q2226.92 241.226 2224.98 239.49 Q2223.06 237.754 2219.96 237.754 Q2217.76 237.754 2215.3 238.518 Q2212.87 239.282 2210.09 240.833 L2210.09 236.111 Q2212.92 234.976 2215.37 234.398 Q2217.83 233.819 2219.86 233.819 Q2225.23 233.819 2228.43 236.504 Q2231.62 239.189 2231.62 243.68 Q2231.62 245.81 2230.81 247.731 Q2230.02 249.629 2227.92 252.222 Q2227.34 252.893 2224.24 256.111 Q2221.14 259.305 2215.49 265.069 Z\" fill=\"#000000\" fill-rule=\"evenodd\" fill-opacity=\"1\" /><polyline clip-path=\"url(#clip920)\" style=\"stroke:#3da44d; stroke-width:4; stroke-opacity:1; fill:none\" points=\"\n",
       "  2013.16,312.204 2157.16,312.204 \n",
       "  \"/>\n",
       "<path clip-path=\"url(#clip920)\" d=\"M 0 0 M2195 331.891 Q2193.2 336.521 2191.48 337.933 Q2189.77 339.345 2186.9 339.345 L2183.5 339.345 L2183.5 335.78 L2186 335.78 Q2187.76 335.78 2188.73 334.947 Q2189.7 334.114 2190.88 331.012 L2191.65 329.067 L2181.16 303.558 L2185.67 303.558 L2193.77 323.836 L2201.88 303.558 L2206.39 303.558 L2195 331.891 Z\" fill=\"#000000\" fill-rule=\"evenodd\" fill-opacity=\"1\" /><path clip-path=\"url(#clip920)\" d=\"M 0 0 M2225.63 310.85 Q2228.98 311.568 2230.86 313.836 Q2232.76 316.105 2232.76 319.438 Q2232.76 324.554 2229.24 327.354 Q2225.72 330.155 2219.24 330.155 Q2217.06 330.155 2214.75 329.716 Q2212.46 329.299 2210 328.442 L2210 323.929 Q2211.95 325.063 2214.26 325.642 Q2216.58 326.22 2219.1 326.22 Q2223.5 326.22 2225.79 324.484 Q2228.1 322.748 2228.1 319.438 Q2228.1 316.382 2225.95 314.669 Q2223.82 312.933 2220 312.933 L2215.97 312.933 L2215.97 309.091 L2220.19 309.091 Q2223.64 309.091 2225.46 307.725 Q2227.29 306.336 2227.29 303.743 Q2227.29 301.081 2225.39 299.669 Q2223.52 298.234 2220 298.234 Q2218.08 298.234 2215.88 298.651 Q2213.68 299.068 2211.04 299.947 L2211.04 295.781 Q2213.71 295.04 2216.02 294.669 Q2218.36 294.299 2220.42 294.299 Q2225.74 294.299 2228.84 296.73 Q2231.95 299.137 2231.95 303.257 Q2231.95 306.128 2230.3 308.118 Q2228.66 310.086 2225.63 310.85 Z\" fill=\"#000000\" fill-rule=\"evenodd\" fill-opacity=\"1\" /></svg>\n"
      ]
     },
     "execution_count": 9,
     "metadata": {},
     "output_type": "execute_result"
    }
   ],
   "source": [
    "#import Pkg; Pkg.add(\"Plots\")\n",
    "\n",
    "using Plots\n",
    "\n",
    "y = U[:,end,:]; # Susceptibles\n",
    "x = T\n",
    "plot(x, y)"
   ]
  },
  {
   "cell_type": "code",
   "execution_count": 13,
   "metadata": {},
   "outputs": [
    {
     "data": {
      "text/plain": [
       "(101, 6, 3)"
      ]
     },
     "execution_count": 13,
     "metadata": {},
     "output_type": "execute_result"
    }
   ],
   "source": [
    "size(U)"
   ]
  },
  {
   "cell_type": "code",
   "execution_count": 18,
   "metadata": {},
   "outputs": [
    {
     "ename": "UndefVarError",
     "evalue": "UndefVarError: help not defined",
     "output_type": "error",
     "traceback": [
      "UndefVarError: help not defined",
      "",
      "Stacktrace:",
      " [1] top-level scope at In[18]:2"
     ]
    }
   ],
   "source": [
    "U1 = zeros(size(U))\n",
    "copy"
   ]
  },
  {
   "cell_type": "code",
   "execution_count": 14,
   "metadata": {},
   "outputs": [],
   "source": [
    "; export HELLOWORLD=3"
   ]
  },
  {
   "cell_type": "code",
   "execution_count": 20,
   "metadata": {},
   "outputs": [
    {
     "ename": "UndefVarError",
     "evalue": "UndefVarError: SHELL not defined",
     "output_type": "error",
     "traceback": [
      "UndefVarError: SHELL not defined",
      "",
      "Stacktrace:",
      " [1] top-level scope at In[20]:1"
     ]
    }
   ],
   "source": [
    "; echo $SHELL"
   ]
  },
  {
   "cell_type": "code",
   "execution_count": null,
   "metadata": {},
   "outputs": [],
   "source": []
  }
 ],
 "metadata": {
  "kernelspec": {
   "display_name": "Julia 1.3.0",
   "language": "julia",
   "name": "julia-1.3"
  },
  "language_info": {
   "file_extension": ".jl",
   "mimetype": "application/julia",
   "name": "julia",
   "version": "1.3.0"
  }
 },
 "nbformat": 4,
 "nbformat_minor": 2
}
