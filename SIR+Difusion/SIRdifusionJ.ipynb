{
 "cells": [
  {
   "cell_type": "code",
   "execution_count": 1,
   "metadata": {},
   "outputs": [
    {
     "data": {
      "text/plain": [
       "1"
      ]
     },
     "execution_count": 1,
     "metadata": {},
     "output_type": "execute_result"
    }
   ],
   "source": [
    "Threads.nthreads()"
   ]
  },
  {
   "cell_type": "code",
   "execution_count": 2,
   "metadata": {},
   "outputs": [],
   "source": [
    "using Gridap\n",
    "import Gridap: ∇\n",
    "using LinearAlgebra"
   ]
  },
  {
   "cell_type": "code",
   "execution_count": 3,
   "metadata": {},
   "outputs": [
    {
     "data": {
      "text/plain": [
       "CellQuadrature()"
      ]
     },
     "execution_count": 3,
     "metadata": {},
     "output_type": "execute_result"
    }
   ],
   "source": [
    "#Mallado\n",
    "const global domain = (0,1,0,1)\n",
    "const global partition = (20,20)\n",
    "model = CartesianDiscreteModel(domain,partition)\n",
    "model = simplexify(model)\n",
    "const global trian = Triangulation(model)\n",
    "const global degree = 1\n",
    "const global quad = CellQuadrature(trian,degree)"
   ]
  },
  {
   "cell_type": "code",
   "execution_count": 4,
   "metadata": {},
   "outputs": [],
   "source": [
    "#Parámetros\n",
    "const global beta = 0.95\n",
    "const global nu = 0.99\n",
    "const global alpha = 0.02\n",
    "\n",
    "const global t_init = 0.\n",
    "const global t_end = 2.\n",
    "\n",
    "const global N_intervalos = 16;\n",
    "\n",
    "const global n_iter = 5;\n",
    "const global T = LinRange(t_init, t_end, N_intervalos+1);"
   ]
  },
  {
   "cell_type": "code",
   "execution_count": 5,
   "metadata": {},
   "outputs": [
    {
     "data": {
      "text/plain": [
       "TrialFESpace()"
      ]
     },
     "execution_count": 5,
     "metadata": {},
     "output_type": "execute_result"
    }
   ],
   "source": [
    "#Espacio de funciones\n",
    "\n",
    "const global V = TestFESpace(\n",
    "  reffe=:Lagrangian, conformity=:H1, valuetype=Float64,\n",
    "  model=model, order=1)\n",
    "  \n",
    "  \n",
    "const global W = TrialFESpace(V)"
   ]
  },
  {
   "cell_type": "code",
   "execution_count": 7,
   "metadata": {},
   "outputs": [
    {
     "data": {
      "text/plain": [
       "project (generic function with 1 method)"
      ]
     },
     "execution_count": 7,
     "metadata": {},
     "output_type": "execute_result"
    }
   ],
   "source": [
    "function project(q,trian,quad,order)\n",
    "\n",
    "  print(\"#0\")\n",
    "    \n",
    "  a(u,v) = u*v\n",
    "  l(v) = v*q\n",
    "  t_Ω = AffineFETerm(a,l,trian,quad)\n",
    "  \n",
    "    \n",
    "  V = TestFESpace(\n",
    "    reffe=:Lagrangian, valuetype=Float64, order=order,\n",
    "    triangulation=trian, conformity=:L2)\n",
    "\n",
    "  print(\"#1\")\n",
    "  U = TrialFESpace(V)\n",
    "  print(\"#2\")\n",
    "  op = AffineFEOperator(U,V,t_Ω)\n",
    "  print(\"#3\")\n",
    "  qh = solve(op)\n",
    "  print(\"#4\")\n",
    "  qh\n",
    "end"
   ]
  },
  {
   "cell_type": "code",
   "execution_count": 7,
   "metadata": {},
   "outputs": [],
   "source": [
    "#writevtk(trian,\"/tmp/mesh\")\n"
   ]
  },
  {
   "cell_type": "code",
   "execution_count": 8,
   "metadata": {},
   "outputs": [
    {
     "data": {
      "text/plain": [
       "CellQuadrature()"
      ]
     },
     "execution_count": 8,
     "metadata": {},
     "output_type": "execute_result"
    }
   ],
   "source": [
    "#La formula de cuadratura para la forma bilineal int(u*v), cambia el orden por ser producto de dos polinomios (cada uno de orden \"degree\")\n",
    "const global quadL2 = CellQuadrature(trian,2*degree)"
   ]
  },
  {
   "cell_type": "code",
   "execution_count": null,
   "metadata": {},
   "outputs": [],
   "source": [
    "x0, y0 = 0.5, 0.5 \n",
    "\n",
    "S0(x) = 10 -  4*exp(-200*((x[1]-x0)^2 + (x[2]-y0)^2))\n",
    "I0(x) = 4*exp(-200*((x[1]-x0)^2 + (x[2]-y0)^2))\n",
    "R0(x) = 0\n",
    "\n",
    "S0_sol = project(S0, trian, quadL2, 1)\n",
    "#I0_sol = project(I0, trian, quadL2, 1)\n",
    "#R0_sol = project(R0, trian, quadL2, 1)\n",
    "\n",
    "#const global U0 = [S0_sol, I0_sol, R0_sol]"
   ]
  },
  {
   "cell_type": "code",
   "execution_count": null,
   "metadata": {},
   "outputs": [],
   "source": [
    "function EulerMEF(t_init,t_end,n_t,u0)\n",
    "    S0, I0, R0 = u0\n",
    "    dt = (t_end - t_init)/n_t\n",
    "    t = t_init\n",
    "    \n",
    "    a_s(S,v) = (1 + dt*beta*I0)*S*v + dt*alpha*∇(v)*∇(S) \n",
    "    b_s(v) = v*S0\n",
    "    \n",
    "    a_i(I,v) = (1 - dt*beta*S0 + dt*nu)*I*v + dt * alpha*∇(v)*∇(I) \n",
    "    b_i(v) = v*I0\n",
    "    \n",
    "    a_r(R,v) = R*v + dt * alpha*∇(v)*∇(R)\n",
    "    b_r(v) = v*(R0 + dt* nu*I0)\n",
    "\n",
    "    \n",
    "    for i=1:n_t\n",
    "        t += dt\n",
    "        \n",
    "        t_Ω = AffineFETerm(a_s,b_s,trian,quad)\n",
    "        op = AffineFEOperator(W,V,t_Ω)\n",
    "        S_sol = solve(op)\n",
    "        \n",
    "        \n",
    "        t_Ω = AffineFETerm(a_i,b_i,trian,quad)\n",
    "        op = AffineFEOperator(W,V,t_Ω)\n",
    "        I_sol = solve(op)\n",
    "        \n",
    "        \n",
    "        t_Ω = AffineFETerm(a_r,b_r,trian,quad)\n",
    "        op = AffineFEOperator(W,V,t_Ω)\n",
    "        R_sol = solve(op)\n",
    "\n",
    "        \n",
    "        S0 = S_sol\n",
    "        I0 = I_sol\n",
    "        R0 = R_sol\n",
    "        \n",
    "    end\n",
    "    return [S0, I0, R0]\n",
    "end "
   ]
  },
  {
   "cell_type": "code",
   "execution_count": null,
   "metadata": {},
   "outputs": [],
   "source": [
    "t_n_f = 70;\n",
    "const global t_n_c = 20;\n",
    "\n",
    "@inline F(t1, t0, u0) =  EulerMEF(t0, t1, t_n_f,u0)\n",
    "@inline G(t1, t0, u0) =  EulerMEF(t0, t1, t_n_c,u0)"
   ]
  },
  {
   "cell_type": "code",
   "execution_count": null,
   "metadata": {},
   "outputs": [],
   "source": [
    "function EDP_parareal()\n",
    "    U = Array{Gridap.Geometry.GenericCellField{true},3}(undef, N_intervalos+1, n_iter+1, 3);\n",
    "    Fn = Array{Gridap.Geometry.GenericCellField{true},2}(undef, N_intervalos+1, 3);\n",
    "    Gn = Array{Gridap.Geometry.GenericCellField{true},2}(undef, N_intervalos+1, 3);\n",
    "    G0 = Array{Gridap.Geometry.GenericCellField{true},2}(undef, N_intervalos+1, 3);\n",
    "\n",
    "    # 1.a) Inicialización (aproximción grosera)\n",
    "    U[1,1,1] = 1*S0_sol\n",
    "    U[1,1,2] = 1*I0_sol\n",
    "    U[1,1,3] = 1*R0_sol\n",
    "\n",
    "\n",
    "    for n=1:N_intervalos\n",
    "        G0[n+1,1], G0[n+1, 2], G0[n+1, 3] = 1*G( T[n+1],T[n],U[n,1,:] )\n",
    "        U[n+1,1,:] = G0[n+1,:]\n",
    "    end\n",
    "    \n",
    "        \n",
    "    # 1.b) Inicialización etapas parareal\n",
    "    @inbounds Threads.@threads for k=1:n_iter\n",
    "        U[1,k+1,1], U[1,k+1,2], U[1,k+1,3] = 1*S0_sol, 1*I0_sol, 1*R0_sol \n",
    "    end\n",
    "\n",
    "    # 2) Bucle parareal\n",
    "    for k=1:n_iter\n",
    " \n",
    "        # 2.a) Aproximación fina (paralela) en cada subintervalo\n",
    "        @inbounds Threads.@threads for n = 1:N_intervalos\n",
    "            Fn[n,1], Fn[n,2], Fn[n,3]  = 1*F( T[n+1], T[n], U[n,k,:] )\n",
    "        end\n",
    "        \n",
    "        # 2.b) Corrección secuencial\n",
    "        @inbounds for n = 1:N_intervalos\n",
    "            Gn[n+1,1], Gn[n+1, 2], Gn[n+1, 3] = 1*G( T[n+1],T[n],U[n,k+1,:] )\n",
    "            U[n+1, k+1, 1] = Fn[n,1] + Gn[n+1,1] - G0[n+1,1]\n",
    "            U[n+1, k+1, 2] = Fn[n,2] + Gn[n+1,2] - G0[n+1,2]\n",
    "            U[n+1, k+1, 3] = Fn[n,3] + Gn[n+1,3] - G0[n+1,3]\n",
    "        end\n",
    "        G0 = Gn\n",
    "    end\n",
    "    \n",
    "    return U\n",
    "    \n",
    "end"
   ]
  },
  {
   "cell_type": "code",
   "execution_count": null,
   "metadata": {},
   "outputs": [],
   "source": [
    "U_SIR = EDP_parareal();"
   ]
  },
  {
   "cell_type": "code",
   "execution_count": null,
   "metadata": {},
   "outputs": [],
   "source": [
    "using Plots"
   ]
  },
  {
   "cell_type": "code",
   "execution_count": null,
   "metadata": {},
   "outputs": [],
   "source": [
    "suma_S = [ sum(integrate(U_SIR[i,end,1],trian,quad)) for i in 1:N_intervalos+1]\n",
    "suma_I = [ sum(integrate(U_SIR[i,end,2],trian,quad)) for i in 1:N_intervalos+1]\n",
    "suma_R = [ sum(integrate(U_SIR[i,end,3],trian,quad)) for i in 1:N_intervalos+1];"
   ]
  },
  {
   "cell_type": "code",
   "execution_count": null,
   "metadata": {},
   "outputs": [],
   "source": [
    "vector_sumas = [suma_S,suma_I, suma_R ];\n",
    "vector_x = 1:N_intervalos;"
   ]
  },
  {
   "cell_type": "code",
   "execution_count": null,
   "metadata": {},
   "outputs": [],
   "source": [
    "plot(T, vector_sumas, label = [\"Susceptibles\" \"Infectados\" \"Recuperados\"], title=\"Evolución epidemia\", xlabel=\"Tiempo\", ylabel=\"Nº de individuos\")"
   ]
  },
  {
   "cell_type": "code",
   "execution_count": null,
   "metadata": {},
   "outputs": [],
   "source": [
    "for i=1:N_intervalos+1\n",
    "    sol = U_SIR[i,end,1]\n",
    "    writevtk(trian,\"Susceptibles$(lpad(i,2,'0'))\",cellfields=[\"sol\" => sol])\n",
    "end "
   ]
  },
  {
   "cell_type": "code",
   "execution_count": null,
   "metadata": {},
   "outputs": [],
   "source": [
    "for i=1:N_intervalos+1\n",
    "    sol = U_SIR[i,end,2]\n",
    "    writevtk(trian,\"Infectados$(lpad(i,2,'0'))\",cellfields=[\"sol\" => sol])\n",
    "end "
   ]
  },
  {
   "cell_type": "code",
   "execution_count": null,
   "metadata": {},
   "outputs": [],
   "source": [
    "for i=1:N_intervalos+1\n",
    "    sol = U_SIR[i,end,3]\n",
    "    writevtk(trian,\"Recuperados$(lpad(i,2,'0'))\",cellfields=[\"sol\" => sol])\n",
    "end "
   ]
  },
  {
   "cell_type": "markdown",
   "metadata": {},
   "source": [
    "## TIEMPOS PARAREAL-EULER"
   ]
  },
  {
   "cell_type": "code",
   "execution_count": null,
   "metadata": {},
   "outputs": [],
   "source": [
    "function EulerMEF2(t_init,t_end,n_t,t_n_f,u0)\n",
    "    U = Array{Gridap.Geometry.GenericCellField{true},2}(undef, N_intervalos+1, 3);\n",
    "    S0, I0, R0 = u0\n",
    "    dt = (t_end - t_init)/n_t\n",
    "    t = t_init\n",
    "    \n",
    "    U[1,1] = 1*S0_sol\n",
    "    U[1,2] = 1*I0_sol\n",
    "    U[1,3] = 1*R0_sol\n",
    "    \n",
    "    a_s(S,v) = (1 + dt*beta*I0)*S*v + dt*alpha*∇(v)*∇(S) \n",
    "    b_s(v) = v*S0\n",
    "    \n",
    "    a_i(I,v) = (1 - dt*beta*S0 + dt*nu)*I*v + dt * alpha*∇(v)*∇(I) \n",
    "    b_i(v) = v*I0\n",
    "    \n",
    "    a_r(R,v) = R*v + dt * alpha*∇(v)*∇(R)\n",
    "    b_r(v) = v*(R0 + dt* nu*I0)\n",
    "\n",
    "    cont = 2\n",
    "    \n",
    "    for i=1:n_t\n",
    "        t += dt\n",
    "        \n",
    "        t_Ω = AffineFETerm(a_s,b_s,trian,quad)\n",
    "        op = AffineFEOperator(W,V,t_Ω)\n",
    "        S_sol = solve(op)\n",
    "        \n",
    "        \n",
    "        t_Ω = AffineFETerm(a_i,b_i,trian,quad)\n",
    "        op = AffineFEOperator(W,V,t_Ω)\n",
    "        I_sol = solve(op)\n",
    "        \n",
    "        \n",
    "        t_Ω = AffineFETerm(a_r,b_r,trian,quad)\n",
    "        op = AffineFEOperator(W,V,t_Ω)\n",
    "        R_sol = solve(op)\n",
    "        \n",
    "        if i%t_n_f ==0\n",
    "            U[cont,1] = 1*S_sol\n",
    "            U[cont,2] = 1*I_sol\n",
    "            U[cont,3] = 1*R_sol\n",
    "            cont +=1\n",
    "        end\n",
    "        \n",
    "        S0 = S_sol\n",
    "        I0 = I_sol\n",
    "        R0 = R_sol\n",
    "        \n",
    "    end\n",
    "    return U\n",
    "end "
   ]
  },
  {
   "cell_type": "code",
   "execution_count": null,
   "metadata": {},
   "outputs": [],
   "source": [
    "t_n_euler = N_intervalos*t_n_f"
   ]
  },
  {
   "cell_type": "code",
   "execution_count": null,
   "metadata": {},
   "outputs": [],
   "source": [
    "tiempos = Array{Float64,2}(undef, 5,2)\n",
    "for i=1:5\n",
    "    t_n_f = 200 + (i-1)*100\n",
    "    t_n_euler = N_intervalos*t_n_f\n",
    "    t1 = @elapsed EulerMEF2(t_init,t_end,t_n_euler,t_n_f,U0)\n",
    "    t2 = @elapsed EDP_parareal()\n",
    "    tiempos[i,1] = t1\n",
    "    tiempos[i,2] = t2\n",
    "end"
   ]
  },
  {
   "cell_type": "code",
   "execution_count": null,
   "metadata": {},
   "outputs": [],
   "source": [
    "x_tiempos = LinRange(200, 600, 5);"
   ]
  },
  {
   "cell_type": "code",
   "execution_count": null,
   "metadata": {},
   "outputs": [],
   "source": [
    "using Plots"
   ]
  },
  {
   "cell_type": "code",
   "execution_count": null,
   "metadata": {},
   "outputs": [],
   "source": [
    "plot(x_tiempos, tiempos, label = [\"Euler\" \"Parareal\"])"
   ]
  },
  {
   "cell_type": "markdown",
   "metadata": {},
   "source": [
    "## ERROR PARAREAL FRENTE EULER"
   ]
  },
  {
   "cell_type": "code",
   "execution_count": null,
   "metadata": {},
   "outputs": [],
   "source": [
    "U_EULER = EulerMEF2(t_init,t_end,t_n_euler,t_n_f,U0)"
   ]
  },
  {
   "cell_type": "code",
   "execution_count": null,
   "metadata": {},
   "outputs": [],
   "source": [
    "error = U_EULER - U_SIR[:,end,:]"
   ]
  },
  {
   "cell_type": "code",
   "execution_count": null,
   "metadata": {},
   "outputs": [],
   "source": [
    "for i=1:N_intervalos+1\n",
    "    errS = error[i,1]\n",
    "    writevtk(trian,\"ErrorSuscep$(lpad(i,2,'0'))\",cellfields=[\"error_S\" => errS])\n",
    "end \n",
    "\n",
    "for i=1:N_intervalos+1\n",
    "    errI = error[i,2]\n",
    "    writevtk(trian,\"ErrorInfec$(lpad(i,2,'0'))\",cellfields=[\"error_I\" => errI])\n",
    "end \n",
    "\n",
    "for i=1:N_intervalos+1\n",
    "    errR = error[i,3]\n",
    "    writevtk(trian,\"ErrorRecup$(lpad(i,2,'0'))\",cellfields=[\"error_R\" => errR])\n",
    "end "
   ]
  },
  {
   "cell_type": "code",
   "execution_count": null,
   "metadata": {},
   "outputs": [],
   "source": [
    "L2(w) = w*w"
   ]
  },
  {
   "cell_type": "code",
   "execution_count": null,
   "metadata": {},
   "outputs": [],
   "source": [
    "error_s = error[:,1];\n",
    "error_i = error[:,2];\n",
    "error_r = error[:,3];"
   ]
  },
  {
   "cell_type": "code",
   "execution_count": null,
   "metadata": {},
   "outputs": [],
   "source": [
    "error_S_L2 = [sqrt(sum( integrate(L2(i),trian,quad) )) for i in error_s];\n",
    "error_I_L2 = [sqrt(sum( integrate(L2(i),trian,quad) )) for i in error_i];\n",
    "error_R_L2 = [sqrt(sum( integrate(L2(i),trian,quad) )) for i in error_r];"
   ]
  },
  {
   "cell_type": "code",
   "execution_count": null,
   "metadata": {},
   "outputs": [],
   "source": [
    "using Plots"
   ]
  },
  {
   "cell_type": "code",
   "execution_count": null,
   "metadata": {},
   "outputs": [],
   "source": [
    "y = [error_S_L2,error_I_L2,error_R_L2]\n",
    "plot(T, y)"
   ]
  },
  {
   "cell_type": "code",
   "execution_count": null,
   "metadata": {},
   "outputs": [],
   "source": [
    "sum(integrate(U_SIR[end,end,1],trian,quad) ) + sum(integrate(U_SIR[end,end,2],trian,quad) ) + sum(integrate(U_SIR[end,end,3],trian,quad) )"
   ]
  },
  {
   "cell_type": "code",
   "execution_count": null,
   "metadata": {},
   "outputs": [],
   "source": [
    "maximum(error_R_L2)"
   ]
  },
  {
   "cell_type": "code",
   "execution_count": null,
   "metadata": {},
   "outputs": [],
   "source": [
    "maximum(error_S_L2)"
   ]
  },
  {
   "cell_type": "code",
   "execution_count": null,
   "metadata": {},
   "outputs": [],
   "source": [
    "maximum(error_I_L2)"
   ]
  }
 ],
 "metadata": {
  "kernelspec": {
   "display_name": "Julia 1.4.1",
   "language": "julia",
   "name": "julia-1.4"
  },
  "language_info": {
   "file_extension": ".jl",
   "mimetype": "application/julia",
   "name": "julia",
   "version": "1.2.0"
  }
 },
 "nbformat": 4,
 "nbformat_minor": 2
}
